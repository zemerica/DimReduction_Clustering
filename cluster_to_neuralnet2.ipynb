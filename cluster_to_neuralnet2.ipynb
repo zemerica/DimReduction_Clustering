{
 "cells": [
  {
   "cell_type": "code",
   "execution_count": 1,
   "metadata": {
    "collapsed": true
   },
   "outputs": [
    {
     "name": "stderr",
     "output_type": "stream",
     "text": [
      "Using TensorFlow backend.\n"
     ]
    },
    {
     "name": "stdout",
     "output_type": "stream",
     "text": [
      "funky chicken goes cluck cluck CLUCK!!!\nclucka clucka!!!\ncoookoooocachoo!!!\nholy moley!\nbless you!!!\n"
     ]
    }
   ],
   "source": [
    "# Imports\n",
    "import numpy as np\n",
    "import time\n",
    "import matplotlib.pyplot as plt\n",
    "from keras.models import Sequential\n",
    "from keras.layers import Dense\n",
    "from keras.wrappers.scikit_learn import KerasClassifier\n",
    "from keras.backend import clear_session\n",
    "from sklearn.model_selection import GridSearchCV, RandomizedSearchCV, train_test_split\n",
    "from scipy.stats import randint as sp_randint\n",
    "from keras.layers import LeakyReLU\n",
    "from sklearn.metrics import make_scorer, cohen_kappa_score, accuracy_score, f1_score, precision_score, recall_score\n",
    "from sklearn.cluster import KMeans\n",
    "from sklearn.mixture import GaussianMixture\n",
    "from collections import defaultdict\n",
    "from sklearn.preprocessing import StandardScaler\n",
    "\n",
    "from utility3 import load_data, plot_learning_curves, report, plot_lines1"
   ]
  },
  {
   "cell_type": "code",
   "execution_count": 7,
   "metadata": {},
   "outputs": [
    {
     "name": "stdout",
     "output_type": "stream",
     "text": [
      "motions shapes: (11678, 64), (11678, 1)\n"
     ]
    }
   ],
   "source": [
    "X_train, X_val, X_test, y_train, y_val, y_test, class_names = load_data('motions', scale=True, valset=True)\n",
    "\n",
    "########## BEST FOUND PARAMETERS from HW1 #####\n",
    "n1 = 75\n",
    "n2 = 14\n",
    "mid_act = 'relu' #useleakyrelu is enabled...\n",
    "num_layers = 3\n",
    "optimizer = 'adam'\n",
    "activation = 'sigmoid' \n",
    "epo = 100 #10\n",
    "bat = 44 #18\n",
    "##############################################"
   ]
  },
  {
   "cell_type": "code",
   "execution_count": 4,
   "metadata": {},
   "outputs": [],
   "source": [
    ""
   ]
  },
  {
   "cell_type": "code",
   "execution_count": 6,
   "metadata": {},
   "outputs": [],
   "source": [
    "# Extract pseudo-DR Data\n",
    "\n",
    "pca_m_data = np.load('pca_m_data.npy')\n",
    "pca2_m_data = np.load('pca2_m_data.npy')\n",
    "ica_m_data = np.load('ica_m_data.npy')\n",
    "rca_m_data = np.load('rca_m_data.npy')\n",
    "tsne_m_data = np.load('ica_m_tsne_X.npy')  #np.load('X_tsne_m_set.npy')\n",
    "\n",
    "\n",
    "[pca_y2_val_gm, pca2_y2_val_gm, ica_y2_val_gm, rca_y2_val_gm] = np.load('motions_val_em.npy')\n",
    "[pca_y2_m, pca2_y2_m, ica_y2_m, rca_y2_m, tsne_y2_m, base_y2_m] = np.load('motions_em.npy')\n",
    "\n",
    "[X_pca_m, X_val_pca_m, pca_m] = pca_m_data\n",
    "[X_pca2_m, X_val_pca2_m, pca2_m] = pca2_m_data\n",
    "[X_ica_m, X_val_ica_m, ica_m] = ica_m_data\n",
    "[X_rca_m, X_val_rca_m, rca_m] = rca_m_data\n",
    "X_tsne_m = tsne_m_data\n",
    "\n",
    "#Scale it\n",
    "scaler_ica = StandardScaler()\n",
    "X_ica_m_scaled = scaler_ica.fit_transform(X_ica_m)\n",
    "X_val_ica_m_scaled = scaler_ica.transform(X_val_ica_m)\n",
    "scaler_tsne = StandardScaler()\n",
    "X_tsne_m_scaled = scaler_tsne.fit_transform(X_tsne_m)\n",
    "\n",
    "\n",
    "# KMeans Cluster\n",
    "#km_model = KMeans(n_clusters=26)\n",
    "#em_model = GaussianMixture(n_components=11)"
   ]
  },
  {
   "cell_type": "code",
   "execution_count": 13,
   "metadata": {},
   "outputs": [
    {
     "name": "stdout",
     "output_type": "stream",
     "text": [
      "Fit time = 20.705000162124634\nPred time = 20.736200094223022\nrock accuracy =   0.8061\npaper accuracy =   0.6646\nscissors accuracy =   0.7354\nokay accuracy =   0.5680\nCohen Kappa: 0.5916542337300414\nAccuracy: 0.6939539860888175\nF1 Score: 0.6945386350829506\nPrecision: 0.6978212156244401\nRecall: 0.6939539860888175\n"
     ]
    },
    {
     "name": "stdout",
     "output_type": "stream",
     "text": [
      "time elapsed: 20.98580026626587\n"
     ]
    }
   ],
   "source": [
    "# KM (PCA)\n",
    "km_fit_pca = KMeans(n_clusters=26)\n",
    "\n",
    "X_train_km_pca = km_fit_pca.fit_transform(X_pca_m)\n",
    "X_val_km_pca = km_fit_pca.transform(X_val_pca_m)\n",
    "\n",
    "km_pca_model = finalModel(X_train_km_pca, y_train, X_val_km_pca, y_val, learning_curves=False)"
   ]
  },
  {
   "cell_type": "code",
   "execution_count": 14,
   "metadata": {},
   "outputs": [
    {
     "name": "stdout",
     "output_type": "stream",
     "text": [
      "Fit time = 24.20959997177124\nPred time = 24.256400108337402\nrock accuracy =   0.8083\npaper accuracy =   0.6646\nscissors accuracy =   0.7750\nokay accuracy =   0.5044\nCohen Kappa: 0.5850551864232686\nAccuracy: 0.6891385767790262\nF1 Score: 0.6908626465688907\nPrecision: 0.6998092643506092\nRecall: 0.6891385767790262\n"
     ]
    },
    {
     "name": "stdout",
     "output_type": "stream",
     "text": [
      "time elapsed: 24.490400075912476\n"
     ]
    }
   ],
   "source": [
    "# KM (PCA Full)\n",
    "km_fit_pca2 = KMeans(n_clusters=26)\n",
    "\n",
    "X_train_km_pca2 = km_fit_pca2.fit_transform(X_pca2_m)\n",
    "X_val_km_pca2 = km_fit_pca2.transform(X_val_pca2_m)\n",
    "\n",
    "km_pca2_model = finalModel(X_train_km_pca2, y_train, X_val_km_pca2, y_val, learning_curves=False)"
   ]
  },
  {
   "cell_type": "code",
   "execution_count": 15,
   "metadata": {},
   "outputs": [
    {
     "name": "stdout",
     "output_type": "stream",
     "text": [
      "Fit time = 23.370800018310547\nPred time = 23.41760015487671\nrock accuracy =   0.0022\npaper accuracy =   0.8122\nscissors accuracy =   0.8396\nokay accuracy =   0.0000\nCohen Kappa: 0.2239822292345699\nAccuracy: 0.42215088282504015\nF1 Score: 0.5574375228245514\nPrecision: 0.8267859487120964\nRecall: 0.42215088282504015\n"
     ]
    },
    {
     "name": "stdout",
     "output_type": "stream",
     "text": [
      "time elapsed: 23.636000156402588\n"
     ]
    },
    {
     "name": "stderr",
     "output_type": "stream",
     "text": [
      "C:\\Users\\eking\\AppData\\Local\\Programs\\Python\\Python36\\lib\\site-packages\\sklearn\\metrics\\classification.py:1145: UndefinedMetricWarning: F-score is ill-defined and being set to 0.0 in labels with no true samples.\n  'recall', 'true', average, warn_for)\nC:\\Users\\eking\\AppData\\Local\\Programs\\Python\\Python36\\lib\\site-packages\\sklearn\\metrics\\classification.py:1145: UndefinedMetricWarning: Recall is ill-defined and being set to 0.0 in labels with no true samples.\n  'recall', 'true', average, warn_for)\n"
     ]
    }
   ],
   "source": [
    "# KM (ICA )\n",
    "km_fit_ica = KMeans(n_clusters=26)\n",
    "\n",
    "X_train_km_ica = km_fit_ica.fit_transform(X_ica_m)\n",
    "X_val_km_ica = km_fit_ica.transform(X_val_ica_m)\n",
    "\n",
    "km_ica_model = finalModel(X_train_km_ica, y_train, X_val_km_ica, y_val, learning_curves=False)"
   ]
  },
  {
   "cell_type": "code",
   "execution_count": 17,
   "metadata": {},
   "outputs": [
    {
     "name": "stdout",
     "output_type": "stream",
     "text": [
      "Fit time = 22.354000091552734\nPred time = 22.400799989700317\nrock accuracy =   0.7800\npaper accuracy =   0.6772\nscissors accuracy =   0.4854\nokay accuracy =   0.3004\nCohen Kappa: 0.4145293806865521\nAccuracy: 0.5612627073301231\nF1 Score: 0.5732763283752674\nPrecision: 0.6057403116625101\nRecall: 0.5612627073301231\n"
     ]
    },
    {
     "name": "stdout",
     "output_type": "stream",
     "text": [
      "time elapsed: 22.63479995727539\n"
     ]
    }
   ],
   "source": [
    "# KM (RCA )\n",
    "km_fit_rca = KMeans(n_clusters=26)\n",
    "\n",
    "X_train_km_rca = km_fit_rca.fit_transform(X_rca_m)\n",
    "X_val_km_rca = km_fit_rca.transform(X_val_rca_m)\n",
    "\n",
    "km_rca_model = finalModel(X_train_km_rca, y_train, X_val_km_rca, y_val, learning_curves=False)"
   ]
  },
  {
   "cell_type": "code",
   "execution_count": 20,
   "metadata": {},
   "outputs": [
    {
     "name": "stdout",
     "output_type": "stream",
     "text": [
      "Fit time = 21.72699999809265\nPred time = 21.83619999885559\nrock accuracy =   0.8565\n"
     ]
    },
    {
     "name": "stdout",
     "output_type": "stream",
     "text": [
      "paper accuracy =   0.9055\nscissors accuracy =   0.8072\nokay accuracy =   0.7758\nCohen Kappa: 0.7817788776367282\nAccuracy: 0.8363441723538071\nF1 Score: 0.8365735269510416\nPrecision: 0.8383195744070557\n"
     ]
    },
    {
     "name": "stdout",
     "output_type": "stream",
     "text": [
      "Recall: 0.8363441723538071\n"
     ]
    },
    {
     "name": "stdout",
     "output_type": "stream",
     "text": [
      "time elapsed: 22.367600202560425\n"
     ]
    }
   ],
   "source": [
    "# KM (TSNE)\n",
    "km_fit_tsne = KMeans(n_clusters=26)\n",
    "\n",
    "X_train_km_tsne = km_fit_tsne.fit_transform(X_tsne_m_scaled)\n",
    "#X_val_km_tsne = km_fit_tsne.transform(X_val_tsne_m)\n",
    "\n",
    "km_tsne_model = finalModel(X_train_km_tsne, y_train, X_train_km_tsne, y_train, learning_curves=False)"
   ]
  },
  {
   "cell_type": "code",
   "execution_count": 22,
   "metadata": {},
   "outputs": [
    {
     "name": "stdout",
     "output_type": "stream",
     "text": [
      "Fit time = 21.720600366592407\nPred time = 21.89520025253296\n"
     ]
    },
    {
     "name": "stdout",
     "output_type": "stream",
     "text": [
      "rock accuracy =   1.0000\npaper accuracy =   0.0000\nscissors accuracy =   0.0000\nokay accuracy =   0.0000\nCohen Kappa: 0.0\nAccuracy: 0.2507694366385655\nF1 Score: 0.40098427302877926\nPrecision: 1.0\n"
     ]
    },
    {
     "name": "stderr",
     "output_type": "stream",
     "text": [
      "C:\\Users\\eking\\AppData\\Local\\Programs\\Python\\Python36\\lib\\site-packages\\sklearn\\metrics\\classification.py:1145: UndefinedMetricWarning: F-score is ill-defined and being set to 0.0 in labels with no true samples.\n  'recall', 'true', average, warn_for)\nC:\\Users\\eking\\AppData\\Local\\Programs\\Python\\Python36\\lib\\site-packages\\sklearn\\metrics\\classification.py:1145: UndefinedMetricWarning: Recall is ill-defined and being set to 0.0 in labels with no true samples.\n  'recall', 'true', average, warn_for)\n"
     ]
    },
    {
     "name": "stdout",
     "output_type": "stream",
     "text": [
      "Recall: 0.2507694366385655\ntime elapsed: 22.33300018310547\n"
     ]
    },
    {
     "name": "stdout",
     "output_type": "stream",
     "text": [
      "Fit time = 17.897600173950195\nPred time = 18.024399995803833\nrock accuracy =   0.7850\n"
     ]
    },
    {
     "name": "stdout",
     "output_type": "stream",
     "text": [
      "paper accuracy =   0.8116\nscissors accuracy =   0.3963\nokay accuracy =   0.3316\nCohen Kappa: 0.44209614968788524\nAccuracy: 0.5816940987555199\nF1 Score: 0.6021908128602945\nPrecision: 0.653596843366605\nRecall: 0.5816940987555199\n"
     ]
    },
    {
     "name": "stdout",
     "output_type": "stream",
     "text": [
      "time elapsed: 18.445600032806396\n"
     ]
    },
    {
     "name": "stdout",
     "output_type": "stream",
     "text": [
      "Fit time = 18.288999795913696\nPred time = 18.41379976272583\nrock accuracy =   0.8554"
     ]
    },
    {
     "name": "stdout",
     "output_type": "stream",
     "text": [
      "\npaper accuracy =   0.9370\nscissors accuracy =   0.7678\nokay accuracy =   0.7277\nCohen Kappa: 0.7628532490441354\nAccuracy: 0.8221597751906865\nF1 Score: 0.8233234194402865"
     ]
    },
    {
     "name": "stdout",
     "output_type": "stream",
     "text": [
      "\nPrecision: 0.8306031549459763\nRecall: 0.8221597751906865\n"
     ]
    },
    {
     "name": "stdout",
     "output_type": "stream",
     "text": [
      "time elapsed: 18.928600072860718\n"
     ]
    },
    {
     "name": "stdout",
     "output_type": "stream",
     "text": [
      "Fit time = 17.707800149917603\nPred time = 17.816999912261963\nrock accuracy =   0.8703\n"
     ]
    },
    {
     "name": "stdout",
     "output_type": "stream",
     "text": [
      "paper accuracy =   0.9408\nscissors accuracy =   0.7765\nokay accuracy =   0.7165\nCohen Kappa: 0.7682102788285963\nAccuracy: 0.8261742272179847\nF1 Score: 0.8280130941972376\nPrecision: 0.835522322160759\nRecall: 0.8261742272179847\n"
     ]
    },
    {
     "name": "stdout",
     "output_type": "stream",
     "text": [
      "time elapsed: 18.239200115203857\n"
     ]
    },
    {
     "name": "stdout",
     "output_type": "stream",
     "text": [
      "Fit time = 17.224000215530396\nPred time = 17.31760001182556\nrock accuracy =   0.8442\npaper accuracy =   0.9418"
     ]
    },
    {
     "name": "stdout",
     "output_type": "stream",
     "text": [
      "\nscissors accuracy =   0.7770\nokay accuracy =   0.7560\nCohen Kappa: 0.773206185750154\nAccuracy: 0.8299210491101298\nF1 Score: 0.830748632182719\nPrecision: 0.8365970677982948\nRecall: 0.8299210491101298"
     ]
    },
    {
     "name": "stdout",
     "output_type": "stream",
     "text": [
      "\n"
     ]
    },
    {
     "name": "stdout",
     "output_type": "stream",
     "text": [
      "time elapsed: 17.848000049591064\n"
     ]
    },
    {
     "name": "stdout",
     "output_type": "stream",
     "text": [
      "Fit time = 17.26740002632141\nPred time = 17.392200231552124\nrock accuracy =   0.8655"
     ]
    },
    {
     "name": "stdout",
     "output_type": "stream",
     "text": [
      "\npaper accuracy =   0.9386\nscissors accuracy =   0.7846\nokay accuracy =   0.7597\nCohen Kappa: 0.7830198074874237\nAccuracy: 0.8372808778268434\nF1 Score: 0.8382272301392061\nPrecision: 0.8431269893336671\n"
     ]
    },
    {
     "name": "stdout",
     "output_type": "stream",
     "text": [
      "Recall: 0.8372808778268434\ntime elapsed: 17.844600439071655\n"
     ]
    },
    {
     "name": "stdout",
     "output_type": "stream",
     "text": [
      "Fit time = 17.18500018119812\nPred time = 17.29419994354248\nrock accuracy =   0.8634\npaper accuracy =   0.9429\n"
     ]
    },
    {
     "name": "stdout",
     "output_type": "stream",
     "text": [
      "scissors accuracy =   0.8008\nokay accuracy =   0.7341\nCohen Kappa: 0.780530463208537\nAccuracy: 0.8354074668807707\nF1 Score: 0.8368520157788542\nPrecision: 0.8426618628960388\nRecall: 0.8354074668807707\n"
     ]
    },
    {
     "name": "stdout",
     "output_type": "stream",
     "text": [
      "time elapsed: 17.715400218963623\n"
     ]
    },
    {
     "name": "stdout",
     "output_type": "stream",
     "text": [
      "Fit time = 17.29260015487671\nPred time = 17.386200189590454\nrock accuracy =   0.8607\npaper accuracy =   0.9360\n"
     ]
    },
    {
     "name": "stdout",
     "output_type": "stream",
     "text": [
      "scissors accuracy =   0.8024\nokay accuracy =   0.7405\nCohen Kappa: 0.7799942313666098\nAccuracy: 0.8350060216780409\nF1 Score: 0.8362583536105317\nPrecision: 0.841412037267068\nRecall: 0.8350060216780409\n"
     ]
    },
    {
     "name": "stdout",
     "output_type": "stream",
     "text": [
      "time elapsed: 17.823000192642212\n"
     ]
    },
    {
     "name": "stdout",
     "output_type": "stream",
     "text": [
      "Fit time = 17.32260012626648\nPred time = 17.431800365447998\nrock accuracy =   0.8543\npaper accuracy =   0.9456\n"
     ]
    },
    {
     "name": "stdout",
     "output_type": "stream",
     "text": [
      "scissors accuracy =   0.7819\nokay accuracy =   0.7603\nCohen Kappa: 0.7808782730536177\nAccuracy: 0.835675097015924\nF1 Score: 0.8367252163226755\nPrecision: 0.8424593373950023\nRecall: 0.835675097015924\n"
     ]
    },
    {
     "name": "stdout",
     "output_type": "stream",
     "text": [
      "time elapsed: 17.837400197982788\n"
     ]
    },
    {
     "name": "stdout",
     "output_type": "stream",
     "text": [
      "Fit time = 17.34599995613098\nPred time = 17.470800161361694\nrock accuracy =   0.8453\n"
     ]
    },
    {
     "name": "stdout",
     "output_type": "stream",
     "text": [
      "paper accuracy =   0.9493\nscissors accuracy =   0.7932\nokay accuracy =   0.7507\nCohen Kappa: 0.7796351905014501\nAccuracy: 0.8347383915428878\nF1 Score: 0.8357582344495073\nPrecision: 0.8419532469871887\nRecall: 0.8347383915428878\n"
     ]
    },
    {
     "name": "stdout",
     "output_type": "stream",
     "text": [
      "time elapsed: 18.001199960708618\n"
     ]
    },
    {
     "name": "stdout",
     "output_type": "stream",
     "text": [
      "Fit time = 17.434800148010254\nPred time = 17.559600114822388\nrock accuracy =   0.8629\n"
     ]
    },
    {
     "name": "stdout",
     "output_type": "stream",
     "text": [
      "paper accuracy =   0.9392\nscissors accuracy =   0.7943\nokay accuracy =   0.7549\nCohen Kappa: 0.7839145239892692\nAccuracy: 0.8379499531647263\nF1 Score: 0.8390348410071183\nPrecision: 0.84398715661829\nRecall: 0.8379499531647263\n"
     ]
    },
    {
     "name": "stdout",
     "output_type": "stream",
     "text": [
      "time elapsed: 17.98080015182495\n"
     ]
    },
    {
     "name": "stdout",
     "output_type": "stream",
     "text": [
      "Fit time = 17.471999883651733\nPred time = 17.56559991836548\nrock accuracy =   0.8613\npaper accuracy =   0.9354\n"
     ]
    },
    {
     "name": "stdout",
     "output_type": "stream",
     "text": [
      "scissors accuracy =   0.7921\nokay accuracy =   0.7645\nCohen Kappa: 0.7846288370888275\nAccuracy: 0.8384852134350328\nF1 Score: 0.8393155013796818\nPrecision: 0.8434390033140807\nRecall: 0.8384852134350328\n"
     ]
    },
    {
     "name": "stdout",
     "output_type": "stream",
     "text": [
      "time elapsed: 17.98680019378662\n"
     ]
    },
    {
     "name": "stdout",
     "output_type": "stream",
     "text": [
      "Fit time = 17.663600206375122\nPred time = 17.77280044555664\nrock accuracy =   0.8559\npaper accuracy =   0.9376\n"
     ]
    },
    {
     "name": "stdout",
     "output_type": "stream",
     "text": [
      "scissors accuracy =   0.8018\nokay accuracy =   0.7475\nCohen Kappa: 0.7810638519622692\nAccuracy: 0.8358089120835006\nF1 Score: 0.8368073888196887\nPrecision: 0.8418607371358933\nRecall: 0.8358089120835006\n"
     ]
    },
    {
     "name": "stdout",
     "output_type": "stream",
     "text": [
      "time elapsed: 18.194000244140625\n"
     ]
    },
    {
     "name": "stdout",
     "output_type": "stream",
     "text": [
      "Fit time = 19.07760000228882\nPred time = 19.186800003051758\nrock accuracy =   0.8661\npaper accuracy =   0.9370"
     ]
    },
    {
     "name": "stdout",
     "output_type": "stream",
     "text": [
      "\nscissors accuracy =   0.7975\nokay accuracy =   0.7581\nCohen Kappa: 0.7864131217672955\nAccuracy: 0.8398233641107988\nF1 Score: 0.8407937787005553\nPrecision: 0.845368089367909\nRecall: 0.8398233641107988\n"
     ]
    },
    {
     "name": "stdout",
     "output_type": "stream",
     "text": [
      "time elapsed: 19.630600214004517\n"
     ]
    },
    {
     "name": "stdout",
     "output_type": "stream",
     "text": [
      "Fit time = 23.151600122451782\nPred time = 23.26080012321472\nrock accuracy =   0.8511\n"
     ]
    },
    {
     "name": "stdout",
     "output_type": "stream",
     "text": [
      "paper accuracy =   0.9445\nscissors accuracy =   0.7792\nokay accuracy =   0.7597\nCohen Kappa: 0.778379983862976\nAccuracy: 0.8338016860698515\nF1 Score: 0.8347818409571489\nPrecision: 0.8405123421608447\nRecall: 0.8338016860698515"
     ]
    },
    {
     "name": "stdout",
     "output_type": "stream",
     "text": [
      "\n"
     ]
    },
    {
     "name": "stdout",
     "output_type": "stream",
     "text": [
      "time elapsed: 23.855600118637085\n"
     ]
    },
    {
     "name": "stdout",
     "output_type": "stream",
     "text": [
      "Fit time = 19.564000129699707\nPred time = 19.657600164413452\nrock accuracy =   0.8383\npaper accuracy =   0.9472\n"
     ]
    },
    {
     "name": "stdout",
     "output_type": "stream",
     "text": [
      "scissors accuracy =   0.8013\nokay accuracy =   0.7720\nCohen Kappa: 0.7864145497243012\nAccuracy: 0.8398233641107988\nF1 Score: 0.8403521946904904\nPrecision: 0.8457140902357956\nRecall: 0.8398233641107988\n"
     ]
    },
    {
     "name": "stdout",
     "output_type": "stream",
     "text": [
      "time elapsed: 20.078799962997437\n"
     ]
    },
    {
     "name": "stdout",
     "output_type": "stream",
     "text": [
      "Fit time = 20.44860005378723\nPred time = 20.573400020599365\nrock accuracy =   0.7919\n"
     ]
    },
    {
     "name": "stdout",
     "output_type": "stream",
     "text": [
      "paper accuracy =   0.9408\nscissors accuracy =   0.7819\nokay accuracy =   0.8137\nCohen Kappa: 0.7762370232692299\nAccuracy: 0.8321959052589322\nF1 Score: 0.8318386536545823\n"
     ]
    },
    {
     "name": "stdout",
     "output_type": "stream",
     "text": [
      "Precision: 0.839128176733412\nRecall: 0.8321959052589322\n"
     ]
    },
    {
     "name": "stdout",
     "output_type": "stream",
     "text": [
      "time elapsed: 21.166200160980225\n"
     ]
    },
    {
     "name": "stdout",
     "output_type": "stream",
     "text": [
      "Fit time = 21.441200017929077\nPred time = 21.550400257110596\nrock accuracy =   0.8645\n"
     ]
    },
    {
     "name": "stdout",
     "output_type": "stream",
     "text": [
      "paper accuracy =   0.9525\nscissors accuracy =   0.7835\nokay accuracy =   0.7608\nCohen Kappa: 0.7873005032471847\nAccuracy: 0.8404924394486819\nF1 Score: 0.8415909750051511\nPrecision: 0.8480708336091476\nRecall: 0.8404924394486819\n"
     ]
    },
    {
     "name": "stdout",
     "output_type": "stream",
     "text": [
      "time elapsed: 21.988200187683105\n"
     ]
    },
    {
     "name": "stdout",
     "output_type": "stream",
     "text": [
      "Fit time = 18.83240008354187\nPred time = 18.988399982452393\nrock accuracy =   0.8613\n"
     ]
    },
    {
     "name": "stdout",
     "output_type": "stream",
     "text": [
      "paper accuracy =   0.9424\nscissors accuracy =   0.7900\nokay accuracy =   0.7539\nCohen Kappa: 0.7826657655996785\nAccuracy: 0.83701324769169\nF1 Score: 0.8380057518563966\n"
     ]
    },
    {
     "name": "stdout",
     "output_type": "stream",
     "text": [
      "Precision: 0.8433361191713618\nRecall: 0.83701324769169\n"
     ]
    },
    {
     "name": "stdout",
     "output_type": "stream",
     "text": [
      "time elapsed: 19.549999952316284\n"
     ]
    },
    {
     "name": "stdout",
     "output_type": "stream",
     "text": [
      "Fit time = 19.33400011062622\nPred time = 19.521199941635132\n"
     ]
    },
    {
     "name": "stdout",
     "output_type": "stream",
     "text": [
      "rock accuracy =   0.8607\npaper accuracy =   0.9381\nscissors accuracy =   0.8083\nokay accuracy =   0.7485\n"
     ]
    },
    {
     "name": "stdout",
     "output_type": "stream",
     "text": [
      "Cohen Kappa: 0.7853486355794844\nAccuracy: 0.8390204737053393\nF1 Score: 0.8400364968349968\nPrecision: 0.8448486724969712\nRecall: 0.8390204737053393\n"
     ]
    },
    {
     "name": "stdout",
     "output_type": "stream",
     "text": [
      "time elapsed: 20.162800073623657\n"
     ]
    },
    {
     "name": "stdout",
     "output_type": "stream",
     "text": [
      "Fit time = 20.443600177764893\n"
     ]
    },
    {
     "name": "stdout",
     "output_type": "stream",
     "text": [
      "Pred time = 20.677600145339966\nrock accuracy =   0.8517\npaper accuracy =   0.9461\nscissors accuracy =   0.7959\nokay accuracy =   0.7640"
     ]
    },
    {
     "name": "stdout",
     "output_type": "stream",
     "text": [
      "\nCohen Kappa: 0.7860571965112727\nAccuracy: 0.8395557339756456\nF1 Score: 0.8403867185262109\nPrecision: 0.8453863433988159\nRecall: 0.8395557339756456\n"
     ]
    },
    {
     "name": "stdout",
     "output_type": "stream",
     "text": [
      "time elapsed: 21.192400217056274\n"
     ]
    },
    {
     "name": "stdout",
     "output_type": "stream",
     "text": [
      "Fit time = 22.678800106048584\nPred time = 22.801000118255615\nrock accuracy =   0.8581"
     ]
    },
    {
     "name": "stdout",
     "output_type": "stream",
     "text": [
      "\npaper accuracy =   0.9413\nscissors accuracy =   0.8040\nokay accuracy =   0.7587\nCohen Kappa: 0.7874868482708602\nAccuracy: 0.8406262545162585\nF1 Score: 0.841446336788993\n"
     ]
    },
    {
     "name": "stdout",
     "output_type": "stream",
     "text": [
      "Precision: 0.8463529034422124\nRecall: 0.8406262545162585\n"
     ]
    },
    {
     "name": "stdout",
     "output_type": "stream",
     "text": [
      "time elapsed: 23.342400074005127\n"
     ]
    },
    {
     "name": "stdout",
     "output_type": "stream",
     "text": [
      "Fit time = 22.30240035057068\nPred time = 22.442800283432007\n"
     ]
    },
    {
     "name": "stdout",
     "output_type": "stream",
     "text": [
      "rock accuracy =   0.8821\npaper accuracy =   0.9386\nscissors accuracy =   0.7867\nokay accuracy =   0.7464\nCohen Kappa: 0.7848016919323755\nAccuracy: 0.8386190285026094\n"
     ]
    },
    {
     "name": "stdout",
     "output_type": "stream",
     "text": [
      "F1 Score: 0.8400449130705082\nPrecision: 0.8458160125473534\nRecall: 0.8386190285026094\n"
     ]
    },
    {
     "name": "stdout",
     "output_type": "stream",
     "text": [
      "time elapsed: 23.08240032196045\n"
     ]
    },
    {
     "name": "stdout",
     "output_type": "stream",
     "text": [
      "Fit time = 19.292200326919556\nPred time = 19.401400327682495\nrock accuracy =   0.8586\n"
     ]
    },
    {
     "name": "stdout",
     "output_type": "stream",
     "text": [
      "paper accuracy =   0.9328\nscissors accuracy =   0.7905\nokay accuracy =   0.7715\nCohen Kappa: 0.78462683664441\nAccuracy: 0.8384852134350328\nF1 Score: 0.8391337349646558\nPrecision: 0.8431371338319138\nRecall: 0.8384852134350328\n"
     ]
    },
    {
     "name": "stdout",
     "output_type": "stream",
     "text": [
      "time elapsed: 19.858800172805786\n"
     ]
    },
    {
     "name": "stdout",
     "output_type": "stream",
     "text": [
      "Fit time = 20.544399976730347\nPred time = 20.653600215911865\nrock accuracy =   0.8666\n"
     ]
    },
    {
     "name": "stdout",
     "output_type": "stream",
     "text": [
      "paper accuracy =   0.9434\nscissors accuracy =   0.7954\nokay accuracy =   0.7555\nCohen Kappa: 0.7871262066914367\nAccuracy: 0.8403586243811053\nF1 Score: 0.8414530780135845\n"
     ]
    },
    {
     "name": "stdout",
     "output_type": "stream",
     "text": [
      "Precision: 0.8468351340906565\nRecall: 0.8403586243811053\n"
     ]
    },
    {
     "name": "stdout",
     "output_type": "stream",
     "text": [
      "time elapsed: 21.215200185775757\n"
     ]
    },
    {
     "name": "stdout",
     "output_type": "stream",
     "text": [
      "Fit time = 18.71679997444153\nPred time = 18.841599941253662\n"
     ]
    },
    {
     "name": "stdout",
     "output_type": "stream",
     "text": [
      "rock accuracy =   0.8741\npaper accuracy =   0.9461\nscissors accuracy =   0.7910\nokay accuracy =   0.7517\n"
     ]
    },
    {
     "name": "stdout",
     "output_type": "stream",
     "text": [
      "Cohen Kappa: 0.7878369606219593\nAccuracy: 0.8408938846514118\nF1 Score: 0.8422000977813721\nPrecision: 0.848218501364401\nRecall: 0.8408938846514118\n"
     ]
    },
    {
     "name": "stdout",
     "output_type": "stream",
     "text": [
      "time elapsed: 19.450999975204468\n"
     ]
    },
    {
     "name": "stdout",
     "output_type": "stream",
     "text": [
      "Fit time = 20.437599897384644\nPred time = 20.57800006866455\nrock accuracy =   0.8618"
     ]
    },
    {
     "name": "stdout",
     "output_type": "stream",
     "text": [
      "\npaper accuracy =   0.9424\nscissors accuracy =   0.7927\nokay accuracy =   0.7726\nCohen Kappa: 0.7899793124493496"
     ]
    },
    {
     "name": "stdout",
     "output_type": "stream",
     "text": [
      "\nAccuracy: 0.842499665462331\nF1 Score: 0.843230033079289\nPrecision: 0.847938022522359\nRecall: 0.842499665462331\n"
     ]
    },
    {
     "name": "stdout",
     "output_type": "stream",
     "text": [
      "time elapsed: 21.264400005340576\n"
     ]
    },
    {
     "name": "stdout",
     "output_type": "stream",
     "text": [
      "Fit time = 24.816200017929077\nPred time = 24.925400257110596\nrock accuracy =   0.8602"
     ]
    },
    {
     "name": "stdout",
     "output_type": "stream",
     "text": [
      "\npaper accuracy =   0.9477\nscissors accuracy =   0.8121\nokay accuracy =   0.7523\nCohen Kappa: 0.7908805866375309\nAccuracy: 0.8431687408002141\nF1 Score: 0.8442224920479077\nPrecision: 0.8495672367231052\n"
     ]
    },
    {
     "name": "stdout",
     "output_type": "stream",
     "text": [
      "Recall: 0.8431687408002141\n"
     ]
    },
    {
     "name": "stdout",
     "output_type": "stream",
     "text": [
      "time elapsed: 25.433000087738037\n"
     ]
    },
    {
     "name": "stdout",
     "output_type": "stream",
     "text": [
      "Fit time = 24.730400323867798\nPred time = 24.85520029067993\nrock accuracy =   0.8602\n"
     ]
    },
    {
     "name": "stdout",
     "output_type": "stream",
     "text": [
      "paper accuracy =   0.9445\nscissors accuracy =   0.8062\nokay accuracy =   0.7485\nCohen Kappa: 0.7865968409474684\nAccuracy: 0.8399571791783755\nF1 Score: 0.841149160255484\n"
     ]
    },
    {
     "name": "stdout",
     "output_type": "stream",
     "text": [
      "Precision: 0.8461965950491414\nRecall: 0.8399571791783755\n"
     ]
    },
    {
     "name": "stdout",
     "output_type": "stream",
     "text": [
      "time elapsed: 25.448000192642212\n"
     ]
    },
    {
     "name": "stdout",
     "output_type": "stream",
     "text": [
      "Fit time = 20.364399909973145\nPred time = 20.489200115203857\nrock accuracy =   0.8533\npaper accuracy =   0.9408\n"
     ]
    },
    {
     "name": "stdout",
     "output_type": "stream",
     "text": [
      "scissors accuracy =   0.8013\nokay accuracy =   0.7699\nCohen Kappa: 0.788556413573059\nAccuracy: 0.8414291449217182\nF1 Score: 0.8420674878205481\nPrecision: 0.8466152364675441\nRecall: 0.8414291449217182\n"
     ]
    },
    {
     "name": "stdout",
     "output_type": "stream",
     "text": [
      "time elapsed: 21.035199880599976\n"
     ]
    },
    {
     "name": "stdout",
     "output_type": "stream",
     "text": [
      "Fit time = 19.643400192260742\nPred time = 19.768200397491455\n"
     ]
    },
    {
     "name": "stdout",
     "output_type": "stream",
     "text": [
      "rock accuracy =   0.8666\npaper accuracy =   0.9477\nscissors accuracy =   0.8002\nokay accuracy =   0.7544\nCohen Kappa: 0.7898034448839673\n"
     ]
    },
    {
     "name": "stdout",
     "output_type": "stream",
     "text": [
      "Accuracy: 0.8423658503947544\nF1 Score: 0.843497190705323\nPrecision: 0.8492259751781964\nRecall: 0.8423658503947544\n"
     ]
    },
    {
     "name": "stdout",
     "output_type": "stream",
     "text": [
      "time elapsed: 20.439000368118286\n"
     ]
    },
    {
     "name": "stdout",
     "output_type": "stream",
     "text": [
      "Fit time = 26.30139994621277\nPred time = 26.426199913024902\nrock accuracy =   0.8661"
     ]
    },
    {
     "name": "stdout",
     "output_type": "stream",
     "text": [
      "\npaper accuracy =   0.9445\nscissors accuracy =   0.7997\nokay accuracy =   0.7507\nCohen Kappa: 0.7871279043563608\nAccuracy: 0.8403586243811053\n"
     ]
    },
    {
     "name": "stdout",
     "output_type": "stream",
     "text": [
      "F1 Score: 0.8415143162947316\nPrecision: 0.8470673311152771\nRecall: 0.8403586243811053\n"
     ]
    },
    {
     "name": "stdout",
     "output_type": "stream",
     "text": [
      "time elapsed: 27.051199913024902\n"
     ]
    },
    {
     "name": "stdout",
     "output_type": "stream",
     "text": [
      "Fit time = 25.147000074386597\nPred time = 25.287400007247925\n"
     ]
    },
    {
     "name": "stdout",
     "output_type": "stream",
     "text": [
      "rock accuracy =   0.8597\npaper accuracy =   0.9408\nscissors accuracy =   0.8008\nokay accuracy =   0.7678\n"
     ]
    },
    {
     "name": "stdout",
     "output_type": "stream",
     "text": [
      "Cohen Kappa: 0.7898041324747751\nAccuracy: 0.8423658503947544\nF1 Score: 0.8431959617912334\nPrecision: 0.8477264203814536\nRecall: 0.8423658503947544\n"
     ]
    },
    {
     "name": "stdout",
     "output_type": "stream",
     "text": [
      "time elapsed: 25.989399909973145\n"
     ]
    },
    {
     "name": "stdout",
     "output_type": "stream",
     "text": [
      "Fit time = 25.065200328826904\nPred time = 25.221199989318848\n"
     ]
    },
    {
     "name": "stdout",
     "output_type": "stream",
     "text": [
      "rock accuracy =   0.8415\npaper accuracy =   0.9456\nscissors accuracy =   0.8045\nokay accuracy =   0.7694\nCohen Kappa: 0.7871309895643127\nAccuracy: 0.8403586243811053\n"
     ]
    },
    {
     "name": "stdout",
     "output_type": "stream",
     "text": [
      "F1 Score: 0.8409894910373704\nPrecision: 0.8458672917333818\nRecall: 0.8403586243811053\n"
     ]
    },
    {
     "name": "stdout",
     "output_type": "stream",
     "text": [
      "time elapsed: 25.856200218200684\n"
     ]
    },
    {
     "name": "stdout",
     "output_type": "stream",
     "text": [
      "Fit time = 24.835400104522705\nPred time = 25.006999969482422\n"
     ]
    },
    {
     "name": "stdout",
     "output_type": "stream",
     "text": [
      "rock accuracy =   0.8709\npaper accuracy =   0.9424\nscissors accuracy =   0.7986\nokay accuracy =   0.7565\n"
     ]
    },
    {
     "name": "stdout",
     "output_type": "stream",
     "text": [
      "Cohen Kappa: 0.7896248791747884\nAccuracy: 0.8422320353271778\nF1 Score: 0.8433179459136428\nPrecision: 0.8482807800159936\nRecall: 0.8422320353271778\n"
     ]
    },
    {
     "name": "stdout",
     "output_type": "stream",
     "text": [
      "time elapsed: 25.616400003433228\n"
     ]
    },
    {
     "name": "stdout",
     "output_type": "stream",
     "text": [
      "Fit time = 23.250200033187866\nPred time = 23.359400272369385\nrock accuracy =   0.8623"
     ]
    },
    {
     "name": "stdout",
     "output_type": "stream",
     "text": [
      "\npaper accuracy =   0.9461\nscissors accuracy =   0.7954\nokay accuracy =   0.7635\nCohen Kappa: 0.7892676011710893\nAccuracy: 0.8419644051920246\nF1 Score: 0.8428747611312118\n"
     ]
    },
    {
     "name": "stdout",
     "output_type": "stream",
     "text": [
      "Precision: 0.8480060671895745\nRecall: 0.8419644051920246\n"
     ]
    },
    {
     "name": "stdout",
     "output_type": "stream",
     "text": [
      "time elapsed: 23.874200105667114\n"
     ]
    },
    {
     "name": "stdout",
     "output_type": "stream",
     "text": [
      "Fit time = 22.949400186538696\nPred time = 23.071600198745728\nrock accuracy =   0.8543"
     ]
    },
    {
     "name": "stdout",
     "output_type": "stream",
     "text": [
      "\npaper accuracy =   0.9466\nscissors accuracy =   0.8105\nokay accuracy =   0.7581\nCohen Kappa: 0.7899872505610606\nAccuracy: 0.842499665462331\nF1 Score: 0.8434251352962427"
     ]
    },
    {
     "name": "stdout",
     "output_type": "stream",
     "text": [
      "\nPrecision: 0.8485133834343709\nRecall: 0.842499665462331\n"
     ]
    },
    {
     "name": "stdout",
     "output_type": "stream",
     "text": [
      "time elapsed: 23.63320016860962\n"
     ]
    },
    {
     "name": "stdout",
     "output_type": "stream",
     "text": [
      "Fit time = 18.663000345230103\nPred time = 18.756600379943848\nrock accuracy =   0.8773\npaper accuracy =   0.9434\n"
     ]
    },
    {
     "name": "stdout",
     "output_type": "stream",
     "text": [
      "scissors accuracy =   0.7829\nokay accuracy =   0.7779\nCohen Kappa: 0.7940794660562291\nAccuracy: 0.8455774120165931\nF1 Score: 0.8464593916146818\nPrecision: 0.8515244198768531\nRecall: 0.8455774120165931\n"
     ]
    },
    {
     "name": "stdout",
     "output_type": "stream",
     "text": [
      "time elapsed: 19.24120020866394\n"
     ]
    },
    {
     "name": "stdout",
     "output_type": "stream",
     "text": [
      "Fit time = 21.369800090789795\nPred time = 21.479000091552734\nrock accuracy =   0.8890\n"
     ]
    },
    {
     "name": "stdout",
     "output_type": "stream",
     "text": [
      "paper accuracy =   0.9413\nscissors accuracy =   0.7991\nokay accuracy =   0.7304\nCohen Kappa: 0.7867705266648497\nAccuracy: 0.8400909942459521\nF1 Score: 0.8418721939480661"
     ]
    },
    {
     "name": "stdout",
     "output_type": "stream",
     "text": [
      "\nPrecision: 0.8484091822131964\nRecall: 0.8400909942459521\n"
     ]
    },
    {
     "name": "stdout",
     "output_type": "stream",
     "text": [
      "time elapsed: 22.105000019073486\n"
     ]
    },
    {
     "name": "stdout",
     "output_type": "stream",
     "text": [
      "Fit time = 21.78920006752014\nPred time = 21.89840030670166\nrock accuracy =   0.8340\npaper accuracy =   0.9445"
     ]
    },
    {
     "name": "stdout",
     "output_type": "stream",
     "text": [
      "\nscissors accuracy =   0.7991\nokay accuracy =   0.7950\nCohen Kappa: 0.7910534185965852\nAccuracy: 0.8433025558677907\nF1 Score: 0.8434889689901496\nPrecision: 0.84824526340821\nRecall: 0.8433025558677907"
     ]
    },
    {
     "name": "stdout",
     "output_type": "stream",
     "text": [
      "\n"
     ]
    },
    {
     "name": "stdout",
     "output_type": "stream",
     "text": [
      "time elapsed: 22.36740016937256\n"
     ]
    },
    {
     "name": "stdout",
     "output_type": "stream",
     "text": [
      "Fit time = 19.392399787902832\nPred time = 19.50160002708435\nrock accuracy =   0.8735\npaper accuracy =   0.9386"
     ]
    },
    {
     "name": "stdout",
     "output_type": "stream",
     "text": [
      "\nscissors accuracy =   0.7916\nokay accuracy =   0.7656\nCohen Kappa: 0.7899787056580686\nAccuracy: 0.842499665462331\nF1 Score: 0.8435231086177609\nPrecision: 0.8480225224381119\nRecall: 0.842499665462331\n"
     ]
    },
    {
     "name": "stdout",
     "output_type": "stream",
     "text": [
      "time elapsed: 19.93840003013611\n"
     ]
    },
    {
     "name": "stdout",
     "output_type": "stream",
     "text": [
      "Fit time = 19.34980010986328\nPred time = 19.45900011062622\nrock accuracy =   0.8821\n"
     ]
    },
    {
     "name": "stdout",
     "output_type": "stream",
     "text": [
      "paper accuracy =   0.9456\nscissors accuracy =   0.7873\nokay accuracy =   0.7528\nCohen Kappa: 0.7894406220042088\nAccuracy: 0.8420982202596012\nF1 Score: 0.8434184500800658\nPrecision: 0.8495536800753958\nRecall: 0.8420982202596012\n"
     ]
    },
    {
     "name": "stdout",
     "output_type": "stream",
     "text": [
      "time elapsed: 19.917400121688843\n"
     ]
    },
    {
     "name": "stdout",
     "output_type": "stream",
     "text": [
      "Fit time = 19.302800178527832\nPred time = 19.396400213241577\nrock accuracy =   0.8783\npaper accuracy =   0.9498\n"
     ]
    },
    {
     "name": "stdout",
     "output_type": "stream",
     "text": [
      "scissors accuracy =   0.7970\nokay accuracy =   0.7363\nCohen Kappa: 0.7873050943893731\nAccuracy: 0.8404924394486819\nF1 Score: 0.8420843436364288\nPrecision: 0.8487939507167239\nRecall: 0.8404924394486819\n"
     ]
    },
    {
     "name": "stdout",
     "output_type": "stream",
     "text": [
      "time elapsed: 19.864400148391724\n"
     ]
    },
    {
     "name": "stdout",
     "output_type": "stream",
     "text": [
      "Fit time = 18.719200134277344\nPred time = 18.829400062561035\nrock accuracy =   0.8661\npaper accuracy =   0.9504"
     ]
    },
    {
     "name": "stdout",
     "output_type": "stream",
     "text": [
      "\nscissors accuracy =   0.7959\nokay accuracy =   0.7662\nCohen Kappa: 0.7930127315121299\nAccuracy: 0.8447745216111334\nF1 Score: 0.8456724481544705\nPrecision: 0.8515363622495354"
     ]
    },
    {
     "name": "stdout",
     "output_type": "stream",
     "text": [
      "\nRecall: 0.8447745216111334\n"
     ]
    },
    {
     "name": "stdout",
     "output_type": "stream",
     "text": [
      "time elapsed: 19.344199895858765\n"
     ]
    },
    {
     "name": "stdout",
     "output_type": "stream",
     "text": [
      "Fit time = 18.688600063323975\nPred time = 18.813400268554688\nrock accuracy =   0.8581\n"
     ]
    },
    {
     "name": "stdout",
     "output_type": "stream",
     "text": [
      "paper accuracy =   0.9360\nscissors accuracy =   0.7856\nokay accuracy =   0.7864\nCohen Kappa: 0.7889066927246946\nAccuracy: 0.8416967750568713\nF1 Score: 0.8421358547678337\nPrecision: 0.8462199678395832\nRecall: 0.8416967750568713"
     ]
    },
    {
     "name": "stdout",
     "output_type": "stream",
     "text": [
      "\ntime elapsed: 19.34380006790161"
     ]
    },
    {
     "name": "stdout",
     "output_type": "stream",
     "text": [
      "\n"
     ]
    },
    {
     "name": "stdout",
     "output_type": "stream",
     "text": [
      "Fit time = 18.585999965667725\nPred time = 18.695200204849243\nrock accuracy =   0.8863\npaper accuracy =   0.9322"
     ]
    },
    {
     "name": "stdout",
     "output_type": "stream",
     "text": [
      "\nscissors accuracy =   0.7954\nokay accuracy =   0.7549\nCohen Kappa: 0.7898006392660897\nAccuracy: 0.8423658503947544\nF1 Score: 0.8435803853592838\n"
     ]
    },
    {
     "name": "stdout",
     "output_type": "stream",
     "text": [
      "Precision: 0.8480973694388177\nRecall: 0.8423658503947544\ntime elapsed: 19.176599979400635"
     ]
    },
    {
     "name": "stdout",
     "output_type": "stream",
     "text": [
      "\n"
     ]
    },
    {
     "name": "stdout",
     "output_type": "stream",
     "text": [
      "Fit time = 18.67900037765503\nPred time = 18.772600412368774\nrock accuracy =   0.8442\npaper accuracy =   0.9477\n"
     ]
    },
    {
     "name": "stdout",
     "output_type": "stream",
     "text": [
      "scissors accuracy =   0.8002\nokay accuracy =   0.7800\nCohen Kappa: 0.7908749842828333\nAccuracy: 0.8431687408002141\nF1 Score: 0.8437204473581684\nPrecision: 0.8487023810131727\nRecall: 0.8431687408002141\n"
     ]
    },
    {
     "name": "stdout",
     "output_type": "stream",
     "text": [
      "time elapsed: 19.210400342941284\n"
     ]
    },
    {
     "name": "stdout",
     "output_type": "stream",
     "text": [
      "Fit time = 19.28920030593872\nPred time = 19.414000272750854\nrock accuracy =   0.8906\n"
     ]
    },
    {
     "name": "stdout",
     "output_type": "stream",
     "text": [
      "paper accuracy =   0.9376\nscissors accuracy =   0.7851\nokay accuracy =   0.7571\nCohen Kappa: 0.7903321018301962\nAccuracy: 0.8427672955974843\nF1 Score: 0.8441121684987015\nPrecision: 0.8494850034609486\n"
     ]
    },
    {
     "name": "stdout",
     "output_type": "stream",
     "text": [
      "Recall: 0.8427672955974843\ntime elapsed: 19.91320013999939\n"
     ]
    },
    {
     "name": "stdout",
     "output_type": "stream",
     "text": [
      "Fit time = 18.59000015258789\nPred time = 18.714800119400024\nrock accuracy =   0.8661"
     ]
    },
    {
     "name": "stdout",
     "output_type": "stream",
     "text": [
      "\npaper accuracy =   0.9488\nscissors accuracy =   0.8072\nokay accuracy =   0.7459\nCohen Kappa: 0.789450616662563\nAccuracy: 0.8420982202596012\nF1 Score: 0.8434007090903586\nPrecision: 0.8491846904433991"
     ]
    },
    {
     "name": "stdout",
     "output_type": "stream",
     "text": [
      "\nRecall: 0.8420982202596012\n"
     ]
    },
    {
     "name": "stdout",
     "output_type": "stream",
     "text": [
      "time elapsed: 19.18280005455017\n"
     ]
    },
    {
     "name": "stdout",
     "output_type": "stream",
     "text": [
      "Fit time = 18.948800086975098\nPred time = 19.058000087738037\nrock accuracy =   0.8874\n"
     ]
    },
    {
     "name": "stdout",
     "output_type": "stream",
     "text": [
      "paper accuracy =   0.9493\nscissors accuracy =   0.8062\nokay accuracy =   0.7330\nCohen Kappa: 0.792124054260069\nAccuracy: 0.8441054462732503\nF1 Score: 0.8457843005337548\nPrecision: 0.8530480966755757\nRecall: 0.8441054462732503\n"
     ]
    },
    {
     "name": "stdout",
     "output_type": "stream",
     "text": [
      "time elapsed: 19.51040005683899\n"
     ]
    },
    {
     "name": "stdout",
     "output_type": "stream",
     "text": [
      "Fit time = 19.5594003200531\nPred time = 19.66860008239746\nrock accuracy =   0.8404\npaper accuracy =   0.9498\n"
     ]
    },
    {
     "name": "stdout",
     "output_type": "stream",
     "text": [
      "scissors accuracy =   0.7948\nokay accuracy =   0.7816\nCohen Kappa: 0.7890876296192296\nAccuracy: 0.841830590124448\nF1 Score: 0.842343236801036\nPrecision: 0.8478810192411788\nRecall: 0.841830590124448\n"
     ]
    },
    {
     "name": "stdout",
     "output_type": "stream",
     "text": [
      "time elapsed: 20.136600017547607\n"
     ]
    },
    {
     "name": "stdout",
     "output_type": "stream",
     "text": [
      "Fit time = 24.602400302886963\nPred time = 24.742799997329712\n"
     ]
    },
    {
     "name": "stdout",
     "output_type": "stream",
     "text": [
      "rock accuracy =   0.8831\npaper accuracy =   0.9429\nscissors accuracy =   0.7948\nokay accuracy =   0.7533\nCohen Kappa: 0.7915841681442399\nAccuracy: 0.8437040010705206\nF1 Score: 0.8450022350450853\nPrecision: 0.850546577199074\nRecall: 0.8437040010705206\n"
     ]
    },
    {
     "name": "stdout",
     "output_type": "stream",
     "text": [
      "time elapsed: 25.429200172424316\n"
     ]
    },
    {
     "name": "stdout",
     "output_type": "stream",
     "text": [
      "Fit time = 24.149400234222412\nPred time = 24.274200201034546\n"
     ]
    },
    {
     "name": "stdout",
     "output_type": "stream",
     "text": [
      "rock accuracy =   0.8735\npaper accuracy =   0.9525\nscissors accuracy =   0.7943\nokay accuracy =   0.7405\n"
     ]
    },
    {
     "name": "stdout",
     "output_type": "stream",
     "text": [
      "Cohen Kappa: 0.7871243615937615\nAccuracy: 0.8403586243811053\nF1 Score: 0.8418395159938388\nPrecision: 0.8490103717630741\nRecall: 0.8403586243811053\n"
     ]
    },
    {
     "name": "stdout",
     "output_type": "stream",
     "text": [
      "time elapsed: 24.898200035095215\n"
     ]
    },
    {
     "name": "stdout",
     "output_type": "stream",
     "text": [
      "Fit time = 21.617600202560425\nPred time = 21.726800203323364\nrock accuracy =   0.8677\n"
     ]
    },
    {
     "name": "stdout",
     "output_type": "stream",
     "text": [
      "paper accuracy =   0.9450\nscissors accuracy =   0.7970\nokay accuracy =   0.7656\nCohen Kappa: 0.7919431211609633\nAccuracy: 0.8439716312056738\nF1 Score: 0.8448899305524588\nPrecision: 0.8499766795404725\nRecall: 0.8439716312056738\n"
     ]
    },
    {
     "name": "stdout",
     "output_type": "stream",
     "text": [
      "time elapsed: 22.179200172424316\n"
     ]
    },
    {
     "name": "stdout",
     "output_type": "stream",
     "text": [
      "Fit time = 27.799800157546997\nPred time = 27.9060001373291\nrock accuracy =   0.8490\n"
     ]
    },
    {
     "name": "stdout",
     "output_type": "stream",
     "text": [
      "paper accuracy =   0.9424\nscissors accuracy =   0.7856\nokay accuracy =   0.7934\nCohen Kappa: 0.7903331682014492\nAccuracy: 0.8427672955974843\nF1 Score: 0.8431589824527466\nPrecision: 0.8479416091528588\nRecall: 0.8427672955974843\n"
     ]
    },
    {
     "name": "stdout",
     "output_type": "stream",
     "text": [
      "time elapsed: 28.375\n"
     ]
    },
    {
     "name": "stdout",
     "output_type": "stream",
     "text": [
      "Fit time = 25.017800331115723\nPred time = 25.142600297927856\nrock accuracy =   0.8671\n"
     ]
    },
    {
     "name": "stdout",
     "output_type": "stream",
     "text": [
      "paper accuracy =   0.9408\nscissors accuracy =   0.7932\nokay accuracy =   0.7678\nCohen Kappa: 0.7898005388848136\nAccuracy: 0.8423658503947544\nF1 Score: 0.84330262432248\nPrecision: 0.8478700967718299"
     ]
    },
    {
     "name": "stdout",
     "output_type": "stream",
     "text": [
      "\nRecall: 0.8423658503947544\n"
     ]
    },
    {
     "name": "stdout",
     "output_type": "stream",
     "text": [
      "time elapsed: 25.75600004196167\n"
     ]
    },
    {
     "name": "stdout",
     "output_type": "stream",
     "text": [
      "Fit time = 23.789600133895874\n"
     ]
    },
    {
     "name": "stdout",
     "output_type": "stream",
     "text": [
      "Pred time = 24.023600101470947\nrock accuracy =   0.8634\npaper accuracy =   0.9450\nscissors accuracy =   0.8067"
     ]
    },
    {
     "name": "stdout",
     "output_type": "stream",
     "text": [
      "\nokay accuracy =   0.7624\nCohen Kappa: 0.7926605007330856\nAccuracy: 0.8445068914759802\nF1 Score: 0.8454077090616856\nPrecision: 0.8502770215344314\n"
     ]
    },
    {
     "name": "stdout",
     "output_type": "stream",
     "text": [
      "Recall: 0.8445068914759802\n"
     ]
    },
    {
     "name": "stdout",
     "output_type": "stream",
     "text": [
      "time elapsed: 24.647600173950195\n"
     ]
    },
    {
     "name": "stdout",
     "output_type": "stream",
     "text": [
      "Fit time = 26.004200220108032\nPred time = 26.129000186920166\nrock accuracy =   0.8436"
     ]
    },
    {
     "name": "stdout",
     "output_type": "stream",
     "text": [
      "\npaper accuracy =   0.9541\nscissors accuracy =   0.7981\nokay accuracy =   0.7731"
     ]
    },
    {
     "name": "stdout",
     "output_type": "stream",
     "text": [
      "\nCohen Kappa: 0.7898027974403354\nAccuracy: 0.8423658503947544\nF1 Score: 0.8430636399916759\nPrecision: 0.8492017216640999\nRecall: 0.8423658503947544\n"
     ]
    },
    {
     "name": "stdout",
     "output_type": "stream",
     "text": [
      "time elapsed: 26.721800327301025\n"
     ]
    },
    {
     "name": "stdout",
     "output_type": "stream",
     "text": [
      "Fit time = 24.565199851989746\nPred time = 24.705600023269653\nrock accuracy =   0.8837"
     ]
    },
    {
     "name": "stdout",
     "output_type": "stream",
     "text": [
      "\npaper accuracy =   0.9525\nscissors accuracy =   0.7910\nokay accuracy =   0.7416\nCohen Kappa: 0.7897990532307183\nAccuracy: 0.8423658503947544\nF1 Score: 0.8439706498578333"
     ]
    },
    {
     "name": "stdout",
     "output_type": "stream",
     "text": [
      "\nPrecision: 0.8510434310155628\nRecall: 0.8423658503947544\n"
     ]
    },
    {
     "name": "stdout",
     "output_type": "stream",
     "text": [
      "time elapsed: 25.284800052642822\n"
     ]
    },
    {
     "name": "stdout",
     "output_type": "stream",
     "text": [
      "Fit time = 23.906200170516968\n"
     ]
    },
    {
     "name": "stdout",
     "output_type": "stream",
     "text": [
      "Pred time = 24.14020013809204\nrock accuracy =   0.8725\npaper accuracy =   0.9461\n"
     ]
    },
    {
     "name": "stdout",
     "output_type": "stream",
     "text": [
      "scissors accuracy =   0.7959\nokay accuracy =   0.7555\nCohen Kappa: 0.7901594883760877\nAccuracy: 0.8426334805299077\nF1 Score: 0.8438490851315814\nPrecision: 0.8491016715266043\n"
     ]
    },
    {
     "name": "stdout",
     "output_type": "stream",
     "text": [
      "Recall: 0.8426334805299077\n"
     ]
    },
    {
     "name": "stdout",
     "output_type": "stream",
     "text": [
      "time elapsed: 24.87340021133423\n"
     ]
    },
    {
     "name": "stdout",
     "output_type": "stream",
     "text": [
      "Fit time = 24.058600187301636\nPred time = 24.19760012626648\n"
     ]
    },
    {
     "name": "stdout",
     "output_type": "stream",
     "text": [
      "rock accuracy =   0.8783\npaper accuracy =   0.9456\nscissors accuracy =   0.7997\nokay accuracy =   0.7533\nCohen Kappa: 0.7924790696597159\nAccuracy: 0.8443730764084035\nF1 Score: 0.8456151908470733\n"
     ]
    },
    {
     "name": "stdout",
     "output_type": "stream",
     "text": [
      "Precision: 0.8510741455983619\nRecall: 0.8443730764084035\n"
     ]
    },
    {
     "name": "stdout",
     "output_type": "stream",
     "text": [
      "time elapsed: 24.734800100326538\n"
     ]
    },
    {
     "name": "stdout",
     "output_type": "stream",
     "text": [
      "Fit time = 22.951600313186646\nPred time = 23.12320041656494\n"
     ]
    },
    {
     "name": "stdout",
     "output_type": "stream",
     "text": [
      "rock accuracy =   0.8709\npaper accuracy =   0.9418\nscissors accuracy =   0.7856\nokay accuracy =   0.7790\nCohen Kappa: 0.7926524655027516\nAccuracy: 0.8445068914759802\n"
     ]
    },
    {
     "name": "stdout",
     "output_type": "stream",
     "text": [
      "F1 Score: 0.8453067072264333\nPrecision: 0.8499275761975006\nRecall: 0.8445068914759802\n"
     ]
    },
    {
     "name": "stdout",
     "output_type": "stream",
     "text": [
      "time elapsed: 23.706200122833252\n"
     ]
    },
    {
     "name": "stdout",
     "output_type": "stream",
     "text": [
      "Fit time = 26.437000036239624\nPred time = 26.577399969100952\n"
     ]
    },
    {
     "name": "stdout",
     "output_type": "stream",
     "text": [
      "rock accuracy =   0.8709\npaper accuracy =   0.9472\nscissors accuracy =   0.8029\nokay accuracy =   0.7651"
     ]
    },
    {
     "name": "stdout",
     "output_type": "stream",
     "text": [
      "\nCohen Kappa: 0.7955133878130625\nAccuracy: 0.8466479325572059\nF1 Score: 0.8476673501034379\nPrecision: 0.8525526134198569\nRecall: 0.8466479325572059\n"
     ]
    },
    {
     "name": "stdout",
     "output_type": "stream",
     "text": [
      "time elapsed: 27.20580005645752\n"
     ]
    }
   ],
   "source": [
    "# EM (TSNE)\n",
    "result = []\n",
    "for param in range(1, 64):\n",
    "    em_fit_tsne = GaussianMixture(n_components=param)\n",
    "    \n",
    "    em_fit_tsne.fit(X_tsne_m)\n",
    "    X_train_em_tsne = em_fit_tsne.predict_proba(X_tsne_m)\n",
    "    #X_val_km_tsne = km_fit_tsne.transform(X_val_tsne_m)\n",
    "    \n",
    "    em_tsne_model = finalModel(X_train_em_tsne, y_train, X_train_em_tsne, y_train, learning_curves=False)\n",
    "    result.append(em_tsne_model)"
   ]
  },
  {
   "cell_type": "code",
   "execution_count": 28,
   "metadata": {},
   "outputs": [
    {
     "data": {
      "text/plain": [
       "str"
      ]
     },
     "execution_count": 28,
     "metadata": {},
     "output_type": "execute_result"
    }
   ],
   "source": [
    ""
   ]
  },
  {
   "cell_type": "code",
   "execution_count": 24,
   "metadata": {},
   "outputs": [
    {
     "ename": "TypeError",
     "evalue": "string indices must be integers",
     "traceback": [
      "\u001b[0;31m---------------------------------------------------------------------------\u001b[0m",
      "\u001b[0;31mTypeError\u001b[0m                                 Traceback (most recent call last)",
      "\u001b[0;32m<ipython-input-24-ce4b46c0ae94>\u001b[0m in \u001b[0;36m<module>\u001b[0;34m()\u001b[0m\n\u001b[1;32m     12\u001b[0m \u001b[0;34m\u001b[0m\u001b[0m\n\u001b[1;32m     13\u001b[0m \u001b[0;32mfor\u001b[0m \u001b[0mresult\u001b[0m \u001b[0;32min\u001b[0m \u001b[0mica_tsne_em_results\u001b[0m\u001b[0;34m:\u001b[0m\u001b[0;34m\u001b[0m\u001b[0;34m\u001b[0m\u001b[0m\n\u001b[0;32m---> 14\u001b[0;31m     \u001b[0mcohen_kappas\u001b[0m\u001b[0;34m.\u001b[0m\u001b[0mappend\u001b[0m\u001b[0;34m(\u001b[0m\u001b[0mresult\u001b[0m\u001b[0;34m[\u001b[0m\u001b[0;34m'cohen_kappa'\u001b[0m\u001b[0;34m]\u001b[0m\u001b[0;34m)\u001b[0m\u001b[0;34m\u001b[0m\u001b[0;34m\u001b[0m\u001b[0m\n\u001b[0m\u001b[1;32m     15\u001b[0m     \u001b[0maccuracies\u001b[0m\u001b[0;34m.\u001b[0m\u001b[0mappend\u001b[0m\u001b[0;34m(\u001b[0m\u001b[0mresult\u001b[0m\u001b[0;34m[\u001b[0m\u001b[0;34m'accuracy'\u001b[0m\u001b[0;34m]\u001b[0m\u001b[0;34m)\u001b[0m\u001b[0;34m\u001b[0m\u001b[0;34m\u001b[0m\u001b[0m\n\u001b[1;32m     16\u001b[0m     \u001b[0mok_score\u001b[0m\u001b[0;34m.\u001b[0m\u001b[0mappend\u001b[0m\u001b[0;34m(\u001b[0m\u001b[0mresult\u001b[0m\u001b[0;34m[\u001b[0m\u001b[0;34m'okay_accuracy'\u001b[0m\u001b[0;34m]\u001b[0m\u001b[0;34m)\u001b[0m\u001b[0;34m\u001b[0m\u001b[0;34m\u001b[0m\u001b[0m\n",
      "\u001b[0;31mTypeError\u001b[0m: string indices must be integers"
     ],
     "output_type": "error"
    }
   ],
   "source": [
    "ica_tsne_em_results = result\n",
    "\n",
    "# unpack my sloppy mess\n",
    "cohen_kappas = []\n",
    "accuracies = []\n",
    "ok_score = []\n",
    "rock_score = []\n",
    "paper_score = []\n",
    "scissors_score = []\n",
    "fit_times = []\n",
    "pred_times = []\n",
    "\n",
    "for result in ica_tsne_em_results:\n",
    "    cohen_kappas.append(result['cohen_kappa'])\n",
    "    accuracies.append(result['accuracy'])\n",
    "    ok_score.append(result['okay_accuracy'])\n",
    "    rock_score.append(result['rock_accuracy'])\n",
    "    paper_score.append(result['paper_accuracy'])\n",
    "    scissors_score.append(result['scissors_accuracy'])\n",
    "    fit_times.append(result['fit_time'])\n",
    "    pred_times.append(result['pred_time'])\n",
    "    \n",
    "np.save('ica_tsne_em_results', [range(1, 64), cohen_kappas, accuracies, ok_score, rock_score, paper_score, scissors_score, fit_times, pred_times])"
   ]
  },
  {
   "cell_type": "code",
   "execution_count": null,
   "metadata": {},
   "outputs": [],
   "source": [
    "[param_range, cohen_kappas, accuracies, ok_score, rock_score, paper_score, scissors_score, fit_times, pred_times] = np.load('ica_tsne_em_results.npy')\n",
    "\n",
    "plt.plot(param_range, cohen_kappas, label=\"cohen kappa\", color='blue')\n",
    "plt.plot(param_range, accuracies, label='total accuracy', color='green')\n",
    "plt.xlabel('number of components')\n",
    "plt.legend()\n",
    "plt.show()\n",
    "\n",
    "plt.plot(param_range, ok_score, label = 'okay', color=\"crimson\")\n",
    "plt.plot(param_range, rock_score, label = 'rock', color=\"gold\")\n",
    "plt.plot(param_range, paper_score, label = 'paper', color=\"green\")\n",
    "plt.plot(param_range, scissors_score, label = 'scissors', color=\"blue\")\n",
    "plt.xlabel('number of components')\n",
    "plt.legend()\n",
    "plt.show()"
   ]
  },
  {
   "cell_type": "code",
   "execution_count": null,
   "metadata": {},
   "outputs": [],
   "source": [
    "# KM (TSNE)\n",
    "result = []\n",
    "for param in ['full', 'tied', 'spherical', 'diag']:\n",
    "    em_fit_tsne = GaussianMixture(n_components=30, covariance_type='tied')\n",
    "    \n",
    "    em_fit_tsne.fit(X_tsne_m)\n",
    "    X_train_em_tsne = em_fit_tsne.predict_proba(X_tsne_m)\n",
    "    #X_val_km_tsne = km_fit_tsne.transform(X_val_tsne_m)\n",
    "    \n",
    "    em_tsne_model = finalModel(X_train_em_tsne, y_train, X_train_em_tsne, y_train, learning_curves=False)\n",
    "    result.append(em_tsne_model)"
   ]
  },
  {
   "cell_type": "code",
   "execution_count": null,
   "metadata": {},
   "outputs": [],
   "source": [
    "ica_tsne_em_results_tied = result\n",
    "\n",
    "# unpack my sloppy mess\n",
    "cohen_kappas = []\n",
    "accuracies = []\n",
    "ok_score = []\n",
    "rock_score = []\n",
    "paper_score = []\n",
    "scissors_score = []\n",
    "fit_times = []\n",
    "pred_times = []\n",
    "\n",
    "for result in ica_tsne_em_results_tied:\n",
    "    cohen_kappas.append(result['cohen_kappa'])\n",
    "    accuracies.append(result['accuracy'])\n",
    "    ok_score.append(result['okay_accuracy'])\n",
    "    rock_score.append(result['rock_accuracy'])\n",
    "    paper_score.append(result['paper_accuracy'])\n",
    "    scissors_score.append(result['scissors_accuracy'])\n",
    "    fit_times.append(result['fit_time'])\n",
    "    pred_times.append(result['pred_time'])\n",
    "    \n",
    "np.save('ica_tsne_em_results_tied', [param_range, cohen_kappas, accuracies, ok_score, rock_score, paper_score, scissors_score, fit_times, pred_times])"
   ]
  },
  {
   "cell_type": "code",
   "execution_count": 31,
   "metadata": {},
   "outputs": [
    {
     "name": "stdout",
     "output_type": "stream",
     "text": [
      "Fit time = 19.604999780654907\nPred time = 19.646999835968018\nrock accuracy =   0.8867\npaper accuracy =   0.5675\nscissors accuracy =   0.5771\nokay accuracy =   0.4846\nCohen Kappa: 0.5043346463768813\nAccuracy: 0.628143392188336\nF1 Score: 0.6359926077753543\nPrecision: 0.6556849644469583\nRecall: 0.628143392188336"
     ]
    },
    {
     "name": "stdout",
     "output_type": "stream",
     "text": [
      "\n"
     ]
    },
    {
     "data": {
      "image/png": "[encoded data removed]",
      "text/plain": [
       "<Figure size 432x288 with 1 Axes>"
      ]
     },
     "metadata": {},
     "output_type": "display_data"
    },
    {
     "name": "stdout",
     "output_type": "stream",
     "text": [
      "time elapsed: 866.949000120163\n"
     ]
    }
   ],
   "source": [
    "\n",
    "km_nn_model = finalModel(X_train_km, y_train, X_val_km, y_val, learning_curves=True)"
   ]
  },
  {
   "cell_type": "code",
   "execution_count": 89,
   "metadata": {},
   "outputs": [],
   "source": [
    "# Extract pseudo DR Data for Gaussian Mixture / Expectation Maximization\n",
    "\n",
    "X_train_gm = em_fit.predict_proba(X_train)\n",
    "X_train_gm.shape\n",
    "X_val_gm = em_fit.predict_proba(X_val)\n",
    "X_test_gm = em_fit.predict_proba(X_test)"
   ]
  },
  {
   "cell_type": "code",
   "execution_count": 33,
   "metadata": {},
   "outputs": [
    {
     "name": "stdout",
     "output_type": "stream",
     "text": [
      "Fit time = 27.852784872055054\nPred time = 27.898789644241333\nrock accuracy =   0.9782\npaper accuracy =   0.9810\nscissors accuracy =   0.9229\nokay accuracy =   0.8158"
     ]
    },
    {
     "name": "stdout",
     "output_type": "stream",
     "text": [
      "\nCohen Kappa: 0.9000819094642662\nAccuracy: 0.9250936329588015\nF1 Score: 0.9258495726267777\nPrecision: 0.9298847625236499\nRecall: 0.9250936329588015\n"
     ]
    },
    {
     "data": {
      "image/png": "[encoded data removed]",
      "text/plain": [
       "<Figure size 432x288 with 1 Axes>"
      ]
     },
     "metadata": {},
     "output_type": "display_data"
    },
    {
     "name": "stdout",
     "output_type": "stream",
     "text": [
      "time elapsed: 969.3095459938049\n"
     ]
    }
   ],
   "source": [
    "em_nn_model = finalModel(X_train_gm, y_train, X_val_gm, y_val, learning_curves=True)"
   ]
  },
  {
   "cell_type": "code",
   "execution_count": 15,
   "metadata": {},
   "outputs": [
    {
     "name": "stdout",
     "output_type": "stream",
     "text": [
      "Cohen Kappa: 0.3054267677985446\ntime elapsed: 29.087599754333496\nfinished param 2\n"
     ]
    },
    {
     "name": "stdout",
     "output_type": "stream",
     "text": [
      "Cohen Kappa: 0.31579943952132095\ntime elapsed: 26.14300012588501\nfinished param 3\n"
     ]
    },
    {
     "name": "stdout",
     "output_type": "stream",
     "text": [
      "Cohen Kappa: 0.3568735029269716\ntime elapsed: 22.213800191879272\nfinished param 4\n"
     ]
    },
    {
     "name": "stdout",
     "output_type": "stream",
     "text": [
      "Cohen Kappa: 0.4166319433315171\ntime elapsed: 20.65779995918274\nfinished param 5\n"
     ]
    },
    {
     "name": "stdout",
     "output_type": "stream",
     "text": [
      "Cohen Kappa: 0.4471346167736965\ntime elapsed: 19.61419987678528\nfinished param 6\n"
     ]
    },
    {
     "name": "stdout",
     "output_type": "stream",
     "text": [
      "Cohen Kappa: 0.41591209324581435\ntime elapsed: 19.68059992790222\nfinished param 7\n"
     ]
    },
    {
     "name": "stdout",
     "output_type": "stream",
     "text": [
      "Cohen Kappa: 0.4529355458114809\ntime elapsed: 20.456400156021118\nfinished param 8\n"
     ]
    },
    {
     "name": "stdout",
     "output_type": "stream",
     "text": [
      "Cohen Kappa: 0.5035093814750984\ntime elapsed: 20.947199821472168\nfinished param 9\n"
     ]
    },
    {
     "name": "stdout",
     "output_type": "stream",
     "text": [
      "Cohen Kappa: 0.4791692708184012\ntime elapsed: 20.297199964523315\nfinished param 10\n"
     ]
    },
    {
     "name": "stdout",
     "output_type": "stream",
     "text": [
      "Cohen Kappa: 0.4985803553233241\ntime elapsed: 20.33739972114563\nfinished param 11\n"
     ]
    },
    {
     "name": "stdout",
     "output_type": "stream",
     "text": [
      "Cohen Kappa: 0.522476280606639\ntime elapsed: 20.317800045013428\nfinished param 12\n"
     ]
    },
    {
     "name": "stdout",
     "output_type": "stream",
     "text": [
      "Cohen Kappa: 0.5565038264545801\ntime elapsed: 20.606199741363525\nfinished param 13\n"
     ]
    },
    {
     "name": "stdout",
     "output_type": "stream",
     "text": [
      "Cohen Kappa: 0.550404131118096\ntime elapsed: 21.368599891662598"
     ]
    },
    {
     "name": "stdout",
     "output_type": "stream",
     "text": [
      "\nfinished param 14\n"
     ]
    },
    {
     "name": "stdout",
     "output_type": "stream",
     "text": [
      "Cohen Kappa: 0.5411913291555253\ntime elapsed: 21.78380012512207\nfinished param 15\n"
     ]
    },
    {
     "name": "stdout",
     "output_type": "stream",
     "text": [
      "Cohen Kappa: 0.5375834305998297\ntime elapsed: 23.37000012397766\nfinished param 16\n"
     ]
    },
    {
     "name": "stdout",
     "output_type": "stream",
     "text": [
      "Cohen Kappa: 0.5787795757886208\ntime elapsed: 21.93780016899109\nfinished param 17\n"
     ]
    },
    {
     "name": "stdout",
     "output_type": "stream",
     "text": [
      "Cohen Kappa: 0.6024209163506377\ntime elapsed: 21.134400129318237\nfinished param 18\n"
     ]
    },
    {
     "name": "stdout",
     "output_type": "stream",
     "text": [
      "Cohen Kappa: 0.584721846810733\ntime elapsed: 21.18879985809326\nfinished param 19\n"
     ]
    },
    {
     "name": "stdout",
     "output_type": "stream",
     "text": [
      "Cohen Kappa: 0.560047446370215\ntime elapsed: 21.452199935913086\nfinished param 20\n"
     ]
    },
    {
     "name": "stdout",
     "output_type": "stream",
     "text": [
      "Cohen Kappa: 0.5114693182286492\ntime elapsed: 24.569000005722046\nfinished param 21\n"
     ]
    },
    {
     "name": "stdout",
     "output_type": "stream",
     "text": [
      "Cohen Kappa: 0.5552890519024152\ntime elapsed: 21.092999935150146\nfinished param 22\n"
     ]
    },
    {
     "name": "stdout",
     "output_type": "stream",
     "text": [
      "Cohen Kappa: 0.5567736192530695\ntime elapsed: 22.3951997756958\nfinished param 23\n"
     ]
    },
    {
     "name": "stdout",
     "output_type": "stream",
     "text": [
      "Cohen Kappa: 0.5737719547131129\ntime elapsed: 22.802599906921387\nfinished param 24\n"
     ]
    },
    {
     "name": "stdout",
     "output_type": "stream",
     "text": [
      "Cohen Kappa: 0.5661554911311981\ntime elapsed: 21.815399885177612\nfinished param 25\n"
     ]
    },
    {
     "name": "stdout",
     "output_type": "stream",
     "text": [
      "Cohen Kappa: 0.0\ntime elapsed: 21.236000061035156\nfinished param 26\n"
     ]
    },
    {
     "name": "stderr",
     "output_type": "stream",
     "text": [
      "C:\\Users\\eking\\AppData\\Local\\Programs\\Python\\Python36\\lib\\site-packages\\sklearn\\metrics\\classification.py:1145: UndefinedMetricWarning: F-score is ill-defined and being set to 0.0 in labels with no true samples.\n  'recall', 'true', average, warn_for)\nC:\\Users\\eking\\AppData\\Local\\Programs\\Python\\Python36\\lib\\site-packages\\sklearn\\metrics\\classification.py:1145: UndefinedMetricWarning: Recall is ill-defined and being set to 0.0 in labels with no true samples.\n  'recall', 'true', average, warn_for)\n"
     ]
    },
    {
     "name": "stdout",
     "output_type": "stream",
     "text": [
      "Cohen Kappa: 0.5777700052751084\ntime elapsed: 21.21459984779358\nfinished param 27\n"
     ]
    },
    {
     "name": "stdout",
     "output_type": "stream",
     "text": [
      "Cohen Kappa: 0.5145710049016243\ntime elapsed: 20.61459994316101\nfinished param 28\n"
     ]
    },
    {
     "name": "stdout",
     "output_type": "stream",
     "text": [
      "Cohen Kappa: 0.5477077961996164\ntime elapsed: 22.494199752807617\nfinished param 29\n"
     ]
    },
    {
     "name": "stdout",
     "output_type": "stream",
     "text": [
      "Cohen Kappa: 0.5522263703513803\ntime elapsed: 22.70860004425049\nfinished param 30\n"
     ]
    },
    {
     "name": "stdout",
     "output_type": "stream",
     "text": [
      "Cohen Kappa: 0.0\ntime elapsed: 21.79200005531311\nfinished param 31\n"
     ]
    },
    {
     "name": "stderr",
     "output_type": "stream",
     "text": [
      "C:\\Users\\eking\\AppData\\Local\\Programs\\Python\\Python36\\lib\\site-packages\\sklearn\\metrics\\classification.py:1145: UndefinedMetricWarning: F-score is ill-defined and being set to 0.0 in labels with no true samples.\n  'recall', 'true', average, warn_for)\nC:\\Users\\eking\\AppData\\Local\\Programs\\Python\\Python36\\lib\\site-packages\\sklearn\\metrics\\classification.py:1145: UndefinedMetricWarning: Recall is ill-defined and being set to 0.0 in labels with no true samples.\n  'recall', 'true', average, warn_for)\n"
     ]
    },
    {
     "name": "stdout",
     "output_type": "stream",
     "text": [
      "Cohen Kappa: 0.5410212685873499\ntime elapsed: 21.01359987258911\nfinished param 32\n"
     ]
    },
    {
     "name": "stdout",
     "output_type": "stream",
     "text": [
      "Cohen Kappa: 0.5651759835792209\ntime elapsed: 21.525399923324585\nfinished param 33\n"
     ]
    },
    {
     "name": "stdout",
     "output_type": "stream",
     "text": [
      "Cohen Kappa: 0.5133398716426643\ntime elapsed: 20.85859990119934\nfinished param 34\n"
     ]
    },
    {
     "name": "stdout",
     "output_type": "stream",
     "text": [
      "Cohen Kappa: 0.5196700964887697\ntime elapsed: 21.24460005760193\nfinished param 35\n"
     ]
    },
    {
     "name": "stdout",
     "output_type": "stream",
     "text": [
      "Cohen Kappa: 0.5543516265078887\ntime elapsed: 21.138400077819824\nfinished param 36\n"
     ]
    },
    {
     "name": "stdout",
     "output_type": "stream",
     "text": [
      "Cohen Kappa: 0.5847786311206962\n"
     ]
    },
    {
     "name": "stdout",
     "output_type": "stream",
     "text": [
      "time elapsed: 24.886600017547607\nfinished param 37\n"
     ]
    },
    {
     "name": "stdout",
     "output_type": "stream",
     "text": [
      "Cohen Kappa: 0.5595883845374243\ntime elapsed: 24.206799745559692\nfinished param 38\n"
     ]
    },
    {
     "name": "stdout",
     "output_type": "stream",
     "text": [
      "Cohen Kappa: 0.5357494158891898\ntime elapsed: 23.016000032424927\nfinished param 39\n"
     ]
    },
    {
     "name": "stdout",
     "output_type": "stream",
     "text": [
      "Cohen Kappa: 0.5643012000261398\ntime elapsed: 22.369400024414062\nfinished param 40\n"
     ]
    },
    {
     "name": "stdout",
     "output_type": "stream",
     "text": [
      "Cohen Kappa: 0.519892866507959\ntime elapsed: 20.859400033950806\nfinished param 41\n"
     ]
    },
    {
     "name": "stdout",
     "output_type": "stream",
     "text": [
      "Cohen Kappa: 0.44623615936450045\ntime elapsed: 21.566400051116943\nfinished param 42\n"
     ]
    },
    {
     "name": "stdout",
     "output_type": "stream",
     "text": [
      "Cohen Kappa: 0.5226927079164332\ntime elapsed: 21.58300018310547\nfinished param 43\n"
     ]
    },
    {
     "name": "stdout",
     "output_type": "stream",
     "text": [
      "Cohen Kappa: 0.5631381730333339\ntime elapsed: 24.83179998397827\nfinished param 44\n"
     ]
    },
    {
     "name": "stdout",
     "output_type": "stream",
     "text": [
      "Cohen Kappa: 0.5186176849691728\ntime elapsed: 22.45080018043518\nfinished param 45\n"
     ]
    },
    {
     "name": "stdout",
     "output_type": "stream",
     "text": [
      "Cohen Kappa: 0.5018713696458352\ntime elapsed: 18.763999938964844\nfinished param 46\n"
     ]
    },
    {
     "name": "stdout",
     "output_type": "stream",
     "text": [
      "Cohen Kappa: 0.5182621265660134\ntime elapsed: 19.22860026359558\nfinished param 47\n"
     ]
    },
    {
     "name": "stdout",
     "output_type": "stream",
     "text": [
      "Cohen Kappa: 0.5256288967401836\ntime elapsed: 21.643400192260742\nfinished param 48\n"
     ]
    },
    {
     "name": "stdout",
     "output_type": "stream",
     "text": [
      "Cohen Kappa: 0.4803234260117676\ntime elapsed: 22.452800035476685\nfinished param 49\n"
     ]
    },
    {
     "name": "stdout",
     "output_type": "stream",
     "text": [
      "Cohen Kappa: 0.49347447447103565\ntime elapsed: 18.49500012397766\nfinished param 50\n"
     ]
    },
    {
     "name": "stdout",
     "output_type": "stream",
     "text": [
      "Cohen Kappa: 0.49087034203167945\ntime elapsed: 18.60859990119934\nfinished param 51\n"
     ]
    },
    {
     "name": "stdout",
     "output_type": "stream",
     "text": [
      "Cohen Kappa: 0.5430043748803699\ntime elapsed: 19.73580002784729\nfinished param 52\n"
     ]
    },
    {
     "name": "stdout",
     "output_type": "stream",
     "text": [
      "Cohen Kappa: 0.47288730615749863\ntime elapsed: 18.765199899673462\nfinished param 53\n"
     ]
    },
    {
     "name": "stdout",
     "output_type": "stream",
     "text": [
      "Cohen Kappa: 0.5396562271595208\ntime elapsed: 18.98099994659424\nfinished param 54\n"
     ]
    },
    {
     "name": "stdout",
     "output_type": "stream",
     "text": [
      "Cohen Kappa: 0.5135028214251723\ntime elapsed: 18.633399963378906\nfinished param 55\n"
     ]
    },
    {
     "name": "stdout",
     "output_type": "stream",
     "text": [
      "Cohen Kappa: 0.508417373458819\ntime elapsed: 18.792400121688843\nfinished param 56\n"
     ]
    },
    {
     "name": "stdout",
     "output_type": "stream",
     "text": [
      "Cohen Kappa: 0.49694041055274474\ntime elapsed: 18.997400045394897\nfinished param 57\n"
     ]
    },
    {
     "name": "stdout",
     "output_type": "stream",
     "text": [
      "Cohen Kappa: 0.5446819380978947\ntime elapsed: 18.99459981918335\nfinished param 58\n"
     ]
    },
    {
     "name": "stdout",
     "output_type": "stream",
     "text": [
      "Cohen Kappa: 0.4708753018519709\ntime elapsed: 19.63580012321472\nfinished param 59\n"
     ]
    },
    {
     "name": "stdout",
     "output_type": "stream",
     "text": [
      "Cohen Kappa: 0.46006633381456064\ntime elapsed: 19.432999849319458\nfinished param 60\n"
     ]
    },
    {
     "name": "stdout",
     "output_type": "stream",
     "text": [
      "Cohen Kappa: 0.37099803465568615\ntime elapsed: 19.055000066757202\nfinished param 61\n"
     ]
    },
    {
     "name": "stdout",
     "output_type": "stream",
     "text": [
      "Cohen Kappa: 0.4744468495848646\ntime elapsed: 18.135200023651123\nfinished param 62\n"
     ]
    },
    {
     "name": "stdout",
     "output_type": "stream",
     "text": [
      "Cohen Kappa: 0.0\n"
     ]
    },
    {
     "name": "stderr",
     "output_type": "stream",
     "text": [
      "C:\\Users\\eking\\AppData\\Local\\Programs\\Python\\Python36\\lib\\site-packages\\sklearn\\metrics\\classification.py:1145: UndefinedMetricWarning: F-score is ill-defined and being set to 0.0 in labels with no true samples.\n  'recall', 'true', average, warn_for)\nC:\\Users\\eking\\AppData\\Local\\Programs\\Python\\Python36\\lib\\site-packages\\sklearn\\metrics\\classification.py:1145: UndefinedMetricWarning: Recall is ill-defined and being set to 0.0 in labels with no true samples.\n  'recall', 'true', average, warn_for)\n"
     ]
    },
    {
     "name": "stdout",
     "output_type": "stream",
     "text": [
      "time elapsed: 26.44422745704651\nfinished param 63\n"
     ]
    }
   ],
   "source": [
    "param_range = range(2, 64)\n",
    "\n",
    "km_results = []\n",
    "for param in param_range:\n",
    "    km_model = KMeans(n_clusters=param)\n",
    "    km_fit = km_model.fit(X_train)\n",
    "    X_train_km = km_fit.transform(X_train)\n",
    "    X_val_km = km_fit.transform(X_val)\n",
    "    km_nn_model_results = finalModel(X_train_km, y_train, X_val_km, y_val, learning_curves=False)\n",
    "    km_nn_model_results['param'] = param\n",
    "    km_results.append(km_nn_model_results)\n",
    "    print('finished param {}'.format(param))"
   ]
  },
  {
   "cell_type": "code",
   "execution_count": 17,
   "metadata": {},
   "outputs": [],
   "source": [
    "# unpack my sloppy mess\n",
    "cohen_kappas = []\n",
    "accuracies = []\n",
    "ok_score = []\n",
    "rock_score = []\n",
    "paper_score = []\n",
    "scissors_score = []\n",
    "fit_times = []\n",
    "pred_times = []\n",
    "\n",
    "for result in km_results:\n",
    "    cohen_kappas.append(result['cohen_kappa'])\n",
    "    accuracies.append(result['accuracy'])\n",
    "    ok_score.append(result['okay_accuracy'])\n",
    "    rock_score.append(result['rock_accuracy'])\n",
    "    paper_score.append(result['paper_accuracy'])\n",
    "    scissors_score.append(result['scissors_accuracy'])\n",
    "    fit_times.append(result['fit_time'])\n",
    "    pred_times.append(result['pred_time'])\n",
    "\n",
    "#np.save('kmeans_results', [param_range, cohen_kappas, accuracies, ok_score, rock_score, paper_score, scissors_score, fit_times, pred_times])"
   ]
  },
  {
   "cell_type": "code",
   "execution_count": 37,
   "metadata": {},
   "outputs": [
    {
     "data": {
      "image/png": "[encoded data removed]",
      "text/plain": [
       "<Figure size 432x288 with 1 Axes>"
      ]
     },
     "metadata": {},
     "output_type": "display_data"
    },
    {
     "data": {
      "image/png": "[encoded data removed]",
      "text/plain": [
       "<Figure size 432x288 with 1 Axes>"
      ]
     },
     "metadata": {},
     "output_type": "display_data"
    }
   ],
   "source": [
    "[param_range, cohen_kappas, accuracies, ok_score, rock_score, paper_score, scissors_score, fit_times, pred_times] = np.load('kmeans_results.npy')\n",
    "\n",
    "plt.plot(param_range, cohen_kappas, label=\"cohen kappa\", color='blue')\n",
    "plt.plot(param_range, accuracies, label='total accuracy', color='green')\n",
    "plt.xlabel('number of components')\n",
    "plt.legend()\n",
    "plt.show()\n",
    "\n",
    "plt.plot(param_range, ok_score, label = 'okay', color=\"crimson\")\n",
    "plt.plot(param_range, rock_score, label = 'rock', color=\"gold\")\n",
    "plt.plot(param_range, paper_score, label = 'paper', color=\"green\")\n",
    "plt.plot(param_range, scissors_score, label = 'scissors', color=\"blue\")\n",
    "plt.xlabel('number of components')\n",
    "plt.legend()\n",
    "plt.show()"
   ]
  },
  {
   "cell_type": "code",
   "execution_count": 44,
   "metadata": {},
   "outputs": [
    {
     "name": "stdout",
     "output_type": "stream",
     "text": [
      "max cohen kappa of 0.5918 at [26.] for motions\n"
     ]
    }
   ],
   "source": [
    "a = np.where(cohen_kappas == max(cohen_kappas))\n",
    "#a = cohen_kappas.index(max(cohen_kappas))\n",
    "print(\"max cohen kappa of {m:.4f} at {p} for motions\".format(m=max(cohen_kappas), p=param_range[a]))"
   ]
  },
  {
   "cell_type": "code",
   "execution_count": 30,
   "metadata": {},
   "outputs": [],
   "source": [
    "em_test = GaussianMixture(n_components=11)\n",
    "em_test.fit(X_train)\n",
    "X_train_em_test = em_test.predict_proba(X_train)"
   ]
  },
  {
   "cell_type": "code",
   "execution_count": 33,
   "metadata": {},
   "outputs": [
    {
     "name": "stdout",
     "output_type": "stream",
     "text": [
      "(7473, 11)\n(7473, 64)\n"
     ]
    }
   ],
   "source": [
    "print(X_train_em_test.shape)\n",
    "print(X_train.shape)"
   ]
  },
  {
   "cell_type": "code",
   "execution_count": 34,
   "metadata": {},
   "outputs": [
    {
     "name": "stdout",
     "output_type": "stream",
     "text": [
      "Fit time = 37.03540015220642\nPred time = 37.09780025482178\nrock accuracy =   0.9847\npaper accuracy =   0.9810\nscissors accuracy =   0.9500\nokay accuracy =   0.9605\nCohen Kappa: 0.9586202473806985\nAccuracy: 0.9689673622257892\nF1 Score: 0.9689835624088823\nPrecision: 0.9690718920264355\nRecall: 0.9689673622257892"
     ]
    },
    {
     "name": "stdout",
     "output_type": "stream",
     "text": [
      "\ntime elapsed: 37.378600120544434\nfinished param full\n"
     ]
    },
    {
     "name": "stdout",
     "output_type": "stream",
     "text": [
      "Fit time = 38.091400146484375\nPred time = 38.15380001068115\nrock accuracy =   0.7495\npaper accuracy =   0.3650\nscissors accuracy =   0.3833\nokay accuracy =   0.4583\nCohen Kappa: 0.31745175835939\nAccuracy: 0.4868913857677903\nF1 Score: 0.4858525222937411\nPrecision: 0.5170553765947136"
     ]
    },
    {
     "name": "stdout",
     "output_type": "stream",
     "text": [
      "\nRecall: 0.4868913857677903\n"
     ]
    },
    {
     "name": "stdout",
     "output_type": "stream",
     "text": [
      "time elapsed: 38.54580020904541\nfinished param tied\n"
     ]
    },
    {
     "name": "stdout",
     "output_type": "stream",
     "text": [
      "Fit time = 36.582600355148315\nPred time = 36.67620038986206\nrock accuracy =   0.9826\npaper accuracy =   0.9726\n"
     ]
    },
    {
     "name": "stdout",
     "output_type": "stream",
     "text": [
      "scissors accuracy =   0.9333\nokay accuracy =   0.9408\nCohen Kappa: 0.9429240216119155\nAccuracy: 0.9571963616907437\nF1 Score: 0.9571635863028158\nPrecision: 0.9575035366494581\nRecall: 0.9571963616907437\n"
     ]
    },
    {
     "name": "stdout",
     "output_type": "stream",
     "text": [
      "time elapsed: 37.175400257110596\nfinished param diag\n"
     ]
    },
    {
     "name": "stdout",
     "output_type": "stream",
     "text": [
      "Fit time = 39.28379988670349\nPred time = 39.36180019378662\nrock accuracy =   0.5185\npaper accuracy =   0.7827\nscissors accuracy =   0.5979"
     ]
    },
    {
     "name": "stdout",
     "output_type": "stream",
     "text": [
      "\nokay accuracy =   0.0395\nCohen Kappa: 0.316194276611664\nAccuracy: 0.48903156768325307\nF1 Score: 0.5418748484853942\nPrecision: 0.6414366736504974\nRecall: 0.48903156768325307\n"
     ]
    },
    {
     "name": "stdout",
     "output_type": "stream",
     "text": [
      "time elapsed: 39.73620009422302\nfinished param spherical\n"
     ]
    }
   ],
   "source": [
    "param_range = range(2, 64)\n",
    "\n",
    "em_results = []\n",
    "for param in ['full', 'tied', 'diag', 'spherical']:\n",
    "    em_model = GaussianMixture(n_components=11, covariance_type=param)\n",
    "    em_fit = em_model.fit(X_train)\n",
    "    X_train_gm = em_fit.predict_proba(X_train)\n",
    "    X_val_gm = em_fit.predict_proba(X_val)\n",
    "    em_nn_model_results = finalModel(X_train_gm, y_train, X_val_gm, y_val, learning_curves=False, verbose=True)\n",
    "    em_nn_model_results['param'] = param\n",
    "    em_results.append(em_nn_model_results)\n",
    "    print('finished param {}'.format(param))"
   ]
  },
  {
   "cell_type": "code",
   "execution_count": 27,
   "metadata": {},
   "outputs": [],
   "source": [
    "# unpack my sloppy mess\n",
    "cohen_kappas = []\n",
    "accuracies = []\n",
    "ok_score = []\n",
    "rock_score = []\n",
    "paper_score = []\n",
    "scissors_score = []\n",
    "fit_times = []\n",
    "pred_times = []\n",
    "\n",
    "for result in em_results:\n",
    "    cohen_kappas.append(result['cohen_kappa'])\n",
    "    accuracies.append(result['accuracy'])\n",
    "    ok_score.append(result['okay_accuracy'])\n",
    "    rock_score.append(result['rock_accuracy'])\n",
    "    paper_score.append(result['paper_accuracy'])\n",
    "    scissors_score.append(result['scissors_accuracy'])\n",
    "    fit_times.append(result['fit_time'])\n",
    "    pred_times.append(result['pred_time'])\n",
    "\n",
    "#np.save('em_results', [param_range, cohen_kappas, accuracies, ok_score, rock_score, paper_score, scissors_score, fit_times, pred_times])"
   ]
  },
  {
   "cell_type": "code",
   "execution_count": 27,
   "metadata": {},
   "outputs": [
    {
     "data": {
      "image/png": "[encoded data removed]",
      "text/plain": [
       "<Figure size 432x288 with 1 Axes>"
      ]
     },
     "metadata": {},
     "output_type": "display_data"
    },
    {
     "data": {
      "image/png": "[encoded data removed]",
      "text/plain": [
       "<Figure size 432x288 with 1 Axes>"
      ]
     },
     "metadata": {},
     "output_type": "display_data"
    }
   ],
   "source": [
    "\n",
    "\n",
    "plt.plot(param_range, cohen_kappas, label=\"cohen kappa\", color='blue')\n",
    "plt.plot(param_range, accuracies, label='total accuracy', color='green')\n",
    "plt.xlabel('number of components')\n",
    "plt.legend()\n",
    "plt.show()\n",
    "\n",
    "plt.plot(param_range, ok_score, label = 'okay', color=\"crimson\")\n",
    "plt.plot(param_range, rock_score, label = 'rock', color=\"gold\")\n",
    "plt.plot(param_range, paper_score, label = 'paper', color=\"green\")\n",
    "plt.plot(param_range, scissors_score, label = 'scissors', color=\"blue\")\n",
    "plt.xlabel('number of components')\n",
    "plt.legend()\n",
    "plt.show()"
   ]
  },
  {
   "cell_type": "code",
   "execution_count": 77,
   "metadata": {},
   "outputs": [
    {
     "ename": "AttributeError",
     "evalue": "'numpy.ndarray' object has no attribute 'index'",
     "traceback": [
      "\u001b[0;31m---------------------------------------------------------------------------\u001b[0m",
      "\u001b[0;31mAttributeError\u001b[0m                            Traceback (most recent call last)",
      "\u001b[0;32m<ipython-input-77-fb8963d9e99b>\u001b[0m in \u001b[0;36m<module>\u001b[0;34m()\u001b[0m\n\u001b[0;32m----> 1\u001b[0;31m \u001b[0ma\u001b[0m \u001b[0;34m=\u001b[0m \u001b[0mcohen_kappas\u001b[0m\u001b[0;34m.\u001b[0m\u001b[0mindex\u001b[0m\u001b[0;34m(\u001b[0m\u001b[0mmax\u001b[0m\u001b[0;34m(\u001b[0m\u001b[0mcohen_kappas\u001b[0m\u001b[0;34m)\u001b[0m\u001b[0;34m)\u001b[0m\u001b[0;34m\u001b[0m\u001b[0;34m\u001b[0m\u001b[0m\n\u001b[0m\u001b[1;32m      2\u001b[0m \u001b[0mprint\u001b[0m\u001b[0;34m(\u001b[0m\u001b[0;34m\"max cohen kappa of {m:.4f} at {p} for motions, EM\"\u001b[0m\u001b[0;34m.\u001b[0m\u001b[0mformat\u001b[0m\u001b[0;34m(\u001b[0m\u001b[0mm\u001b[0m\u001b[0;34m=\u001b[0m\u001b[0mmax\u001b[0m\u001b[0;34m(\u001b[0m\u001b[0mcohen_kappas\u001b[0m\u001b[0;34m)\u001b[0m\u001b[0;34m,\u001b[0m \u001b[0mp\u001b[0m\u001b[0;34m=\u001b[0m\u001b[0mparam_range\u001b[0m\u001b[0;34m[\u001b[0m\u001b[0ma\u001b[0m\u001b[0;34m]\u001b[0m\u001b[0;34m)\u001b[0m\u001b[0;34m)\u001b[0m\u001b[0;34m\u001b[0m\u001b[0;34m\u001b[0m\u001b[0m\n",
      "\u001b[0;31mAttributeError\u001b[0m: 'numpy.ndarray' object has no attribute 'index'"
     ],
     "output_type": "error"
    }
   ],
   "source": [
    "a = cohen_kappas.index(max(cohen_kappas))\n",
    "print(\"max cohen kappa of {m:.4f} at {p} for motions, EM\".format(m=max(cohen_kappas), p=param_range[a]))"
   ]
  },
  {
   "cell_type": "code",
   "execution_count": 27,
   "metadata": {},
   "outputs": [
    {
     "data": {
      "image/png": "[encoded data removed]",
      "text/plain": [
       "<Figure size 432x288 with 1 Axes>"
      ]
     },
     "metadata": {},
     "output_type": "display_data"
    }
   ],
   "source": [
    "plt.plot(param_range, fit_times, label=\"fit\", color='blue')\n",
    "plt.plot(param_range, pred_times, label='prediction', color='green')\n",
    "plt.xlabel('n_components')\n",
    "plt.ylabel('computation times')\n",
    "plt.legend()\n",
    "plt.show()"
   ]
  },
  {
   "cell_type": "code",
   "execution_count": null,
   "metadata": {},
   "outputs": [
    {
     "ename": "NameError",
     "evalue": "name 'X_tsne_km' is not defined",
     "traceback": [
      "\u001b[0;31m---------------------------------------------------------------------------\u001b[0m",
      "\u001b[0;31mNameError\u001b[0m                                 Traceback (most recent call last)",
      "\u001b[0;32m<ipython-input-45-6a90469d2f82>\u001b[0m in \u001b[0;36m<module>\u001b[0;34m()\u001b[0m\n\u001b[0;32m----> 1\u001b[0;31m \u001b[0mmodel_tsne\u001b[0m \u001b[0;34m=\u001b[0m \u001b[0mfinalModel\u001b[0m\u001b[0;34m(\u001b[0m\u001b[0mX_tsne_km\u001b[0m\u001b[0;34m,\u001b[0m \u001b[0my_train\u001b[0m\u001b[0;34m,\u001b[0m \u001b[0mX_tsne_km\u001b[0m\u001b[0;34m,\u001b[0m \u001b[0my_train\u001b[0m\u001b[0;34m,\u001b[0m \u001b[0mlearning_curves\u001b[0m\u001b[0;34m=\u001b[0m\u001b[0;32mFalse\u001b[0m\u001b[0;34m)\u001b[0m\u001b[0;34m\u001b[0m\u001b[0;34m\u001b[0m\u001b[0m\n\u001b[0m",
      "\u001b[0;31mNameError\u001b[0m: name 'X_tsne_km' is not defined"
     ],
     "output_type": "error"
    }
   ],
   "source": [
    "model_tsne = finalModel(X_tsne_km, y_train, X_tsne_km, y_train, learning_curves=False)"
   ]
  },
  {
   "cell_type": "code",
   "execution_count": 46,
   "metadata": {},
   "outputs": [
    {
     "ename": "NameError",
     "evalue": "name 'pca_m_data' is not defined",
     "traceback": [
      "\u001b[0;31m---------------------------------------------------------------------------\u001b[0m",
      "\u001b[0;31mNameError\u001b[0m                                 Traceback (most recent call last)",
      "\u001b[0;32m<ipython-input-46-98a1935793fd>\u001b[0m in \u001b[0;36m<module>\u001b[0;34m()\u001b[0m\n\u001b[0;32m----> 1\u001b[0;31m \u001b[0;34m[\u001b[0m\u001b[0mX_pca_m\u001b[0m\u001b[0;34m,\u001b[0m \u001b[0mX_val_pca_m\u001b[0m\u001b[0;34m,\u001b[0m \u001b[0mpca_m\u001b[0m\u001b[0;34m]\u001b[0m \u001b[0;34m=\u001b[0m \u001b[0mpca_m_data\u001b[0m\u001b[0;34m\u001b[0m\u001b[0;34m\u001b[0m\u001b[0m\n\u001b[0m\u001b[1;32m      2\u001b[0m \u001b[0;34m[\u001b[0m\u001b[0mX_pca2_m\u001b[0m\u001b[0;34m,\u001b[0m \u001b[0mX_val_pca2_m\u001b[0m\u001b[0;34m,\u001b[0m \u001b[0mpca2_m\u001b[0m\u001b[0;34m]\u001b[0m \u001b[0;34m=\u001b[0m \u001b[0mpca2_m_data\u001b[0m\u001b[0;34m\u001b[0m\u001b[0;34m\u001b[0m\u001b[0m\n\u001b[1;32m      3\u001b[0m \u001b[0;34m[\u001b[0m\u001b[0mX_ica_m\u001b[0m\u001b[0;34m,\u001b[0m \u001b[0mX_val_ica_m\u001b[0m\u001b[0;34m,\u001b[0m \u001b[0mica_m\u001b[0m\u001b[0;34m]\u001b[0m \u001b[0;34m=\u001b[0m \u001b[0mica_m_data\u001b[0m\u001b[0;34m\u001b[0m\u001b[0;34m\u001b[0m\u001b[0m\n\u001b[1;32m      4\u001b[0m \u001b[0;34m[\u001b[0m\u001b[0mX_rca_m\u001b[0m\u001b[0;34m,\u001b[0m \u001b[0mX_val_rca_m\u001b[0m\u001b[0;34m,\u001b[0m \u001b[0mrca_m\u001b[0m\u001b[0;34m]\u001b[0m \u001b[0;34m=\u001b[0m \u001b[0mrca_m_data\u001b[0m\u001b[0;34m\u001b[0m\u001b[0;34m\u001b[0m\u001b[0m\n\u001b[1;32m      5\u001b[0m \u001b[0mX_tsne_m\u001b[0m \u001b[0;34m=\u001b[0m \u001b[0mtsne_m_data\u001b[0m\u001b[0;34m\u001b[0m\u001b[0;34m\u001b[0m\u001b[0m\n",
      "\u001b[0;31mNameError\u001b[0m: name 'pca_m_data' is not defined"
     ],
     "output_type": "error"
    }
   ],
   "source": [
    ""
   ]
  },
  {
   "cell_type": "code",
   "execution_count": 73,
   "metadata": {},
   "outputs": [],
   "source": [
    "\n"
   ]
  },
  {
   "cell_type": "code",
   "execution_count": 79,
   "metadata": {},
   "outputs": [],
   "source": [
    "#km_y = [pca_y_m, pca2_y_m, ica_y_m, rca_y_m, tsne_y_m, base_y_m]\n",
    "#em_y = [pca_y2_m, pca2_y2_m, ica_y2_m, rca_y2_m, tsne_y2_m, base_y2_m]\n",
    "#km_y_val = [pca_y_val_m, pca2_y_val_m, ica_y_val_m, rca_y_val_m, tsne_y_val_m, base_y_val_m]\n",
    "\n",
    "em_y = [pca_y2_m, pca2_y2_m, ica_y2_m, rca_y2_m, tsne_y2_m, base_y2_m]\n",
    "gm_y_val = [pca_y2_val_gm, pca2_y2_val_gm, ica_y2_val_gm, rca_y2_val_gm]\n",
    "\n",
    "#km_y_fix = [a.reshape(7473, 1) for a in km_y]\n",
    "em_y_fix = [a.reshape(7473, 1) for a in em_y]\n",
    "#km_y_val_fix = [a.reshape(-1, 1) for a in km_y_val]\n",
    "gm_y_val_fix = [a.reshape(-1, 1) for a in gm_y_val]\n",
    "\n",
    "#[pca_y_m, pca2_y_m, ica_y_m, rca_y_m, tsne_y_m, base_y_m] = km_y_fix\n",
    "[pca_y2_m, pca2_y2_m, ica_y2_m, rca_y2_m, tsne_y2_m, base_y2_m] = em_y_fix\n",
    "#[pca_y_val_m, pca2_y_val_m, ica_y_val_m, rca_y_val_m, tsne_y_val_m, base_y_val_m] = km_y_val_fix\n",
    "[pca_y_val_gm, pca2_y_val_gm, ica_y_val_gm, rca_y_val_gm] = gm_y_val_fix\n",
    "\n",
    "X_pca_gm = np.concatenate((X_pca_m, pca_y2_m), axis=1)\n",
    "X_pca2_gm = np.concatenate((X_pca2_m, pca2_y2_m), axis=1)\n",
    "X_ica_gm = np.concatenate((X_ica_m, ica_y2_m), axis = 1)\n",
    "X_rca_gm = np.concatenate((X_rca_m, rca_y2_m), axis = 1)\n",
    "X_tsne_gm = np.concatenate((X_tsne_m, tsne_y2_m), axis = 1)\n",
    "\n",
    "X_val_pca_gm = np.concatenate((X_val_pca_m, pca_y_val_gm), axis=1)\n",
    "X_val_pca2_gm = np.concatenate((X_val_pca2_m, pca2_y_val_gm), axis=1)\n",
    "X_val_ica_gm = np.concatenate((X_val_ica_m, ica_y_val_gm), axis = 1)\n",
    "X_val_rca_gm = np.concatenate((X_val_rca_m, rca_y_val_gm), axis = 1)\n",
    "#X_val_tsne_gm = np.concatenate((X_tsne_m, tsne_y_val_gm), axis = 1)"
   ]
  },
  {
   "cell_type": "code",
   "execution_count": null,
   "metadata": {},
   "outputs": [
    {
     "name": "stdout",
     "output_type": "stream",
     "text": [
      "Running pca-gm\n----------------------------------\n"
     ]
    },
    {
     "name": "stdout",
     "output_type": "stream",
     "text": [
      "Cohen Kappa: 0.5414112205575308\ntime elapsed: 24.067400217056274\n----------------------------------\nRunning pca2-gm\n----------------------------------\n"
     ]
    },
    {
     "ename": "KeyboardInterrupt",
     "evalue": "",
     "traceback": [
      "\u001b[0;31m---------------------------------------------------------------------------\u001b[0m",
      "\u001b[0;31mKeyboardInterrupt\u001b[0m                         Traceback (most recent call last)",
      "\u001b[0;32m<ipython-input-80-8f19e5e40969>\u001b[0m in \u001b[0;36m<module>\u001b[0;34m()\u001b[0m\n\u001b[1;32m      8\u001b[0m     \u001b[0mprint\u001b[0m\u001b[0;34m(\u001b[0m\u001b[0;34m\"Running {}\"\u001b[0m\u001b[0;34m.\u001b[0m\u001b[0mformat\u001b[0m\u001b[0;34m(\u001b[0m\u001b[0mname_list\u001b[0m\u001b[0;34m[\u001b[0m\u001b[0mi\u001b[0m\u001b[0;34m]\u001b[0m\u001b[0;34m)\u001b[0m\u001b[0;34m)\u001b[0m\u001b[0;34m\u001b[0m\u001b[0;34m\u001b[0m\u001b[0m\n\u001b[1;32m      9\u001b[0m     \u001b[0mprint\u001b[0m\u001b[0;34m(\u001b[0m\u001b[0;34m\"----------------------------------\"\u001b[0m\u001b[0;34m)\u001b[0m\u001b[0;34m\u001b[0m\u001b[0;34m\u001b[0m\u001b[0m\n\u001b[0;32m---> 10\u001b[0;31m     \u001b[0mmodel\u001b[0m \u001b[0;34m=\u001b[0m \u001b[0mfinalModel\u001b[0m\u001b[0;34m(\u001b[0m\u001b[0mX_train\u001b[0m\u001b[0;34m,\u001b[0m \u001b[0my_train\u001b[0m\u001b[0;34m,\u001b[0m \u001b[0mX_val\u001b[0m\u001b[0;34m,\u001b[0m \u001b[0my_val\u001b[0m\u001b[0;34m,\u001b[0m \u001b[0mlearning_curves\u001b[0m\u001b[0;34m=\u001b[0m\u001b[0;32mFalse\u001b[0m\u001b[0;34m)\u001b[0m\u001b[0;34m\u001b[0m\u001b[0;34m\u001b[0m\u001b[0m\n\u001b[0m\u001b[1;32m     11\u001b[0m     \u001b[0mmodel_results_gm\u001b[0m\u001b[0;34m.\u001b[0m\u001b[0mappend\u001b[0m\u001b[0;34m(\u001b[0m\u001b[0mmodel\u001b[0m\u001b[0;34m)\u001b[0m\u001b[0;34m\u001b[0m\u001b[0;34m\u001b[0m\u001b[0m\n\u001b[1;32m     12\u001b[0m     \u001b[0mi\u001b[0m \u001b[0;34m=\u001b[0m \u001b[0mi\u001b[0m \u001b[0;34m+\u001b[0m \u001b[0;36m1\u001b[0m\u001b[0;34m\u001b[0m\u001b[0;34m\u001b[0m\u001b[0m\n",
      "\u001b[0;32m<ipython-input-11-fe9ea8d73a3f>\u001b[0m in \u001b[0;36mfinalModel\u001b[0;34m(X_train, y_train, X_test, y_test, learning_curves, classification_model, class_names)\u001b[0m\n\u001b[1;32m     20\u001b[0m \u001b[0;34m\u001b[0m\u001b[0m\n\u001b[1;32m     21\u001b[0m     \u001b[0mt_fit\u001b[0m \u001b[0;34m=\u001b[0m \u001b[0mtime\u001b[0m\u001b[0;34m.\u001b[0m\u001b[0mtime\u001b[0m\u001b[0;34m(\u001b[0m\u001b[0;34m)\u001b[0m\u001b[0;34m\u001b[0m\u001b[0;34m\u001b[0m\u001b[0m\n\u001b[0;32m---> 22\u001b[0;31m     \u001b[0mbest_model\u001b[0m\u001b[0;34m.\u001b[0m\u001b[0mfit\u001b[0m\u001b[0;34m(\u001b[0m\u001b[0mX_train\u001b[0m\u001b[0;34m,\u001b[0m \u001b[0my_train\u001b[0m\u001b[0;34m,\u001b[0m \u001b[0mbatch_size\u001b[0m\u001b[0;34m=\u001b[0m\u001b[0mbat\u001b[0m\u001b[0;34m,\u001b[0m \u001b[0mepochs\u001b[0m\u001b[0;34m=\u001b[0m\u001b[0mepo\u001b[0m\u001b[0;34m)\u001b[0m  \u001b[0;31m#train on the whole training set\u001b[0m\u001b[0;34m\u001b[0m\u001b[0;34m\u001b[0m\u001b[0m\n\u001b[0m\u001b[1;32m     23\u001b[0m     \u001b[0;31m#print(\"Fit time = {}\".format(time.time()-t_fit))\u001b[0m\u001b[0;34m\u001b[0m\u001b[0;34m\u001b[0m\u001b[0;34m\u001b[0m\u001b[0m\n\u001b[1;32m     24\u001b[0m     \u001b[0mmodel_results\u001b[0m\u001b[0;34m[\u001b[0m\u001b[0;34m'fit_time'\u001b[0m\u001b[0;34m]\u001b[0m\u001b[0;34m=\u001b[0m\u001b[0mtime\u001b[0m\u001b[0;34m.\u001b[0m\u001b[0mtime\u001b[0m\u001b[0;34m(\u001b[0m\u001b[0;34m)\u001b[0m\u001b[0;34m-\u001b[0m\u001b[0mt_fit\u001b[0m\u001b[0;34m\u001b[0m\u001b[0;34m\u001b[0m\u001b[0m\n",
      "\u001b[0;32mC:\\Users\\eking\\AppData\\Local\\Programs\\Python\\Python36\\lib\\site-packages\\keras\\wrappers\\scikit_learn.py\u001b[0m in \u001b[0;36mfit\u001b[0;34m(self, x, y, sample_weight, **kwargs)\u001b[0m\n\u001b[1;32m    208\u001b[0m         \u001b[0;32mif\u001b[0m \u001b[0msample_weight\u001b[0m \u001b[0;32mis\u001b[0m \u001b[0;32mnot\u001b[0m \u001b[0;32mNone\u001b[0m\u001b[0;34m:\u001b[0m\u001b[0;34m\u001b[0m\u001b[0;34m\u001b[0m\u001b[0m\n\u001b[1;32m    209\u001b[0m             \u001b[0mkwargs\u001b[0m\u001b[0;34m[\u001b[0m\u001b[0;34m'sample_weight'\u001b[0m\u001b[0;34m]\u001b[0m \u001b[0;34m=\u001b[0m \u001b[0msample_weight\u001b[0m\u001b[0;34m\u001b[0m\u001b[0;34m\u001b[0m\u001b[0m\n\u001b[0;32m--> 210\u001b[0;31m         \u001b[0;32mreturn\u001b[0m \u001b[0msuper\u001b[0m\u001b[0;34m(\u001b[0m\u001b[0mKerasClassifier\u001b[0m\u001b[0;34m,\u001b[0m \u001b[0mself\u001b[0m\u001b[0;34m)\u001b[0m\u001b[0;34m.\u001b[0m\u001b[0mfit\u001b[0m\u001b[0;34m(\u001b[0m\u001b[0mx\u001b[0m\u001b[0;34m,\u001b[0m \u001b[0my\u001b[0m\u001b[0;34m,\u001b[0m \u001b[0;34m**\u001b[0m\u001b[0mkwargs\u001b[0m\u001b[0;34m)\u001b[0m\u001b[0;34m\u001b[0m\u001b[0;34m\u001b[0m\u001b[0m\n\u001b[0m\u001b[1;32m    211\u001b[0m \u001b[0;34m\u001b[0m\u001b[0m\n\u001b[1;32m    212\u001b[0m     \u001b[0;32mdef\u001b[0m \u001b[0mpredict\u001b[0m\u001b[0;34m(\u001b[0m\u001b[0mself\u001b[0m\u001b[0;34m,\u001b[0m \u001b[0mx\u001b[0m\u001b[0;34m,\u001b[0m \u001b[0;34m**\u001b[0m\u001b[0mkwargs\u001b[0m\u001b[0;34m)\u001b[0m\u001b[0;34m:\u001b[0m\u001b[0;34m\u001b[0m\u001b[0;34m\u001b[0m\u001b[0m\n",
      "\u001b[0;32mC:\\Users\\eking\\AppData\\Local\\Programs\\Python\\Python36\\lib\\site-packages\\keras\\wrappers\\scikit_learn.py\u001b[0m in \u001b[0;36mfit\u001b[0;34m(self, x, y, **kwargs)\u001b[0m\n\u001b[1;32m    150\u001b[0m         \u001b[0mfit_args\u001b[0m\u001b[0;34m.\u001b[0m\u001b[0mupdate\u001b[0m\u001b[0;34m(\u001b[0m\u001b[0mkwargs\u001b[0m\u001b[0;34m)\u001b[0m\u001b[0;34m\u001b[0m\u001b[0;34m\u001b[0m\u001b[0m\n\u001b[1;32m    151\u001b[0m \u001b[0;34m\u001b[0m\u001b[0m\n\u001b[0;32m--> 152\u001b[0;31m         \u001b[0mhistory\u001b[0m \u001b[0;34m=\u001b[0m \u001b[0mself\u001b[0m\u001b[0;34m.\u001b[0m\u001b[0mmodel\u001b[0m\u001b[0;34m.\u001b[0m\u001b[0mfit\u001b[0m\u001b[0;34m(\u001b[0m\u001b[0mx\u001b[0m\u001b[0;34m,\u001b[0m \u001b[0my\u001b[0m\u001b[0;34m,\u001b[0m \u001b[0;34m**\u001b[0m\u001b[0mfit_args\u001b[0m\u001b[0;34m)\u001b[0m\u001b[0;34m\u001b[0m\u001b[0;34m\u001b[0m\u001b[0m\n\u001b[0m\u001b[1;32m    153\u001b[0m \u001b[0;34m\u001b[0m\u001b[0m\n\u001b[1;32m    154\u001b[0m         \u001b[0;32mreturn\u001b[0m \u001b[0mhistory\u001b[0m\u001b[0;34m\u001b[0m\u001b[0;34m\u001b[0m\u001b[0m\n",
      "\u001b[0;32mC:\\Users\\eking\\AppData\\Local\\Programs\\Python\\Python36\\lib\\site-packages\\keras\\engine\\training.py\u001b[0m in \u001b[0;36mfit\u001b[0;34m(self, x, y, batch_size, epochs, verbose, callbacks, validation_split, validation_data, shuffle, class_weight, sample_weight, initial_epoch, steps_per_epoch, validation_steps, **kwargs)\u001b[0m\n\u001b[1;32m   1037\u001b[0m                                         \u001b[0minitial_epoch\u001b[0m\u001b[0;34m=\u001b[0m\u001b[0minitial_epoch\u001b[0m\u001b[0;34m,\u001b[0m\u001b[0;34m\u001b[0m\u001b[0;34m\u001b[0m\u001b[0m\n\u001b[1;32m   1038\u001b[0m                                         \u001b[0msteps_per_epoch\u001b[0m\u001b[0;34m=\u001b[0m\u001b[0msteps_per_epoch\u001b[0m\u001b[0;34m,\u001b[0m\u001b[0;34m\u001b[0m\u001b[0;34m\u001b[0m\u001b[0m\n\u001b[0;32m-> 1039\u001b[0;31m                                         validation_steps=validation_steps)\n\u001b[0m\u001b[1;32m   1040\u001b[0m \u001b[0;34m\u001b[0m\u001b[0m\n\u001b[1;32m   1041\u001b[0m     def evaluate(self, x=None, y=None,\n",
      "\u001b[0;32mC:\\Users\\eking\\AppData\\Local\\Programs\\Python\\Python36\\lib\\site-packages\\keras\\engine\\training_arrays.py\u001b[0m in \u001b[0;36mfit_loop\u001b[0;34m(model, f, ins, out_labels, batch_size, epochs, verbose, callbacks, val_f, val_ins, shuffle, callback_metrics, initial_epoch, steps_per_epoch, validation_steps)\u001b[0m\n\u001b[1;32m    197\u001b[0m                     \u001b[0mins_batch\u001b[0m\u001b[0;34m[\u001b[0m\u001b[0mi\u001b[0m\u001b[0;34m]\u001b[0m \u001b[0;34m=\u001b[0m \u001b[0mins_batch\u001b[0m\u001b[0;34m[\u001b[0m\u001b[0mi\u001b[0m\u001b[0;34m]\u001b[0m\u001b[0;34m.\u001b[0m\u001b[0mtoarray\u001b[0m\u001b[0;34m(\u001b[0m\u001b[0;34m)\u001b[0m\u001b[0;34m\u001b[0m\u001b[0;34m\u001b[0m\u001b[0m\n\u001b[1;32m    198\u001b[0m \u001b[0;34m\u001b[0m\u001b[0m\n\u001b[0;32m--> 199\u001b[0;31m                 \u001b[0mouts\u001b[0m \u001b[0;34m=\u001b[0m \u001b[0mf\u001b[0m\u001b[0;34m(\u001b[0m\u001b[0mins_batch\u001b[0m\u001b[0;34m)\u001b[0m\u001b[0;34m\u001b[0m\u001b[0;34m\u001b[0m\u001b[0m\n\u001b[0m\u001b[1;32m    200\u001b[0m                 \u001b[0mouts\u001b[0m \u001b[0;34m=\u001b[0m \u001b[0mto_list\u001b[0m\u001b[0;34m(\u001b[0m\u001b[0mouts\u001b[0m\u001b[0;34m)\u001b[0m\u001b[0;34m\u001b[0m\u001b[0;34m\u001b[0m\u001b[0m\n\u001b[1;32m    201\u001b[0m                 \u001b[0;32mfor\u001b[0m \u001b[0ml\u001b[0m\u001b[0;34m,\u001b[0m \u001b[0mo\u001b[0m \u001b[0;32min\u001b[0m \u001b[0mzip\u001b[0m\u001b[0;34m(\u001b[0m\u001b[0mout_labels\u001b[0m\u001b[0;34m,\u001b[0m \u001b[0mouts\u001b[0m\u001b[0;34m)\u001b[0m\u001b[0;34m:\u001b[0m\u001b[0;34m\u001b[0m\u001b[0;34m\u001b[0m\u001b[0m\n",
      "\u001b[0;32mC:\\Users\\eking\\AppData\\Local\\Programs\\Python\\Python36\\lib\\site-packages\\keras\\backend\\tensorflow_backend.py\u001b[0m in \u001b[0;36m__call__\u001b[0;34m(self, inputs)\u001b[0m\n\u001b[1;32m   2719\u001b[0m                     \u001b[0;34m'In order to feed symbolic tensors to a Keras model '\u001b[0m\u001b[0;34m\u001b[0m\u001b[0;34m\u001b[0m\u001b[0m\n\u001b[1;32m   2720\u001b[0m                     'in TensorFlow, you need tensorflow 1.8 or higher.')\n\u001b[0;32m-> 2721\u001b[0;31m             \u001b[0;32mreturn\u001b[0m \u001b[0mself\u001b[0m\u001b[0;34m.\u001b[0m\u001b[0m_legacy_call\u001b[0m\u001b[0;34m(\u001b[0m\u001b[0minputs\u001b[0m\u001b[0;34m)\u001b[0m\u001b[0;34m\u001b[0m\u001b[0;34m\u001b[0m\u001b[0m\n\u001b[0m\u001b[1;32m   2722\u001b[0m \u001b[0;34m\u001b[0m\u001b[0m\n\u001b[1;32m   2723\u001b[0m \u001b[0;34m\u001b[0m\u001b[0m\n",
      "\u001b[0;32mC:\\Users\\eking\\AppData\\Local\\Programs\\Python\\Python36\\lib\\site-packages\\keras\\backend\\tensorflow_backend.py\u001b[0m in \u001b[0;36m_legacy_call\u001b[0;34m(self, inputs)\u001b[0m\n\u001b[1;32m   2691\u001b[0m         \u001b[0msession\u001b[0m \u001b[0;34m=\u001b[0m \u001b[0mget_session\u001b[0m\u001b[0;34m(\u001b[0m\u001b[0;34m)\u001b[0m\u001b[0;34m\u001b[0m\u001b[0;34m\u001b[0m\u001b[0m\n\u001b[1;32m   2692\u001b[0m         updated = session.run(fetches=fetches, feed_dict=feed_dict,\n\u001b[0;32m-> 2693\u001b[0;31m                               **self.session_kwargs)\n\u001b[0m\u001b[1;32m   2694\u001b[0m         \u001b[0;32mreturn\u001b[0m \u001b[0mupdated\u001b[0m\u001b[0;34m[\u001b[0m\u001b[0;34m:\u001b[0m\u001b[0mlen\u001b[0m\u001b[0;34m(\u001b[0m\u001b[0mself\u001b[0m\u001b[0;34m.\u001b[0m\u001b[0moutputs\u001b[0m\u001b[0;34m)\u001b[0m\u001b[0;34m]\u001b[0m\u001b[0;34m\u001b[0m\u001b[0;34m\u001b[0m\u001b[0m\n\u001b[1;32m   2695\u001b[0m \u001b[0;34m\u001b[0m\u001b[0m\n",
      "\u001b[0;32mC:\\Users\\eking\\AppData\\Local\\Programs\\Python\\Python36\\lib\\site-packages\\tensorflow\\python\\client\\session.py\u001b[0m in \u001b[0;36mrun\u001b[0;34m(self, fetches, feed_dict, options, run_metadata)\u001b[0m\n\u001b[1;32m    903\u001b[0m     \u001b[0;32mtry\u001b[0m\u001b[0;34m:\u001b[0m\u001b[0;34m\u001b[0m\u001b[0;34m\u001b[0m\u001b[0m\n\u001b[1;32m    904\u001b[0m       result = self._run(None, fetches, feed_dict, options_ptr,\n\u001b[0;32m--> 905\u001b[0;31m                          run_metadata_ptr)\n\u001b[0m\u001b[1;32m    906\u001b[0m       \u001b[0;32mif\u001b[0m \u001b[0mrun_metadata\u001b[0m\u001b[0;34m:\u001b[0m\u001b[0;34m\u001b[0m\u001b[0;34m\u001b[0m\u001b[0m\n\u001b[1;32m    907\u001b[0m         \u001b[0mproto_data\u001b[0m \u001b[0;34m=\u001b[0m \u001b[0mtf_session\u001b[0m\u001b[0;34m.\u001b[0m\u001b[0mTF_GetBuffer\u001b[0m\u001b[0;34m(\u001b[0m\u001b[0mrun_metadata_ptr\u001b[0m\u001b[0;34m)\u001b[0m\u001b[0;34m\u001b[0m\u001b[0;34m\u001b[0m\u001b[0m\n",
      "\u001b[0;32mC:\\Users\\eking\\AppData\\Local\\Programs\\Python\\Python36\\lib\\site-packages\\tensorflow\\python\\client\\session.py\u001b[0m in \u001b[0;36m_run\u001b[0;34m(self, handle, fetches, feed_dict, options, run_metadata)\u001b[0m\n\u001b[1;32m   1135\u001b[0m     \u001b[0;32mif\u001b[0m \u001b[0mfinal_fetches\u001b[0m \u001b[0;32mor\u001b[0m \u001b[0mfinal_targets\u001b[0m \u001b[0;32mor\u001b[0m \u001b[0;34m(\u001b[0m\u001b[0mhandle\u001b[0m \u001b[0;32mand\u001b[0m \u001b[0mfeed_dict_tensor\u001b[0m\u001b[0;34m)\u001b[0m\u001b[0;34m:\u001b[0m\u001b[0;34m\u001b[0m\u001b[0;34m\u001b[0m\u001b[0m\n\u001b[1;32m   1136\u001b[0m       results = self._do_run(handle, final_targets, final_fetches,\n\u001b[0;32m-> 1137\u001b[0;31m                              feed_dict_tensor, options, run_metadata)\n\u001b[0m\u001b[1;32m   1138\u001b[0m     \u001b[0;32melse\u001b[0m\u001b[0;34m:\u001b[0m\u001b[0;34m\u001b[0m\u001b[0;34m\u001b[0m\u001b[0m\n\u001b[1;32m   1139\u001b[0m       \u001b[0mresults\u001b[0m \u001b[0;34m=\u001b[0m \u001b[0;34m[\u001b[0m\u001b[0;34m]\u001b[0m\u001b[0;34m\u001b[0m\u001b[0;34m\u001b[0m\u001b[0m\n",
      "\u001b[0;32mC:\\Users\\eking\\AppData\\Local\\Programs\\Python\\Python36\\lib\\site-packages\\tensorflow\\python\\client\\session.py\u001b[0m in \u001b[0;36m_do_run\u001b[0;34m(self, handle, target_list, fetch_list, feed_dict, options, run_metadata)\u001b[0m\n\u001b[1;32m   1353\u001b[0m     \u001b[0;32mif\u001b[0m \u001b[0mhandle\u001b[0m \u001b[0;32mis\u001b[0m \u001b[0;32mNone\u001b[0m\u001b[0;34m:\u001b[0m\u001b[0;34m\u001b[0m\u001b[0;34m\u001b[0m\u001b[0m\n\u001b[1;32m   1354\u001b[0m       return self._do_call(_run_fn, self._session, feeds, fetches, targets,\n\u001b[0;32m-> 1355\u001b[0;31m                            options, run_metadata)\n\u001b[0m\u001b[1;32m   1356\u001b[0m     \u001b[0;32melse\u001b[0m\u001b[0;34m:\u001b[0m\u001b[0;34m\u001b[0m\u001b[0;34m\u001b[0m\u001b[0m\n\u001b[1;32m   1357\u001b[0m       \u001b[0;32mreturn\u001b[0m \u001b[0mself\u001b[0m\u001b[0;34m.\u001b[0m\u001b[0m_do_call\u001b[0m\u001b[0;34m(\u001b[0m\u001b[0m_prun_fn\u001b[0m\u001b[0;34m,\u001b[0m \u001b[0mself\u001b[0m\u001b[0;34m.\u001b[0m\u001b[0m_session\u001b[0m\u001b[0;34m,\u001b[0m \u001b[0mhandle\u001b[0m\u001b[0;34m,\u001b[0m \u001b[0mfeeds\u001b[0m\u001b[0;34m,\u001b[0m \u001b[0mfetches\u001b[0m\u001b[0;34m)\u001b[0m\u001b[0;34m\u001b[0m\u001b[0;34m\u001b[0m\u001b[0m\n",
      "\u001b[0;32mC:\\Users\\eking\\AppData\\Local\\Programs\\Python\\Python36\\lib\\site-packages\\tensorflow\\python\\client\\session.py\u001b[0m in \u001b[0;36m_do_call\u001b[0;34m(self, fn, *args)\u001b[0m\n\u001b[1;32m   1359\u001b[0m   \u001b[0;32mdef\u001b[0m \u001b[0m_do_call\u001b[0m\u001b[0;34m(\u001b[0m\u001b[0mself\u001b[0m\u001b[0;34m,\u001b[0m \u001b[0mfn\u001b[0m\u001b[0;34m,\u001b[0m \u001b[0;34m*\u001b[0m\u001b[0margs\u001b[0m\u001b[0;34m)\u001b[0m\u001b[0;34m:\u001b[0m\u001b[0;34m\u001b[0m\u001b[0;34m\u001b[0m\u001b[0m\n\u001b[1;32m   1360\u001b[0m     \u001b[0;32mtry\u001b[0m\u001b[0;34m:\u001b[0m\u001b[0;34m\u001b[0m\u001b[0;34m\u001b[0m\u001b[0m\n\u001b[0;32m-> 1361\u001b[0;31m       \u001b[0;32mreturn\u001b[0m \u001b[0mfn\u001b[0m\u001b[0;34m(\u001b[0m\u001b[0;34m*\u001b[0m\u001b[0margs\u001b[0m\u001b[0;34m)\u001b[0m\u001b[0;34m\u001b[0m\u001b[0;34m\u001b[0m\u001b[0m\n\u001b[0m\u001b[1;32m   1362\u001b[0m     \u001b[0;32mexcept\u001b[0m \u001b[0merrors\u001b[0m\u001b[0;34m.\u001b[0m\u001b[0mOpError\u001b[0m \u001b[0;32mas\u001b[0m \u001b[0me\u001b[0m\u001b[0;34m:\u001b[0m\u001b[0;34m\u001b[0m\u001b[0;34m\u001b[0m\u001b[0m\n\u001b[1;32m   1363\u001b[0m       \u001b[0mmessage\u001b[0m \u001b[0;34m=\u001b[0m \u001b[0mcompat\u001b[0m\u001b[0;34m.\u001b[0m\u001b[0mas_text\u001b[0m\u001b[0;34m(\u001b[0m\u001b[0me\u001b[0m\u001b[0;34m.\u001b[0m\u001b[0mmessage\u001b[0m\u001b[0;34m)\u001b[0m\u001b[0;34m\u001b[0m\u001b[0;34m\u001b[0m\u001b[0m\n",
      "\u001b[0;32mC:\\Users\\eking\\AppData\\Local\\Programs\\Python\\Python36\\lib\\site-packages\\tensorflow\\python\\client\\session.py\u001b[0m in \u001b[0;36m_run_fn\u001b[0;34m(session, feed_dict, fetch_list, target_list, options, run_metadata)\u001b[0m\n\u001b[1;32m   1338\u001b[0m         \u001b[0;32melse\u001b[0m\u001b[0;34m:\u001b[0m\u001b[0;34m\u001b[0m\u001b[0;34m\u001b[0m\u001b[0m\n\u001b[1;32m   1339\u001b[0m           return tf_session.TF_Run(session, options, feed_dict, fetch_list,\n\u001b[0;32m-> 1340\u001b[0;31m                                    target_list, status, run_metadata)\n\u001b[0m\u001b[1;32m   1341\u001b[0m \u001b[0;34m\u001b[0m\u001b[0m\n\u001b[1;32m   1342\u001b[0m     \u001b[0;32mdef\u001b[0m \u001b[0m_prun_fn\u001b[0m\u001b[0;34m(\u001b[0m\u001b[0msession\u001b[0m\u001b[0;34m,\u001b[0m \u001b[0mhandle\u001b[0m\u001b[0;34m,\u001b[0m \u001b[0mfeed_dict\u001b[0m\u001b[0;34m,\u001b[0m \u001b[0mfetch_list\u001b[0m\u001b[0;34m)\u001b[0m\u001b[0;34m:\u001b[0m\u001b[0;34m\u001b[0m\u001b[0;34m\u001b[0m\u001b[0m\n",
      "\u001b[0;31mKeyboardInterrupt\u001b[0m: "
     ],
     "output_type": "error"
    }
   ],
   "source": [
    "X_train_list_gm = [X_pca_gm, X_pca2_gm, X_ica_gm, X_rca_gm]\n",
    "X_val_list_gm = [X_val_pca_gm, X_val_pca2_gm, X_val_ica_gm, X_val_rca_gm]\n",
    "name_list = ['pca-gm', 'pca2-gm', 'ica-gm', 'rca-gm']\n",
    "model_results_gm=[]\n",
    "\n",
    "i = 0\n",
    "for X_train, X_val in zip(X_train_list_gm, X_val_list_gm):\n",
    "    print(\"Running {}\".format(name_list[i]))\n",
    "    print(\"----------------------------------\")\n",
    "    model = finalModel(X_train, y_train, X_val, y_val, learning_curves=False, verbose=True)\n",
    "    model_results_gm.append(model)\n",
    "    i = i + 1\n",
    "    print(\"----------------------------------\")"
   ]
  },
  {
   "cell_type": "code",
   "execution_count": null,
   "metadata": {},
   "outputs": [
    {
     "ename": "NameError",
     "evalue": "name 'X_tsne_gm' is not defined",
     "traceback": [
      "\u001b[0;31m---------------------------------------------------------------------------\u001b[0m",
      "\u001b[0;31mNameError\u001b[0m                                 Traceback (most recent call last)",
      "\u001b[0;32m<ipython-input-78-82fb1a02133d>\u001b[0m in \u001b[0;36m<module>\u001b[0;34m()\u001b[0m\n\u001b[1;32m      1\u001b[0m \u001b[0mscaler_tsne2\u001b[0m \u001b[0;34m=\u001b[0m \u001b[0mStandardScaler\u001b[0m\u001b[0;34m(\u001b[0m\u001b[0;34m)\u001b[0m\u001b[0;34m\u001b[0m\u001b[0;34m\u001b[0m\u001b[0m\n\u001b[0;32m----> 2\u001b[0;31m \u001b[0mX_tsne_gm_scaled\u001b[0m \u001b[0;34m=\u001b[0m \u001b[0mscaler_tsne2\u001b[0m\u001b[0;34m.\u001b[0m\u001b[0mfit_transform\u001b[0m\u001b[0;34m(\u001b[0m\u001b[0mX_tsne_gm\u001b[0m\u001b[0;34m)\u001b[0m\u001b[0;34m\u001b[0m\u001b[0;34m\u001b[0m\u001b[0m\n\u001b[0m\u001b[1;32m      3\u001b[0m \u001b[0;34m\u001b[0m\u001b[0m\n\u001b[1;32m      4\u001b[0m \u001b[0;34m\u001b[0m\u001b[0m\n\u001b[1;32m      5\u001b[0m \u001b[0mtsne_model\u001b[0m \u001b[0;34m=\u001b[0m \u001b[0mfinalModel\u001b[0m\u001b[0;34m(\u001b[0m\u001b[0mX_tsne_gm\u001b[0m\u001b[0;34m,\u001b[0m \u001b[0my_train\u001b[0m\u001b[0;34m,\u001b[0m \u001b[0mX_tsne_gm\u001b[0m\u001b[0;34m,\u001b[0m \u001b[0my_val\u001b[0m\u001b[0;34m,\u001b[0m \u001b[0mlearning_curves\u001b[0m\u001b[0;34m=\u001b[0m\u001b[0;32mFalse\u001b[0m\u001b[0;34m)\u001b[0m\u001b[0;34m\u001b[0m\u001b[0;34m\u001b[0m\u001b[0m\n",
      "\u001b[0;31mNameError\u001b[0m: name 'X_tsne_gm' is not defined"
     ],
     "output_type": "error"
    }
   ],
   "source": [
    "scaler_tsne2 = StandardScaler()\n",
    "X_tsne_gm_scaled = scaler_tsne2.fit_transform(X_tsne_gm)\n",
    "\n",
    "\n",
    "tsne_model = finalModel(X_tsne_gm, y_train, X_tsne_gm, y_val, learning_curves=False)\n",
    "tsne_model_scaled = finalModel(X_tsne_gm_scaled, y_train, X_tsne_gm_scaled, y_val, learning_curves=False)"
   ]
  },
  {
   "cell_type": "code",
   "execution_count": 10,
   "metadata": {},
   "outputs": [],
   "source": [
    ""
   ]
  },
  {
   "cell_type": "code",
   "execution_count": null,
   "metadata": {},
   "outputs": [],
   "source": []
  },
  {
   "cell_type": "code",
   "execution_count": 6,
   "metadata": {},
   "outputs": [
    {
     "name": "stdout",
     "output_type": "stream",
     "text": [
      "Fit time = 20.709800004959106\nPred time = 20.75659990310669\nrock accuracy =   0.8824\npaper accuracy =   0.8143\nscissors accuracy =   0.7229\nokay accuracy =   0.7368\nCohen Kappa: 0.7182351122662789\nAccuracy: 0.7886570358480471\nF1 Score: 0.7894864480365962\nPrecision: 0.7911094146005148\nRecall: 0.7886570358480471\n"
     ]
    },
    {
     "data": {
      "image/png": "[encoded data removed]",
      "text/plain": [
       "<Figure size 432x288 with 1 Axes>"
      ]
     },
     "metadata": {},
     "output_type": "display_data"
    },
    {
     "name": "stdout",
     "output_type": "stream",
     "text": [
      "time elapsed: 827.1396040916443\n"
     ]
    }
   ],
   "source": [
    "#Truncated PCA\n",
    "pca_model = finalModel(X_pca_m, y_train, X_val_pca_m, y_val, learning_curves=True)"
   ]
  },
  {
   "cell_type": "code",
   "execution_count": 7,
   "metadata": {},
   "outputs": [
    {
     "name": "stdout",
     "output_type": "stream",
     "text": [
      "Fit time = 22.297800302505493\nPred time = 22.323800325393677\nrock accuracy =   0.9608\npaper accuracy =   0.9451\nscissors accuracy =   0.9021\nokay accuracy =   0.9123\nCohen Kappa: 0.9065475031775658\nAccuracy: 0.9299090422685928\nF1 Score: 0.9298101928157596\nPrecision: 0.9300004542585112\nRecall: 0.9299090422685928\n"
     ]
    },
    {
     "data": {
      "image/png": "[encoded data removed]",
      "text/plain": [
       "<Figure size 432x288 with 1 Axes>"
      ]
     },
     "metadata": {},
     "output_type": "display_data"
    },
    {
     "name": "stdout",
     "output_type": "stream",
     "text": [
      "time elapsed: 777.7676043510437\n"
     ]
    }
   ],
   "source": [
    "clear_session() #clear the keras session - omg so important!!!!\n",
    "# #Full PCA\n",
    "pca2_model = finalModel(X_pca2_m, y_train, X_val_pca2_m, y_val, learning_curves=True)"
   ]
  },
  {
   "cell_type": "code",
   "execution_count": 9,
   "metadata": {},
   "outputs": [
    {
     "name": "stdout",
     "output_type": "stream",
     "text": [
      "Fit time = 22.505000352859497\nPred time = 22.55400013923645\nrock accuracy =   0.9564\npaper accuracy =   0.9451\nscissors accuracy =   0.9062\nokay accuracy =   0.8816\nCohen Kappa: 0.896545642571408\nAccuracy: 0.922418405564473\nF1 Score: 0.9224053730602458\nPrecision: 0.9224056521441175\nRecall: 0.922418405564473\n"
     ]
    },
    {
     "data": {
      "image/png": "[encoded data removed]",
      "text/plain": [
       "<Figure size 432x288 with 1 Axes>"
      ]
     },
     "metadata": {},
     "output_type": "display_data"
    },
    {
     "name": "stdout",
     "output_type": "stream",
     "text": [
      "time elapsed: 937.7464048862457\n"
     ]
    }
   ],
   "source": [
    "clear_session() #clear the keras session - omg so important!!!!\n",
    "#Base\n",
    "base_model = finalModel(X_train, y_train, X_val, y_val, learning_curves=True)"
   ]
  },
  {
   "cell_type": "code",
   "execution_count": 17,
   "metadata": {},
   "outputs": [
    {
     "name": "stdout",
     "output_type": "stream",
     "text": [
      "Fit time = 22.701200246810913\nPred time = 22.75000023841858\nrock accuracy =   0.9194\npaper accuracy =   0.9451\nscissors accuracy =   0.8771\nokay accuracy =   0.8640\nCohen Kappa: 0.8687399807630651\nAccuracy: 0.9015516318887106\nF1 Score: 0.901369577081614\nPrecision: 0.9022480962694509\nRecall: 0.9015516318887106\n"
     ]
    },
    {
     "data": {
      "image/png": "[encoded data removed]",
      "text/plain": [
       "<Figure size 432x288 with 1 Axes>"
      ]
     },
     "metadata": {},
     "output_type": "display_data"
    },
    {
     "name": "stdout",
     "output_type": "stream",
     "text": [
      "time elapsed: 904.345803976059\n"
     ]
    }
   ],
   "source": [
    "clear_session() #clear the keras session - omg so important!!!!\n",
    "# ICA\n",
    "ica_model = finalModel(X_ica_m, y_train, X_val_ica_m, y_val, learning_curves=True)"
   ]
  },
  {
   "cell_type": "code",
   "execution_count": 17,
   "metadata": {},
   "outputs": [
    {
     "name": "stdout",
     "output_type": "stream",
     "text": [
      "Fit time = 21.313600301742554\nPred time = 21.36240029335022\nrock accuracy =   0.9150\npaper accuracy =   0.8903\nscissors accuracy =   0.8417\nokay accuracy =   0.8421\nCohen Kappa: 0.8295087485873216\nAccuracy: 0.8721241305510968\nF1 Score: 0.8716247454844681\nPrecision: 0.8717783358626454\nRecall: 0.8721241305510968\n"
     ]
    },
    {
     "data": {
      "image/png": "[encoded data removed]",
      "text/plain": [
       "<Figure size 432x288 with 1 Axes>"
      ]
     },
     "metadata": {},
     "output_type": "display_data"
    },
    {
     "name": "stdout",
     "output_type": "stream",
     "text": [
      "time elapsed: 953.9480037689209\n"
     ]
    }
   ],
   "source": [
    "clear_session() #clear the keras session - omg so important!!!!\n",
    "# RCA\n",
    "rca_model = finalModel(X_rca_m, y_train, X_val_rca_m, y_val, learning_curves=True)"
   ]
  },
  {
   "cell_type": "code",
   "execution_count": 84,
   "metadata": {},
   "outputs": [
    {
     "name": "stdout",
     "output_type": "stream",
     "text": [
      "Fit time = 22.22440004348755\nPred time = 22.318000078201294\nrock accuracy =   0.6862\npaper accuracy =   0.6233\n"
     ]
    },
    {
     "name": "stdout",
     "output_type": "stream",
     "text": [
      "scissors accuracy =   0.3369\nokay accuracy =   0.7064\nCohen Kappa: 0.45163119197870516\nAccuracy: 0.5889201124046568\nF1 Score: 0.5914012724567983\nPrecision: 0.635441315895162\nRecall: 0.5889201124046568\n"
     ]
    },
    {
     "ename": "KeyboardInterrupt",
     "evalue": "",
     "traceback": [
      "\u001b[0;31m---------------------------------------------------------------------------\u001b[0m",
      "\u001b[0;31mKeyboardInterrupt\u001b[0m                         Traceback (most recent call last)",
      "\u001b[0;32m<ipython-input-84-676a9a143b33>\u001b[0m in \u001b[0;36m<module>\u001b[0;34m()\u001b[0m\n\u001b[1;32m      1\u001b[0m \u001b[0mclear_session\u001b[0m\u001b[0;34m(\u001b[0m\u001b[0;34m)\u001b[0m \u001b[0;31m#clear the keras session - omg so important!!!!\u001b[0m\u001b[0;34m\u001b[0m\u001b[0;34m\u001b[0m\u001b[0m\n\u001b[1;32m      2\u001b[0m \u001b[0;31m# TSNE\u001b[0m\u001b[0;34m\u001b[0m\u001b[0;34m\u001b[0m\u001b[0;34m\u001b[0m\u001b[0m\n\u001b[0;32m----> 3\u001b[0;31m \u001b[0mtsne_model\u001b[0m \u001b[0;34m=\u001b[0m \u001b[0mfinalModel\u001b[0m\u001b[0;34m(\u001b[0m\u001b[0mX_tsne_m_scaled\u001b[0m\u001b[0;34m,\u001b[0m \u001b[0my_train\u001b[0m\u001b[0;34m,\u001b[0m \u001b[0mX_tsne_m_scaled\u001b[0m\u001b[0;34m,\u001b[0m \u001b[0my_train\u001b[0m\u001b[0;34m,\u001b[0m \u001b[0mlearning_curves\u001b[0m\u001b[0;34m=\u001b[0m\u001b[0;32mTrue\u001b[0m\u001b[0;34m)\u001b[0m\u001b[0;34m\u001b[0m\u001b[0;34m\u001b[0m\u001b[0m\n\u001b[0m",
      "\u001b[0;32m<ipython-input-82-31ca73b4b5d0>\u001b[0m in \u001b[0;36mfinalModel\u001b[0;34m(X_train, y_train, X_test, y_test, learning_curves, classification_model, class_names, verbose)\u001b[0m\n\u001b[1;32m     58\u001b[0m         \u001b[0mestimator\u001b[0m \u001b[0;34m=\u001b[0m \u001b[0mKerasClassifier\u001b[0m\u001b[0;34m(\u001b[0m\u001b[0mbuild_fn\u001b[0m\u001b[0;34m=\u001b[0m\u001b[0mclassification_model\u001b[0m\u001b[0;34m,\u001b[0m \u001b[0minput_dim\u001b[0m\u001b[0;34m=\u001b[0m\u001b[0mX_train\u001b[0m\u001b[0;34m.\u001b[0m\u001b[0mshape\u001b[0m\u001b[0;34m[\u001b[0m\u001b[0;36m1\u001b[0m\u001b[0;34m]\u001b[0m\u001b[0;34m,\u001b[0m \u001b[0mepochs\u001b[0m\u001b[0;34m=\u001b[0m\u001b[0mepo\u001b[0m\u001b[0;34m,\u001b[0m \u001b[0mbatch_size\u001b[0m\u001b[0;34m=\u001b[0m\u001b[0mbat\u001b[0m\u001b[0;34m,\u001b[0m \u001b[0mverbose\u001b[0m\u001b[0;34m=\u001b[0m\u001b[0;36m0\u001b[0m\u001b[0;34m)\u001b[0m\u001b[0;34m\u001b[0m\u001b[0;34m\u001b[0m\u001b[0m\n\u001b[1;32m     59\u001b[0m         \u001b[0;31m#scorer = make_scorer(cohen_kappa_score)\u001b[0m\u001b[0;34m\u001b[0m\u001b[0;34m\u001b[0m\u001b[0;34m\u001b[0m\u001b[0m\n\u001b[0;32m---> 60\u001b[0;31m         \u001b[0mplot_learning_curves\u001b[0m\u001b[0;34m(\u001b[0m\u001b[0mestimator\u001b[0m\u001b[0;34m,\u001b[0m \u001b[0mX_train\u001b[0m\u001b[0;34m,\u001b[0m \u001b[0my_train\u001b[0m\u001b[0;34m,\u001b[0m \u001b[0mtitle\u001b[0m \u001b[0;34m=\u001b[0m \u001b[0;34m\"Neural Network - Motions Set - Post-Tuning Learning Curves\"\u001b[0m\u001b[0;34m,\u001b[0m \u001b[0mlow_limit\u001b[0m\u001b[0;34m=\u001b[0m\u001b[0;36m0.0\u001b[0m\u001b[0;34m,\u001b[0m \u001b[0mravel\u001b[0m\u001b[0;34m=\u001b[0m\u001b[0;32mFalse\u001b[0m\u001b[0;34m)\u001b[0m\u001b[0;34m\u001b[0m\u001b[0;34m\u001b[0m\u001b[0m\n\u001b[0m\u001b[1;32m     61\u001b[0m \u001b[0;34m\u001b[0m\u001b[0m\n\u001b[1;32m     62\u001b[0m     \u001b[0mprint\u001b[0m\u001b[0;34m(\u001b[0m\u001b[0;34m\"time elapsed: {}\"\u001b[0m\u001b[0;34m.\u001b[0m\u001b[0mformat\u001b[0m\u001b[0;34m(\u001b[0m\u001b[0mtime\u001b[0m\u001b[0;34m.\u001b[0m\u001b[0mtime\u001b[0m\u001b[0;34m(\u001b[0m\u001b[0;34m)\u001b[0m\u001b[0;34m-\u001b[0m\u001b[0mt0\u001b[0m\u001b[0;34m)\u001b[0m\u001b[0;34m)\u001b[0m\u001b[0;34m\u001b[0m\u001b[0;34m\u001b[0m\u001b[0m\n",
      "\u001b[0;32mC:\\Users\\eking\\Google Drive\\1 - OMSA\\CS 7641 - Machine Learning\\HW3\\utility3.py\u001b[0m in \u001b[0;36mplot_learning_curves\u001b[0;34m(estimator, X_train, y_train, title, cv, scorer, low_limit, ravel)\u001b[0m\n\u001b[1;32m    103\u001b[0m \u001b[0;34m\u001b[0m\u001b[0m\n\u001b[1;32m    104\u001b[0m         \u001b[0;32mif\u001b[0m \u001b[0mvalset\u001b[0m\u001b[0;34m:\u001b[0m\u001b[0;34m\u001b[0m\u001b[0;34m\u001b[0m\u001b[0m\n\u001b[0;32m--> 105\u001b[0;31m             \u001b[0mX_val\u001b[0m\u001b[0;34m=\u001b[0m\u001b[0mscaler\u001b[0m\u001b[0;34m.\u001b[0m\u001b[0mtransform\u001b[0m\u001b[0;34m(\u001b[0m\u001b[0mX_val\u001b[0m\u001b[0;34m)\u001b[0m\u001b[0;34m\u001b[0m\u001b[0;34m\u001b[0m\u001b[0m\n\u001b[0m\u001b[1;32m    106\u001b[0m \u001b[0;34m\u001b[0m\u001b[0m\n\u001b[1;32m    107\u001b[0m     \u001b[0;32mif\u001b[0m \u001b[0mvalset\u001b[0m\u001b[0;34m:\u001b[0m\u001b[0;34m\u001b[0m\u001b[0;34m\u001b[0m\u001b[0m\n",
      "\u001b[0;32mC:\\Users\\eking\\AppData\\Local\\Programs\\Python\\Python36\\lib\\site-packages\\sklearn\\model_selection\\_validation.py\u001b[0m in \u001b[0;36mlearning_curve\u001b[0;34m(estimator, X, y, groups, train_sizes, cv, scoring, exploit_incremental_learning, n_jobs, pre_dispatch, verbose, shuffle, random_state, error_score)\u001b[0m\n\u001b[1;32m   1244\u001b[0m             \u001b[0mparameters\u001b[0m\u001b[0;34m=\u001b[0m\u001b[0;32mNone\u001b[0m\u001b[0;34m,\u001b[0m \u001b[0mfit_params\u001b[0m\u001b[0;34m=\u001b[0m\u001b[0;32mNone\u001b[0m\u001b[0;34m,\u001b[0m \u001b[0mreturn_train_score\u001b[0m\u001b[0;34m=\u001b[0m\u001b[0;32mTrue\u001b[0m\u001b[0;34m,\u001b[0m\u001b[0;34m\u001b[0m\u001b[0;34m\u001b[0m\u001b[0m\n\u001b[1;32m   1245\u001b[0m             error_score=error_score)\n\u001b[0;32m-> 1246\u001b[0;31m             for train, test in train_test_proportions)\n\u001b[0m\u001b[1;32m   1247\u001b[0m         \u001b[0mout\u001b[0m \u001b[0;34m=\u001b[0m \u001b[0mnp\u001b[0m\u001b[0;34m.\u001b[0m\u001b[0marray\u001b[0m\u001b[0;34m(\u001b[0m\u001b[0mout\u001b[0m\u001b[0;34m)\u001b[0m\u001b[0;34m\u001b[0m\u001b[0;34m\u001b[0m\u001b[0m\n\u001b[1;32m   1248\u001b[0m         \u001b[0mn_cv_folds\u001b[0m \u001b[0;34m=\u001b[0m \u001b[0mout\u001b[0m\u001b[0;34m.\u001b[0m\u001b[0mshape\u001b[0m\u001b[0;34m[\u001b[0m\u001b[0;36m0\u001b[0m\u001b[0;34m]\u001b[0m \u001b[0;34m//\u001b[0m \u001b[0mn_unique_ticks\u001b[0m\u001b[0;34m\u001b[0m\u001b[0;34m\u001b[0m\u001b[0m\n",
      "\u001b[0;32mC:\\Users\\eking\\AppData\\Local\\Programs\\Python\\Python36\\lib\\site-packages\\sklearn\\externals\\joblib\\parallel.py\u001b[0m in \u001b[0;36m__call__\u001b[0;34m(self, iterable)\u001b[0m\n\u001b[1;32m    918\u001b[0m                 \u001b[0mself\u001b[0m\u001b[0;34m.\u001b[0m\u001b[0m_iterating\u001b[0m \u001b[0;34m=\u001b[0m \u001b[0mself\u001b[0m\u001b[0;34m.\u001b[0m\u001b[0m_original_iterator\u001b[0m \u001b[0;32mis\u001b[0m \u001b[0;32mnot\u001b[0m \u001b[0;32mNone\u001b[0m\u001b[0;34m\u001b[0m\u001b[0;34m\u001b[0m\u001b[0m\n\u001b[1;32m    919\u001b[0m \u001b[0;34m\u001b[0m\u001b[0m\n\u001b[0;32m--> 920\u001b[0;31m             \u001b[0;32mwhile\u001b[0m \u001b[0mself\u001b[0m\u001b[0;34m.\u001b[0m\u001b[0mdispatch_one_batch\u001b[0m\u001b[0;34m(\u001b[0m\u001b[0miterator\u001b[0m\u001b[0;34m)\u001b[0m\u001b[0;34m:\u001b[0m\u001b[0;34m\u001b[0m\u001b[0;34m\u001b[0m\u001b[0m\n\u001b[0m\u001b[1;32m    921\u001b[0m                 \u001b[0;32mpass\u001b[0m\u001b[0;34m\u001b[0m\u001b[0;34m\u001b[0m\u001b[0m\n\u001b[1;32m    922\u001b[0m \u001b[0;34m\u001b[0m\u001b[0m\n",
      "\u001b[0;32mC:\\Users\\eking\\AppData\\Local\\Programs\\Python\\Python36\\lib\\site-packages\\sklearn\\externals\\joblib\\parallel.py\u001b[0m in \u001b[0;36mdispatch_one_batch\u001b[0;34m(self, iterator)\u001b[0m\n\u001b[1;32m    757\u001b[0m                 \u001b[0;32mreturn\u001b[0m \u001b[0;32mFalse\u001b[0m\u001b[0;34m\u001b[0m\u001b[0;34m\u001b[0m\u001b[0m\n\u001b[1;32m    758\u001b[0m             \u001b[0;32melse\u001b[0m\u001b[0;34m:\u001b[0m\u001b[0;34m\u001b[0m\u001b[0;34m\u001b[0m\u001b[0m\n\u001b[0;32m--> 759\u001b[0;31m                 \u001b[0mself\u001b[0m\u001b[0;34m.\u001b[0m\u001b[0m_dispatch\u001b[0m\u001b[0;34m(\u001b[0m\u001b[0mtasks\u001b[0m\u001b[0;34m)\u001b[0m\u001b[0;34m\u001b[0m\u001b[0;34m\u001b[0m\u001b[0m\n\u001b[0m\u001b[1;32m    760\u001b[0m                 \u001b[0;32mreturn\u001b[0m \u001b[0;32mTrue\u001b[0m\u001b[0;34m\u001b[0m\u001b[0;34m\u001b[0m\u001b[0m\n\u001b[1;32m    761\u001b[0m \u001b[0;34m\u001b[0m\u001b[0m\n",
      "\u001b[0;32mC:\\Users\\eking\\AppData\\Local\\Programs\\Python\\Python36\\lib\\site-packages\\sklearn\\externals\\joblib\\parallel.py\u001b[0m in \u001b[0;36m_dispatch\u001b[0;34m(self, batch)\u001b[0m\n\u001b[1;32m    714\u001b[0m         \u001b[0;32mwith\u001b[0m \u001b[0mself\u001b[0m\u001b[0;34m.\u001b[0m\u001b[0m_lock\u001b[0m\u001b[0;34m:\u001b[0m\u001b[0;34m\u001b[0m\u001b[0;34m\u001b[0m\u001b[0m\n\u001b[1;32m    715\u001b[0m             \u001b[0mjob_idx\u001b[0m \u001b[0;34m=\u001b[0m \u001b[0mlen\u001b[0m\u001b[0;34m(\u001b[0m\u001b[0mself\u001b[0m\u001b[0;34m.\u001b[0m\u001b[0m_jobs\u001b[0m\u001b[0;34m)\u001b[0m\u001b[0;34m\u001b[0m\u001b[0;34m\u001b[0m\u001b[0m\n\u001b[0;32m--> 716\u001b[0;31m             \u001b[0mjob\u001b[0m \u001b[0;34m=\u001b[0m \u001b[0mself\u001b[0m\u001b[0;34m.\u001b[0m\u001b[0m_backend\u001b[0m\u001b[0;34m.\u001b[0m\u001b[0mapply_async\u001b[0m\u001b[0;34m(\u001b[0m\u001b[0mbatch\u001b[0m\u001b[0;34m,\u001b[0m \u001b[0mcallback\u001b[0m\u001b[0;34m=\u001b[0m\u001b[0mcb\u001b[0m\u001b[0;34m)\u001b[0m\u001b[0;34m\u001b[0m\u001b[0;34m\u001b[0m\u001b[0m\n\u001b[0m\u001b[1;32m    717\u001b[0m             \u001b[0;31m# A job can complete so quickly than its callback is\u001b[0m\u001b[0;34m\u001b[0m\u001b[0;34m\u001b[0m\u001b[0;34m\u001b[0m\u001b[0m\n\u001b[1;32m    718\u001b[0m             \u001b[0;31m# called before we get here, causing self._jobs to\u001b[0m\u001b[0;34m\u001b[0m\u001b[0;34m\u001b[0m\u001b[0;34m\u001b[0m\u001b[0m\n",
      "\u001b[0;32mC:\\Users\\eking\\AppData\\Local\\Programs\\Python\\Python36\\lib\\site-packages\\sklearn\\externals\\joblib\\_parallel_backends.py\u001b[0m in \u001b[0;36mapply_async\u001b[0;34m(self, func, callback)\u001b[0m\n\u001b[1;32m    180\u001b[0m     \u001b[0;32mdef\u001b[0m \u001b[0mapply_async\u001b[0m\u001b[0;34m(\u001b[0m\u001b[0mself\u001b[0m\u001b[0;34m,\u001b[0m \u001b[0mfunc\u001b[0m\u001b[0;34m,\u001b[0m \u001b[0mcallback\u001b[0m\u001b[0;34m=\u001b[0m\u001b[0;32mNone\u001b[0m\u001b[0;34m)\u001b[0m\u001b[0;34m:\u001b[0m\u001b[0;34m\u001b[0m\u001b[0;34m\u001b[0m\u001b[0m\n\u001b[1;32m    181\u001b[0m         \u001b[0;34m\"\"\"Schedule a func to be run\"\"\"\u001b[0m\u001b[0;34m\u001b[0m\u001b[0;34m\u001b[0m\u001b[0m\n\u001b[0;32m--> 182\u001b[0;31m         \u001b[0mresult\u001b[0m \u001b[0;34m=\u001b[0m \u001b[0mImmediateResult\u001b[0m\u001b[0;34m(\u001b[0m\u001b[0mfunc\u001b[0m\u001b[0;34m)\u001b[0m\u001b[0;34m\u001b[0m\u001b[0;34m\u001b[0m\u001b[0m\n\u001b[0m\u001b[1;32m    183\u001b[0m         \u001b[0;32mif\u001b[0m \u001b[0mcallback\u001b[0m\u001b[0;34m:\u001b[0m\u001b[0;34m\u001b[0m\u001b[0;34m\u001b[0m\u001b[0m\n\u001b[1;32m    184\u001b[0m             \u001b[0mcallback\u001b[0m\u001b[0;34m(\u001b[0m\u001b[0mresult\u001b[0m\u001b[0;34m)\u001b[0m\u001b[0;34m\u001b[0m\u001b[0;34m\u001b[0m\u001b[0m\n",
      "\u001b[0;32mC:\\Users\\eking\\AppData\\Local\\Programs\\Python\\Python36\\lib\\site-packages\\sklearn\\externals\\joblib\\_parallel_backends.py\u001b[0m in \u001b[0;36m__init__\u001b[0;34m(self, batch)\u001b[0m\n\u001b[1;32m    547\u001b[0m         \u001b[0;31m# Don't delay the application, to avoid keeping the input\u001b[0m\u001b[0;34m\u001b[0m\u001b[0;34m\u001b[0m\u001b[0;34m\u001b[0m\u001b[0m\n\u001b[1;32m    548\u001b[0m         \u001b[0;31m# arguments in memory\u001b[0m\u001b[0;34m\u001b[0m\u001b[0;34m\u001b[0m\u001b[0;34m\u001b[0m\u001b[0m\n\u001b[0;32m--> 549\u001b[0;31m         \u001b[0mself\u001b[0m\u001b[0;34m.\u001b[0m\u001b[0mresults\u001b[0m \u001b[0;34m=\u001b[0m \u001b[0mbatch\u001b[0m\u001b[0;34m(\u001b[0m\u001b[0;34m)\u001b[0m\u001b[0;34m\u001b[0m\u001b[0;34m\u001b[0m\u001b[0m\n\u001b[0m\u001b[1;32m    550\u001b[0m \u001b[0;34m\u001b[0m\u001b[0m\n\u001b[1;32m    551\u001b[0m     \u001b[0;32mdef\u001b[0m \u001b[0mget\u001b[0m\u001b[0;34m(\u001b[0m\u001b[0mself\u001b[0m\u001b[0;34m)\u001b[0m\u001b[0;34m:\u001b[0m\u001b[0;34m\u001b[0m\u001b[0;34m\u001b[0m\u001b[0m\n",
      "\u001b[0;32mC:\\Users\\eking\\AppData\\Local\\Programs\\Python\\Python36\\lib\\site-packages\\sklearn\\externals\\joblib\\parallel.py\u001b[0m in \u001b[0;36m__call__\u001b[0;34m(self)\u001b[0m\n\u001b[1;32m    223\u001b[0m         \u001b[0;32mwith\u001b[0m \u001b[0mparallel_backend\u001b[0m\u001b[0;34m(\u001b[0m\u001b[0mself\u001b[0m\u001b[0;34m.\u001b[0m\u001b[0m_backend\u001b[0m\u001b[0;34m,\u001b[0m \u001b[0mn_jobs\u001b[0m\u001b[0;34m=\u001b[0m\u001b[0mself\u001b[0m\u001b[0;34m.\u001b[0m\u001b[0m_n_jobs\u001b[0m\u001b[0;34m)\u001b[0m\u001b[0;34m:\u001b[0m\u001b[0;34m\u001b[0m\u001b[0;34m\u001b[0m\u001b[0m\n\u001b[1;32m    224\u001b[0m             return [func(*args, **kwargs)\n\u001b[0;32m--> 225\u001b[0;31m                     for func, args, kwargs in self.items]\n\u001b[0m\u001b[1;32m    226\u001b[0m \u001b[0;34m\u001b[0m\u001b[0m\n\u001b[1;32m    227\u001b[0m     \u001b[0;32mdef\u001b[0m \u001b[0m__len__\u001b[0m\u001b[0;34m(\u001b[0m\u001b[0mself\u001b[0m\u001b[0;34m)\u001b[0m\u001b[0;34m:\u001b[0m\u001b[0;34m\u001b[0m\u001b[0;34m\u001b[0m\u001b[0m\n",
      "\u001b[0;32mC:\\Users\\eking\\AppData\\Local\\Programs\\Python\\Python36\\lib\\site-packages\\sklearn\\externals\\joblib\\parallel.py\u001b[0m in \u001b[0;36m<listcomp>\u001b[0;34m(.0)\u001b[0m\n\u001b[1;32m    223\u001b[0m         \u001b[0;32mwith\u001b[0m \u001b[0mparallel_backend\u001b[0m\u001b[0;34m(\u001b[0m\u001b[0mself\u001b[0m\u001b[0;34m.\u001b[0m\u001b[0m_backend\u001b[0m\u001b[0;34m,\u001b[0m \u001b[0mn_jobs\u001b[0m\u001b[0;34m=\u001b[0m\u001b[0mself\u001b[0m\u001b[0;34m.\u001b[0m\u001b[0m_n_jobs\u001b[0m\u001b[0;34m)\u001b[0m\u001b[0;34m:\u001b[0m\u001b[0;34m\u001b[0m\u001b[0;34m\u001b[0m\u001b[0m\n\u001b[1;32m    224\u001b[0m             return [func(*args, **kwargs)\n\u001b[0;32m--> 225\u001b[0;31m                     for func, args, kwargs in self.items]\n\u001b[0m\u001b[1;32m    226\u001b[0m \u001b[0;34m\u001b[0m\u001b[0m\n\u001b[1;32m    227\u001b[0m     \u001b[0;32mdef\u001b[0m \u001b[0m__len__\u001b[0m\u001b[0;34m(\u001b[0m\u001b[0mself\u001b[0m\u001b[0;34m)\u001b[0m\u001b[0;34m:\u001b[0m\u001b[0;34m\u001b[0m\u001b[0;34m\u001b[0m\u001b[0m\n",
      "\u001b[0;32mC:\\Users\\eking\\AppData\\Local\\Programs\\Python\\Python36\\lib\\site-packages\\sklearn\\model_selection\\_validation.py\u001b[0m in \u001b[0;36m_fit_and_score\u001b[0;34m(estimator, X, y, scorer, train, test, verbose, parameters, fit_params, return_train_score, return_parameters, return_n_test_samples, return_times, return_estimator, error_score)\u001b[0m\n\u001b[1;32m    526\u001b[0m             \u001b[0mestimator\u001b[0m\u001b[0;34m.\u001b[0m\u001b[0mfit\u001b[0m\u001b[0;34m(\u001b[0m\u001b[0mX_train\u001b[0m\u001b[0;34m,\u001b[0m \u001b[0;34m**\u001b[0m\u001b[0mfit_params\u001b[0m\u001b[0;34m)\u001b[0m\u001b[0;34m\u001b[0m\u001b[0;34m\u001b[0m\u001b[0m\n\u001b[1;32m    527\u001b[0m         \u001b[0;32melse\u001b[0m\u001b[0;34m:\u001b[0m\u001b[0;34m\u001b[0m\u001b[0;34m\u001b[0m\u001b[0m\n\u001b[0;32m--> 528\u001b[0;31m             \u001b[0mestimator\u001b[0m\u001b[0;34m.\u001b[0m\u001b[0mfit\u001b[0m\u001b[0;34m(\u001b[0m\u001b[0mX_train\u001b[0m\u001b[0;34m,\u001b[0m \u001b[0my_train\u001b[0m\u001b[0;34m,\u001b[0m \u001b[0;34m**\u001b[0m\u001b[0mfit_params\u001b[0m\u001b[0;34m)\u001b[0m\u001b[0;34m\u001b[0m\u001b[0;34m\u001b[0m\u001b[0m\n\u001b[0m\u001b[1;32m    529\u001b[0m \u001b[0;34m\u001b[0m\u001b[0m\n\u001b[1;32m    530\u001b[0m     \u001b[0;32mexcept\u001b[0m \u001b[0mException\u001b[0m \u001b[0;32mas\u001b[0m \u001b[0me\u001b[0m\u001b[0;34m:\u001b[0m\u001b[0;34m\u001b[0m\u001b[0;34m\u001b[0m\u001b[0m\n",
      "\u001b[0;32mC:\\Users\\eking\\AppData\\Local\\Programs\\Python\\Python36\\lib\\site-packages\\keras\\wrappers\\scikit_learn.py\u001b[0m in \u001b[0;36mfit\u001b[0;34m(self, x, y, sample_weight, **kwargs)\u001b[0m\n\u001b[1;32m    208\u001b[0m         \u001b[0;32mif\u001b[0m \u001b[0msample_weight\u001b[0m \u001b[0;32mis\u001b[0m \u001b[0;32mnot\u001b[0m \u001b[0;32mNone\u001b[0m\u001b[0;34m:\u001b[0m\u001b[0;34m\u001b[0m\u001b[0;34m\u001b[0m\u001b[0m\n\u001b[1;32m    209\u001b[0m             \u001b[0mkwargs\u001b[0m\u001b[0;34m[\u001b[0m\u001b[0;34m'sample_weight'\u001b[0m\u001b[0;34m]\u001b[0m \u001b[0;34m=\u001b[0m \u001b[0msample_weight\u001b[0m\u001b[0;34m\u001b[0m\u001b[0;34m\u001b[0m\u001b[0m\n\u001b[0;32m--> 210\u001b[0;31m         \u001b[0;32mreturn\u001b[0m \u001b[0msuper\u001b[0m\u001b[0;34m(\u001b[0m\u001b[0mKerasClassifier\u001b[0m\u001b[0;34m,\u001b[0m \u001b[0mself\u001b[0m\u001b[0;34m)\u001b[0m\u001b[0;34m.\u001b[0m\u001b[0mfit\u001b[0m\u001b[0;34m(\u001b[0m\u001b[0mx\u001b[0m\u001b[0;34m,\u001b[0m \u001b[0my\u001b[0m\u001b[0;34m,\u001b[0m \u001b[0;34m**\u001b[0m\u001b[0mkwargs\u001b[0m\u001b[0;34m)\u001b[0m\u001b[0;34m\u001b[0m\u001b[0;34m\u001b[0m\u001b[0m\n\u001b[0m\u001b[1;32m    211\u001b[0m \u001b[0;34m\u001b[0m\u001b[0m\n\u001b[1;32m    212\u001b[0m     \u001b[0;32mdef\u001b[0m \u001b[0mpredict\u001b[0m\u001b[0;34m(\u001b[0m\u001b[0mself\u001b[0m\u001b[0;34m,\u001b[0m \u001b[0mx\u001b[0m\u001b[0;34m,\u001b[0m \u001b[0;34m**\u001b[0m\u001b[0mkwargs\u001b[0m\u001b[0;34m)\u001b[0m\u001b[0;34m:\u001b[0m\u001b[0;34m\u001b[0m\u001b[0;34m\u001b[0m\u001b[0m\n",
      "\u001b[0;32mC:\\Users\\eking\\AppData\\Local\\Programs\\Python\\Python36\\lib\\site-packages\\keras\\wrappers\\scikit_learn.py\u001b[0m in \u001b[0;36mfit\u001b[0;34m(self, x, y, **kwargs)\u001b[0m\n\u001b[1;32m    150\u001b[0m         \u001b[0mfit_args\u001b[0m\u001b[0;34m.\u001b[0m\u001b[0mupdate\u001b[0m\u001b[0;34m(\u001b[0m\u001b[0mkwargs\u001b[0m\u001b[0;34m)\u001b[0m\u001b[0;34m\u001b[0m\u001b[0;34m\u001b[0m\u001b[0m\n\u001b[1;32m    151\u001b[0m \u001b[0;34m\u001b[0m\u001b[0m\n\u001b[0;32m--> 152\u001b[0;31m         \u001b[0mhistory\u001b[0m \u001b[0;34m=\u001b[0m \u001b[0mself\u001b[0m\u001b[0;34m.\u001b[0m\u001b[0mmodel\u001b[0m\u001b[0;34m.\u001b[0m\u001b[0mfit\u001b[0m\u001b[0;34m(\u001b[0m\u001b[0mx\u001b[0m\u001b[0;34m,\u001b[0m \u001b[0my\u001b[0m\u001b[0;34m,\u001b[0m \u001b[0;34m**\u001b[0m\u001b[0mfit_args\u001b[0m\u001b[0;34m)\u001b[0m\u001b[0;34m\u001b[0m\u001b[0;34m\u001b[0m\u001b[0m\n\u001b[0m\u001b[1;32m    153\u001b[0m \u001b[0;34m\u001b[0m\u001b[0m\n\u001b[1;32m    154\u001b[0m         \u001b[0;32mreturn\u001b[0m \u001b[0mhistory\u001b[0m\u001b[0;34m\u001b[0m\u001b[0;34m\u001b[0m\u001b[0m\n",
      "\u001b[0;32mC:\\Users\\eking\\AppData\\Local\\Programs\\Python\\Python36\\lib\\site-packages\\keras\\engine\\training.py\u001b[0m in \u001b[0;36mfit\u001b[0;34m(self, x, y, batch_size, epochs, verbose, callbacks, validation_split, validation_data, shuffle, class_weight, sample_weight, initial_epoch, steps_per_epoch, validation_steps, **kwargs)\u001b[0m\n\u001b[1;32m   1037\u001b[0m                                         \u001b[0minitial_epoch\u001b[0m\u001b[0;34m=\u001b[0m\u001b[0minitial_epoch\u001b[0m\u001b[0;34m,\u001b[0m\u001b[0;34m\u001b[0m\u001b[0;34m\u001b[0m\u001b[0m\n\u001b[1;32m   1038\u001b[0m                                         \u001b[0msteps_per_epoch\u001b[0m\u001b[0;34m=\u001b[0m\u001b[0msteps_per_epoch\u001b[0m\u001b[0;34m,\u001b[0m\u001b[0;34m\u001b[0m\u001b[0;34m\u001b[0m\u001b[0m\n\u001b[0;32m-> 1039\u001b[0;31m                                         validation_steps=validation_steps)\n\u001b[0m\u001b[1;32m   1040\u001b[0m \u001b[0;34m\u001b[0m\u001b[0m\n\u001b[1;32m   1041\u001b[0m     def evaluate(self, x=None, y=None,\n",
      "\u001b[0;32mC:\\Users\\eking\\AppData\\Local\\Programs\\Python\\Python36\\lib\\site-packages\\keras\\engine\\training_arrays.py\u001b[0m in \u001b[0;36mfit_loop\u001b[0;34m(model, f, ins, out_labels, batch_size, epochs, verbose, callbacks, val_f, val_ins, shuffle, callback_metrics, initial_epoch, steps_per_epoch, validation_steps)\u001b[0m\n\u001b[1;32m    197\u001b[0m                     \u001b[0mins_batch\u001b[0m\u001b[0;34m[\u001b[0m\u001b[0mi\u001b[0m\u001b[0;34m]\u001b[0m \u001b[0;34m=\u001b[0m \u001b[0mins_batch\u001b[0m\u001b[0;34m[\u001b[0m\u001b[0mi\u001b[0m\u001b[0;34m]\u001b[0m\u001b[0;34m.\u001b[0m\u001b[0mtoarray\u001b[0m\u001b[0;34m(\u001b[0m\u001b[0;34m)\u001b[0m\u001b[0;34m\u001b[0m\u001b[0;34m\u001b[0m\u001b[0m\n\u001b[1;32m    198\u001b[0m \u001b[0;34m\u001b[0m\u001b[0m\n\u001b[0;32m--> 199\u001b[0;31m                 \u001b[0mouts\u001b[0m \u001b[0;34m=\u001b[0m \u001b[0mf\u001b[0m\u001b[0;34m(\u001b[0m\u001b[0mins_batch\u001b[0m\u001b[0;34m)\u001b[0m\u001b[0;34m\u001b[0m\u001b[0;34m\u001b[0m\u001b[0m\n\u001b[0m\u001b[1;32m    200\u001b[0m                 \u001b[0mouts\u001b[0m \u001b[0;34m=\u001b[0m \u001b[0mto_list\u001b[0m\u001b[0;34m(\u001b[0m\u001b[0mouts\u001b[0m\u001b[0;34m)\u001b[0m\u001b[0;34m\u001b[0m\u001b[0;34m\u001b[0m\u001b[0m\n\u001b[1;32m    201\u001b[0m                 \u001b[0;32mfor\u001b[0m \u001b[0ml\u001b[0m\u001b[0;34m,\u001b[0m \u001b[0mo\u001b[0m \u001b[0;32min\u001b[0m \u001b[0mzip\u001b[0m\u001b[0;34m(\u001b[0m\u001b[0mout_labels\u001b[0m\u001b[0;34m,\u001b[0m \u001b[0mouts\u001b[0m\u001b[0;34m)\u001b[0m\u001b[0;34m:\u001b[0m\u001b[0;34m\u001b[0m\u001b[0;34m\u001b[0m\u001b[0m\n",
      "\u001b[0;32mC:\\Users\\eking\\AppData\\Local\\Programs\\Python\\Python36\\lib\\site-packages\\keras\\backend\\tensorflow_backend.py\u001b[0m in \u001b[0;36m__call__\u001b[0;34m(self, inputs)\u001b[0m\n\u001b[1;32m   2719\u001b[0m                     \u001b[0;34m'In order to feed symbolic tensors to a Keras model '\u001b[0m\u001b[0;34m\u001b[0m\u001b[0;34m\u001b[0m\u001b[0m\n\u001b[1;32m   2720\u001b[0m                     'in TensorFlow, you need tensorflow 1.8 or higher.')\n\u001b[0;32m-> 2721\u001b[0;31m             \u001b[0;32mreturn\u001b[0m \u001b[0mself\u001b[0m\u001b[0;34m.\u001b[0m\u001b[0m_legacy_call\u001b[0m\u001b[0;34m(\u001b[0m\u001b[0minputs\u001b[0m\u001b[0;34m)\u001b[0m\u001b[0;34m\u001b[0m\u001b[0;34m\u001b[0m\u001b[0m\n\u001b[0m\u001b[1;32m   2722\u001b[0m \u001b[0;34m\u001b[0m\u001b[0m\n\u001b[1;32m   2723\u001b[0m \u001b[0;34m\u001b[0m\u001b[0m\n",
      "\u001b[0;32mC:\\Users\\eking\\AppData\\Local\\Programs\\Python\\Python36\\lib\\site-packages\\keras\\backend\\tensorflow_backend.py\u001b[0m in \u001b[0;36m_legacy_call\u001b[0;34m(self, inputs)\u001b[0m\n\u001b[1;32m   2689\u001b[0m             \u001b[0mfeed_dict\u001b[0m\u001b[0;34m[\u001b[0m\u001b[0mtensor\u001b[0m\u001b[0;34m]\u001b[0m \u001b[0;34m=\u001b[0m \u001b[0mvalue\u001b[0m\u001b[0;34m\u001b[0m\u001b[0;34m\u001b[0m\u001b[0m\n\u001b[1;32m   2690\u001b[0m         \u001b[0mfetches\u001b[0m \u001b[0;34m=\u001b[0m \u001b[0mself\u001b[0m\u001b[0;34m.\u001b[0m\u001b[0moutputs\u001b[0m \u001b[0;34m+\u001b[0m \u001b[0;34m[\u001b[0m\u001b[0mself\u001b[0m\u001b[0;34m.\u001b[0m\u001b[0mupdates_op\u001b[0m\u001b[0;34m]\u001b[0m \u001b[0;34m+\u001b[0m \u001b[0mself\u001b[0m\u001b[0;34m.\u001b[0m\u001b[0mfetches\u001b[0m\u001b[0;34m\u001b[0m\u001b[0;34m\u001b[0m\u001b[0m\n\u001b[0;32m-> 2691\u001b[0;31m         \u001b[0msession\u001b[0m \u001b[0;34m=\u001b[0m \u001b[0mget_session\u001b[0m\u001b[0;34m(\u001b[0m\u001b[0;34m)\u001b[0m\u001b[0;34m\u001b[0m\u001b[0;34m\u001b[0m\u001b[0m\n\u001b[0m\u001b[1;32m   2692\u001b[0m         updated = session.run(fetches=fetches, feed_dict=feed_dict,\n\u001b[1;32m   2693\u001b[0m                               **self.session_kwargs)\n",
      "\u001b[0;32mC:\\Users\\eking\\AppData\\Local\\Programs\\Python\\Python36\\lib\\site-packages\\keras\\backend\\tensorflow_backend.py\u001b[0m in \u001b[0;36mget_session\u001b[0;34m()\u001b[0m\n\u001b[1;32m    191\u001b[0m             \u001b[0mcandidate_vars\u001b[0m \u001b[0;34m=\u001b[0m \u001b[0;34m[\u001b[0m\u001b[0;34m]\u001b[0m\u001b[0;34m\u001b[0m\u001b[0;34m\u001b[0m\u001b[0m\n\u001b[1;32m    192\u001b[0m             \u001b[0;32mfor\u001b[0m \u001b[0mv\u001b[0m \u001b[0;32min\u001b[0m \u001b[0mvariables\u001b[0m\u001b[0;34m:\u001b[0m\u001b[0;34m\u001b[0m\u001b[0;34m\u001b[0m\u001b[0m\n\u001b[0;32m--> 193\u001b[0;31m                 \u001b[0;32mif\u001b[0m \u001b[0;32mnot\u001b[0m \u001b[0mgetattr\u001b[0m\u001b[0;34m(\u001b[0m\u001b[0mv\u001b[0m\u001b[0;34m,\u001b[0m \u001b[0;34m'_keras_initialized'\u001b[0m\u001b[0;34m,\u001b[0m \u001b[0;32mFalse\u001b[0m\u001b[0;34m)\u001b[0m\u001b[0;34m:\u001b[0m\u001b[0;34m\u001b[0m\u001b[0;34m\u001b[0m\u001b[0m\n\u001b[0m\u001b[1;32m    194\u001b[0m                     \u001b[0mcandidate_vars\u001b[0m\u001b[0;34m.\u001b[0m\u001b[0mappend\u001b[0m\u001b[0;34m(\u001b[0m\u001b[0mv\u001b[0m\u001b[0;34m)\u001b[0m\u001b[0;34m\u001b[0m\u001b[0;34m\u001b[0m\u001b[0m\n\u001b[1;32m    195\u001b[0m             \u001b[0;32mif\u001b[0m \u001b[0mcandidate_vars\u001b[0m\u001b[0;34m:\u001b[0m\u001b[0;34m\u001b[0m\u001b[0;34m\u001b[0m\u001b[0m\n",
      "\u001b[0;31mKeyboardInterrupt\u001b[0m: "
     ],
     "output_type": "error"
    }
   ],
   "source": [
    "clear_session() #clear the keras session - omg so important!!!!\n",
    "# TSNE\n",
    "tsne_model = finalModel(X_tsne_m, y_train, X_tsne_m, y_train, learning_curves=True)"
   ]
  },
  {
   "cell_type": "code",
   "execution_count": 17,
   "metadata": {},
   "outputs": [
    {
     "name": "stdout",
     "output_type": "stream",
     "text": [
      "yippie kai yai yay!\n"
     ]
    }
   ],
   "source": [
    "print('yippie kai yai yay!')"
   ]
  },
  {
   "cell_type": "code",
   "execution_count": null,
   "metadata": {},
   "outputs": [],
   "source": [
    ""
   ]
  },
  {
   "cell_type": "code",
   "execution_count": null,
   "metadata": {},
   "outputs": [],
   "source": [
    ""
   ]
  },
  {
   "cell_type": "code",
   "execution_count": 11,
   "metadata": {},
   "outputs": [],
   "source": [
    "#Build the model\n",
    "useLeakyReLU = True  # as an \"advanced\" activation function, it must be added as its own layer not as a parameter on another layer\n",
    "\n",
    "if useLeakyReLU == False:\n",
    "    def classification_model(n1=n1, n2=n2, n3 =n2, input_dim=64, mid_act = mid_act, num_layers = num_layers, optimizer = optimizer, activation = activation):\n",
    "        model = Sequential()\n",
    "        model.add(Dense(n1, input_dim=input_dim, activation=mid_act))\n",
    "        model.add(Dense(n2, activation=mid_act))\n",
    "        for i in range(num_layers-2):\n",
    "            model.add(Dense(n3, activation=mid_act))\n",
    "        model.add(Dense(4, activation=activation))\n",
    "        model.compile(optimizer= optimizer,\n",
    "                      loss='sparse_categorical_crossentropy',\n",
    "                      metrics=['accuracy'])\n",
    "        return model\n",
    "else:\n",
    "    def classification_model(n1=n1, n2=n2, n3 =n2, input_dim=64, mid_act = mid_act, num_layers = num_layers, optimizer = optimizer, activation = activation):\n",
    "        model = Sequential()\n",
    "        model.add(Dense(n1, input_dim=input_dim))\n",
    "        model.add(LeakyReLU())\n",
    "        model.add(Dense(n2))\n",
    "        model.add(LeakyReLU())\n",
    "        for i in range(num_layers-2):\n",
    "            model.add(Dense(n3))\n",
    "            model.add(LeakyReLU())\n",
    "        model.add(Dense(4, activation=activation))\n",
    "        model.compile(optimizer= optimizer,\n",
    "                      loss='sparse_categorical_crossentropy',\n",
    "                      metrics=['accuracy'])\n",
    "        return model\n",
    "\n",
    "#model = KerasClassifier(build_fn=classification_model, epochs=epo, batch_size=bat, verbose=0)\n",
    "\n",
    "scorer = make_scorer(cohen_kappa_score)"
   ]
  },
  {
   "cell_type": "code",
   "execution_count": 12,
   "metadata": {},
   "outputs": [],
   "source": [
    "# Final Model\n",
    "#finalModel = True\n",
    "def finalModel(X_train, y_train, X_test, y_test, learning_curves = True, \n",
    "               classification_model=classification_model, class_names=class_names,\n",
    "               verbose=True):\n",
    "    clear_session()\n",
    "    model_results = defaultdict(float)\n",
    "    ########## BEST FOUND PARAMETERS from HW1 #####\n",
    "    n1 = 75\n",
    "    n2 = 14\n",
    "    mid_act = 'relu' #useleakyrelu is enabled...\n",
    "    num_layers = 3\n",
    "    optimizer = 'adam'\n",
    "    activation = 'sigmoid' \n",
    "    epo = 100 #10\n",
    "    bat = 44 #18\n",
    "    ##############################################\n",
    "    t0 = time.time()\n",
    "    best_model = KerasClassifier(build_fn=classification_model, input_dim=X_train.shape[1], verbose=0)\n",
    "    #model3 = KerasClassifier(build_fn=classification_model, optimizer='rmsprop', epochs=epo, batch_size=bat, verbose=0)\n",
    "    \n",
    "    t_fit = time.time()\n",
    "    best_model.fit(X_train, y_train, batch_size=bat, epochs=epo)  #train on the whole training set\n",
    "    if verbose:\n",
    "        print(\"Fit time = {}\".format(time.time()-t_fit))\n",
    "    model_results['fit_time']=time.time()-t_fit\n",
    "    t_pred = time.time()\n",
    "    y_pred = best_model.predict(X_test)\n",
    "    if verbose:\n",
    "        print(\"Pred time = {}\".format(time.time()-t_fit))\n",
    "    model_results['pred_time']=time.time()-t_fit\n",
    "    for motion_type in class_names:\n",
    "        pred_score = best_model.score(X_test[y_test == motion_type], y_test[y_test == motion_type])\n",
    "        if verbose:\n",
    "            print(\"{} accuracy = {p:8.4f}\".format(motion_type, p=pred_score))\n",
    "        model_results[motion_type+'_accuracy']=pred_score\n",
    "    \n",
    "    print(\"Cohen Kappa: {}\".format(cohen_kappa_score(y_pred, y_test)))  \n",
    "    if verbose:\n",
    "        print(\"Accuracy: {}\".format(accuracy_score(y_pred, y_test)))\n",
    "        print(\"F1 Score: {}\".format(f1_score(y_pred, y_test, average='weighted')))\n",
    "        print(\"Precision: {}\".format(precision_score(y_pred, y_test, average='weighted')))\n",
    "        print(\"Recall: {}\".format(recall_score(y_pred, y_test, average='weighted')))\n",
    "    \n",
    "    model_results['cohen_kappa']=cohen_kappa_score(y_pred, y_test)\n",
    "    model_results['accuracy']=accuracy_score(y_pred, y_test)\n",
    "    model_results['f1']=f1_score(y_pred, y_test, average='weighted')\n",
    "    model_results['precision']=f1_score(y_pred, y_test, average='weighted')\n",
    "    model_results['recall']=recall_score(y_pred, y_test, average='weighted')\n",
    "    \n",
    "    model_results['y_test_pred']=y_pred\n",
    "    model_results['y_train_pred']=best_model.predict(X_train)\n",
    "    model_results['model']=best_model\n",
    "    \n",
    "    #learning_curves = True\n",
    "    if learning_curves:\n",
    "        clear_session()\n",
    "        estimator = KerasClassifier(build_fn=classification_model, input_dim=X_train.shape[1], epochs=epo, batch_size=bat, verbose=0)\n",
    "        #scorer = make_scorer(cohen_kappa_score)\n",
    "        plot_learning_curves(estimator, X_train, y_train, title = \"Neural Network - Motions Set - Post-Tuning Learning Curves\", low_limit=0.0, ravel=False)\n",
    "    \n",
    "    print(\"time elapsed: {}\".format(time.time()-t0))\n",
    "    \n",
    "    \n",
    "    return model_results"
   ]
  },
  {
   "cell_type": "code",
   "execution_count": null,
   "metadata": {},
   "outputs": [],
   "source": [
    "# References\n",
    "# https://www.tensorflow.org/tutorials/keras/basic_classification\n",
    "# https://machinelearningmastery.com/multi-class-classification-tutorial-keras-deep-learning-library/\n",
    "# http://thedatascientist.com/performance-measures-cohens-kappa-statistic/\n",
    "# https://machinelearningmastery.com/display-deep-learning-model-training-history-in-keras/\n",
    "# https://scikit-learn.org/stable/auto_examples/model_selection/plot_randomized_search.html#sphx-glr-auto-examples-model-selection-plot-randomized-search-py"
   ]
  }
 ],
 "metadata": {
  "kernelspec": {
   "display_name": "Python 2",
   "language": "python",
   "name": "python2"
  },
  "language_info": {
   "codemirror_mode": {
    "name": "ipython",
    "version": 2
   },
   "file_extension": ".py",
   "mimetype": "text/x-python",
   "name": "python",
   "nbconvert_exporter": "python",
   "pygments_lexer": "ipython2",
   "version": "2.7.6"
  }
 },
 "nbformat": 4,
 "nbformat_minor": 0
}
