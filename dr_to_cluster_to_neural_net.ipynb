{
 "cells": [
  {
   "cell_type": "code",
   "execution_count": 40,
   "metadata": {
    "collapsed": true
   },
   "outputs": [],
   "source": [
    "# Imports\n",
    "import numpy as np\n",
    "import time\n",
    "import matplotlib.pyplot as plt\n",
    "from keras.models import Sequential\n",
    "from keras.layers import Dense\n",
    "from keras.wrappers.scikit_learn import KerasClassifier\n",
    "from keras.backend import clear_session\n",
    "from sklearn.model_selection import GridSearchCV, RandomizedSearchCV, train_test_split\n",
    "from scipy.stats import randint as sp_randint\n",
    "from keras.layers import LeakyReLU\n",
    "from sklearn.metrics import make_scorer, cohen_kappa_score, accuracy_score, f1_score, precision_score, recall_score\n",
    "from sklearn.cluster import KMeans\n",
    "from sklearn.mixture import GaussianMixture\n",
    "\n",
    "from utility3 import load_data, plot_learning_curves, report, plot_lines1"
   ]
  },
  {
   "cell_type": "code",
   "execution_count": 41,
   "metadata": {},
   "outputs": [
    {
     "name": "stdout",
     "output_type": "stream",
     "text": [
      "motions shapes: (11678, 64), (11678, 1)\n"
     ]
    }
   ],
   "source": [
    "#X_train_m, X_val_m, X_test_m, y_train_m, y_val_m, y_test_m, class_names_m = load_data('motions', scale=True, valset=True)\n",
    "#X_train_p, X_val_p, X_test_p, y_train_p, y_val_p, y_test_p, class_names_p = load_data('particles', scale=True, valset=True)\n",
    "X_train, X_val, X_test, y_train, y_val, y_test, class_names = load_data('motions', scale=True, valset=True)\n",
    "\n",
    "# Load Data from the DR Algorithms\n",
    "\n",
    "pca_m_data = np.load('pca_m_data.npy')\n",
    "pca2_m_data = np.load('pca2_m_data.npy')\n",
    "ica_m_data = np.load('ica_m_data.npy')\n",
    "rca_m_data = np.load('rca_m_data.npy')\n",
    "tsne_m_data = np.load('ica_m_tsne_X.npy')\n",
    "\n",
    "\n",
    "[X_pca_m, X_val_pca_m, pca_m] = pca_m_data\n",
    "[X_pca2_m, X_val_pca2_m, pca2_m] = pca2_m_data\n",
    "[X_ica_m, X_val_ica_m, ica_m] = ica_m_data\n",
    "[X_rca_m, X_val_rca_m, rca_m] = rca_m_data\n",
    "X_tsne_m = tsne_m_data\n",
    "\n",
    "\n",
    "########## BEST FOUND PARAMETERS from HW1 #####\n",
    "n1 = 75\n",
    "n2 = 14\n",
    "mid_act = 'relu' #useleakyrelu is enabled...\n",
    "num_layers = 3\n",
    "optimizer = 'adam'\n",
    "activation = 'sigmoid' \n",
    "epo = 100 #10\n",
    "bat = 44 #18\n",
    "##############################################"
   ]
  },
  {
   "cell_type": "code",
   "execution_count": 42,
   "metadata": {},
   "outputs": [],
   "source": [
    "# import cluster data for part 5\n",
    "\n",
    "[pca_y_m, pca2_y_m, ica_y_m, rca_y_m, tsne_y_m, base_y_m] = np.load('motions_kmeans.npy')\n",
    "\n",
    "[pca_y_val_m, pca2_y_val_m, ica_y_val_m, rca_y_val_m, tsne_y_val_m, base_y_val_m] = np.load('y_vals.npy')"
   ]
  },
  {
   "cell_type": "code",
   "execution_count": 43,
   "metadata": {},
   "outputs": [],
   "source": [
    "km_y = [pca_y_m, pca2_y_m, ica_y_m, rca_y_m, tsne_y_m, base_y_m]\n",
    "km_y_val = [pca_y_val_m, pca2_y_val_m, ica_y_val_m, rca_y_val_m, tsne_y_val_m, base_y_val_m]\n",
    "\n",
    "km_y_fix = [a.reshape(7473, 1) for a in km_y]\n",
    "#em_y_fix = [a.reshape(7473, 1) for a in em_y]\n",
    "km_y_val_fix = [a.reshape(-1, 1) for a in km_y_val]\n",
    "\n",
    "[pca_y_m, pca2_y_m, ica_y_m, rca_y_m, tsne_y_m, base_y_m] = km_y_fix\n",
    "#[pca_y2_m, pca2_y2_m, ica_y2_m, rca_y2_m, tsne_y2_m, base_y2_m] = em_y_fix\n",
    "[pca_y_val_m, pca2_y_val_m, ica_y_val_m, rca_y_val_m, tsne_y_val_m, base_y_val_m] = km_y_val_fix\n",
    "\n",
    "X_pca_km = np.concatenate((X_pca_m, pca_y_m), axis=1)\n",
    "X_pca2_km = np.concatenate((X_pca2_m, pca2_y_m), axis=1)\n",
    "X_ica_km = np.concatenate((X_ica_m, ica_y_m), axis = 1)\n",
    "X_rca_km = np.concatenate((X_rca_m, rca_y_m), axis = 1)\n",
    "X_tsne_km = np.concatenate((X_tsne_m, tsne_y_m), axis = 1)\n",
    "\n",
    "X_val_pca_km = np.concatenate((X_val_pca_m, pca_y_val_m), axis=1)\n",
    "X_val_pca2_km = np.concatenate((X_val_pca2_m, pca2_y_val_m), axis=1)\n",
    "X_val_ica_km = np.concatenate((X_val_ica_m, ica_y_val_m), axis = 1)\n",
    "X_val_rca_km = np.concatenate((X_val_rca_m, rca_y_val_m), axis = 1)\n",
    "X_val_tsne_km = np.concatenate((X_tsne_m, tsne_y_val_m), axis = 1)"
   ]
  },
  {
   "cell_type": "code",
   "execution_count": 44,
   "metadata": {},
   "outputs": [
    {
     "data": {
      "text/plain": [
       "(1869, 64)"
      ]
     },
     "execution_count": 44,
     "metadata": {},
     "output_type": "execute_result"
    }
   ],
   "source": [
    "X_val.shape"
   ]
  },
  {
   "cell_type": "code",
   "execution_count": 45,
   "metadata": {},
   "outputs": [],
   "source": [
    "kmeans_model = KMeans(n_clusters=26)\n",
    "em_model = GaussianMixture(n_components=11)"
   ]
  },
  {
   "cell_type": "code",
   "execution_count": 16,
   "metadata": {},
   "outputs": [
    {
     "name": "stdout",
     "output_type": "stream",
     "text": [
      "Running pca-kmeans\n----------------------------------\n"
     ]
    },
    {
     "name": "stdout",
     "output_type": "stream",
     "text": [
      "Fit time = 20.20740032196045\nPred time = 20.254200220108032\nrock accuracy =   0.8366\npaper accuracy =   0.7743\nscissors accuracy =   0.6937\nokay accuracy =   0.7412\nCohen Kappa: 0.6812584340652108\nAccuracy: 0.7608346709470305\nF1 Score: 0.7590822883688845\nPrecision: 0.7612330865922904\nRecall: 0.7608346709470305\ntime elapsed: 20.346200227737427\n----------------------------------\nRunning pca2-kmeans\n----------------------------------\n"
     ]
    },
    {
     "name": "stdout",
     "output_type": "stream",
     "text": [
      "Fit time = 24.47819995880127\nPred time = 24.51919984817505\nrock accuracy =   0.9412\npaper accuracy =   0.9135\nscissors accuracy =   0.9021\nokay accuracy =   0.8794\nCohen Kappa: 0.8787178515275642\nAccuracy: 0.9090422685928304\nF1 Score: 0.9089485063841518\nPrecision: 0.9090060729419684\nRecall: 0.9090422685928304\ntime elapsed: 24.602200031280518\n----------------------------------\nRunning ica-kmeans\n----------------------------------\n"
     ]
    },
    {
     "name": "stdout",
     "output_type": "stream",
     "text": [
      "Fit time = 20.052600145339966\nPred time = 20.083800077438354\nrock accuracy =   0.8562\npaper accuracy =   0.3481\nscissors accuracy =   0.8333\nokay accuracy =   0.8860\nCohen Kappa: 0.639053950898877\nAccuracy: 0.7287319422150883\nF1 Score: 0.73693801866472\nPrecision: 0.8121590808541521\nRecall: 0.7287319422150883\ntime elapsed: 20.161800146102905\n----------------------------------\nRunning rca-kmeans\n----------------------------------\n"
     ]
    },
    {
     "name": "stdout",
     "output_type": "stream",
     "text": [
      "Fit time = 20.59599995613098\nPred time = 20.642800092697144\nrock accuracy =   0.8780\npaper accuracy =   0.7700\nscissors accuracy =   0.8229\nokay accuracy =   0.8706\nCohen Kappa: 0.7796838091227042\nAccuracy: 0.8346709470304976\nF1 Score: 0.8319767225653905\nPrecision: 0.8392020942573319\nRecall: 0.8346709470304976\ntime elapsed: 20.752000093460083\n----------------------------------\n"
     ]
    }
   ],
   "source": [
    "X_train_list = [X_pca_km, X_pca2_km, X_ica_km, X_rca_km]\n",
    "X_val_list = [X_val_pca_km, X_val_pca2_km, X_val_ica_km, X_val_rca_km]\n",
    "name_list = ['pca-kmeans', 'pca2-kmeans', 'ica-kmeans', 'rca-kmeans']\n",
    "model_results=[]\n",
    "\n",
    "i = 0\n",
    "for X_train, X_val in zip(X_train_list, X_val_list):\n",
    "    print(\"Running {}\".format(name_list[i]))\n",
    "    print(\"----------------------------------\")\n",
    "    model = finalModel(X_train, y_train, X_val, y_val, learning_curves=False)\n",
    "    model_results.append(model)\n",
    "    i = i + 1\n",
    "    print(\"----------------------------------\")"
   ]
  },
  {
   "cell_type": "code",
   "execution_count": 46,
   "metadata": {},
   "outputs": [
    {
     "name": "stdout",
     "output_type": "stream",
     "text": [
      "Fit time = 23.167800188064575\nPred time = 23.277000188827515\nrock accuracy =   0.8805\n"
     ]
    },
    {
     "name": "stdout",
     "output_type": "stream",
     "text": [
      "paper accuracy =   0.9402\nscissors accuracy =   0.7846\nokay accuracy =   0.7469\nCohen Kappa: 0.7842675266366367\nAccuracy: 0.8382175832998796\nF1 Score: 0.8396058200976501\nPrecision: 0.845434518216284"
     ]
    },
    {
     "name": "stdout",
     "output_type": "stream",
     "text": [
      "\nRecall: 0.8382175832998796\ntime elapsed: 23.58900022506714\n"
     ]
    }
   ],
   "source": [
    "model_tsne = finalModel(X_tsne_km, y_train, X_tsne_km, y_train, learning_curves=False)"
   ]
  },
  {
   "cell_type": "code",
   "execution_count": 47,
   "metadata": {},
   "outputs": [],
   "source": [
    "[X_pca_m, X_val_pca_m, pca_m] = pca_m_data\n",
    "[X_pca2_m, X_val_pca2_m, pca2_m] = pca2_m_data\n",
    "[X_ica_m, X_val_ica_m, ica_m] = ica_m_data\n",
    "[X_rca_m, X_val_rca_m, rca_m] = rca_m_data\n",
    "X_tsne_m = tsne_m_data"
   ]
  },
  {
   "cell_type": "code",
   "execution_count": 48,
   "metadata": {},
   "outputs": [],
   "source": [
    "[pca_y2_val_gm, pca2_y2_val_gm, ica_y2_val_gm, rca_y2_val_gm] = np.load('motions_val_em.npy')\n",
    "[pca_y2_m, pca2_y2_m, ica_y2_m, rca_y2_m, tsne_y2_m, base_y2_m] = np.load('motions_em.npy')\n"
   ]
  },
  {
   "cell_type": "code",
   "execution_count": 49,
   "metadata": {},
   "outputs": [],
   "source": [
    "#km_y = [pca_y_m, pca2_y_m, ica_y_m, rca_y_m, tsne_y_m, base_y_m]\n",
    "#em_y = [pca_y2_m, pca2_y2_m, ica_y2_m, rca_y2_m, tsne_y2_m, base_y2_m]\n",
    "#km_y_val = [pca_y_val_m, pca2_y_val_m, ica_y_val_m, rca_y_val_m, tsne_y_val_m, base_y_val_m]\n",
    "\n",
    "em_y = [pca_y2_m, pca2_y2_m, ica_y2_m, rca_y2_m, tsne_y2_m, base_y2_m]\n",
    "gm_y_val = [pca_y2_val_gm, pca2_y2_val_gm, ica_y2_val_gm, rca_y2_val_gm]\n",
    "\n",
    "#km_y_fix = [a.reshape(7473, 1) for a in km_y]\n",
    "em_y_fix = [a.reshape(7473, 1) for a in em_y]\n",
    "#km_y_val_fix = [a.reshape(-1, 1) for a in km_y_val]\n",
    "gm_y_val_fix = [a.reshape(-1, 1) for a in gm_y_val]\n",
    "\n",
    "#[pca_y_m, pca2_y_m, ica_y_m, rca_y_m, tsne_y_m, base_y_m] = km_y_fix\n",
    "[pca_y2_m, pca2_y2_m, ica_y2_m, rca_y2_m, tsne_y2_m, base_y2_m] = em_y_fix\n",
    "#[pca_y_val_m, pca2_y_val_m, ica_y_val_m, rca_y_val_m, tsne_y_val_m, base_y_val_m] = km_y_val_fix\n",
    "[pca_y_val_gm, pca2_y_val_gm, ica_y_val_gm, rca_y_val_gm] = gm_y_val_fix\n",
    "\n",
    "X_pca_gm = np.concatenate((X_pca_m, pca_y2_m), axis=1)\n",
    "X_pca2_gm = np.concatenate((X_pca2_m, pca2_y2_m), axis=1)\n",
    "X_ica_gm = np.concatenate((X_ica_m, ica_y2_m), axis = 1)\n",
    "X_rca_gm = np.concatenate((X_rca_m, rca_y2_m), axis = 1)\n",
    "X_tsne_gm = np.concatenate((X_tsne_m, tsne_y2_m), axis = 1)\n",
    "\n",
    "X_val_pca_gm = np.concatenate((X_val_pca_m, pca_y_val_gm), axis=1)\n",
    "X_val_pca2_gm = np.concatenate((X_val_pca2_m, pca2_y_val_gm), axis=1)\n",
    "X_val_ica_gm = np.concatenate((X_val_ica_m, ica_y_val_gm), axis = 1)\n",
    "X_val_rca_gm = np.concatenate((X_val_rca_m, rca_y_val_gm), axis = 1)\n",
    "#X_val_tsne_gm = np.concatenate((X_tsne_m, tsne_y_val_gm), axis = 1)"
   ]
  },
  {
   "cell_type": "code",
   "execution_count": 26,
   "metadata": {},
   "outputs": [
    {
     "name": "stdout",
     "output_type": "stream",
     "text": [
      "Running pca-gm\n----------------------------------\n"
     ]
    },
    {
     "name": "stdout",
     "output_type": "stream",
     "text": [
      "Fit time = 18.3503999710083\nPred time = 18.412799835205078\nrock accuracy =   0.8649\npaper accuracy =   0.6371\nscissors accuracy =   0.6292\nokay accuracy =   0.4232\nCohen Kappa: 0.517877595194884\nAccuracy: 0.6388443017656501\nF1 Score: 0.6399239403715732\nPrecision: 0.6674273900815261\nRecall: 0.6388443017656501\ntime elapsed: 18.507399797439575\n----------------------------------\nRunning pca2-gm\n----------------------------------\n"
     ]
    },
    {
     "name": "stdout",
     "output_type": "stream",
     "text": [
      "Fit time = 20.74940013885498\nPred time = 20.78060007095337\nrock accuracy =   0.9630\npaper accuracy =   0.9367\nscissors accuracy =   0.9437\nokay accuracy =   0.8596\nCohen Kappa: 0.9015216076533978\nAccuracy: 0.9261637239165329\nF1 Score: 0.9264556229829138\nPrecision: 0.9272585178370211\nRecall: 0.9261637239165329\ntime elapsed: 20.874200105667114\n----------------------------------\nRunning ica-gm\n----------------------------------\n"
     ]
    },
    {
     "name": "stdout",
     "output_type": "stream",
     "text": [
      "Fit time = 18.52560019493103\nPred time = 18.556800365447998\nrock accuracy =   0.8649\npaper accuracy =   0.0169\nscissors accuracy =   0.0292\nokay accuracy =   0.2500\nCohen Kappa: 0.04490395428361604\nAccuracy: 0.28517924023542\nF1 Score: 0.2643235831169321\nPrecision: 0.2492624837194474\nRecall: 0.28517924023542\ntime elapsed: 18.63480019569397\n----------------------------------\nRunning rca-gm\n----------------------------------\n"
     ]
    },
    {
     "name": "stdout",
     "output_type": "stream",
     "text": [
      "Fit time = 18.14240026473999\nPred time = 18.189200401306152\nrock accuracy =   0.7560\npaper accuracy =   0.9135\nscissors accuracy =   0.1437\nokay accuracy =   0.8531\nCohen Kappa: 0.5508511951007724\nAccuracy: 0.6623863028357411\nF1 Score: 0.6975321106908337\nPrecision: 0.7627602569825627\nRecall: 0.6623863028357411\ntime elapsed: 18.25160026550293\n----------------------------------\n"
     ]
    }
   ],
   "source": [
    "X_train_list_gm = [X_pca_gm, X_pca2_gm, X_ica_gm, X_rca_gm]\n",
    "X_val_list_gm = [X_val_pca_gm, X_val_pca2_gm, X_val_ica_gm, X_val_rca_gm]\n",
    "name_list = ['pca-gm', 'pca2-gm', 'ica-gm', 'rca-gm']\n",
    "model_results_gm=[]\n",
    "\n",
    "pca_params = {'n1':75, 'n2': 14, 'n3':14, 'num_layers':3, 'optimizer':'adam', 'activation':'sigmoid', 'epo':15, 'bat':46}\n",
    "pca2_params = pca_params\n",
    "rca_params = pca_params\n",
    "ica_params = {'n1':218, 'n2': 218, 'n3':256, 'num_layers':3, 'optimizer':'adamax', 'activation':'softmax', 'epo':17, 'bat':46}\n",
    "\n",
    "other_params_list = [pca_params, pca2_params, ica_params, rca_params]\n",
    "\n",
    "i = 0\n",
    "for X_train, X_val, other_params in zip(X_train_list_gm, X_val_list_gm, other_params_list):\n",
    "    print(\"Running {}\".format(name_list[i]))\n",
    "    print(\"----------------------------------\")\n",
    "    model = finalModel(X_train, y_train, X_val, y_val, learning_curves=False)\n",
    "    model_results_gm.append(model)\n",
    "    i = i + 1\n",
    "    print(\"----------------------------------\")"
   ]
  },
  {
   "cell_type": "code",
   "execution_count": 50,
   "metadata": {},
   "outputs": [
    {
     "name": "stdout",
     "output_type": "stream",
     "text": [
      "Fit time = 20.343000173568726\nPred time = 20.46780014038086\nrock accuracy =   0.8634"
     ]
    },
    {
     "name": "stdout",
     "output_type": "stream",
     "text": [
      "\npaper accuracy =   0.9578\nscissors accuracy =   0.8067\nokay accuracy =   0.7192\nCohen Kappa: 0.7824911423202056\nAccuracy: 0.8368794326241135\nF1 Score: 0.8385339344347394\n"
     ]
    },
    {
     "name": "stdout",
     "output_type": "stream",
     "text": [
      "Precision: 0.8477033964821497\nRecall: 0.8368794326241135\ntime elapsed: 20.748600006103516\n"
     ]
    }
   ],
   "source": [
    "from sklearn.preprocessing import StandardScaler\n",
    "\n",
    "tsne_gm_scaler = StandardScaler()\n",
    "X_tsne_gm_scaled = tsne_gm_scaler.fit_transform(X_tsne_gm)\n",
    "\n",
    "model_tsne_gm = finalModel(X_tsne_gm_scaled, y_train, X_tsne_gm_scaled, y_train, learning_curves=False)"
   ]
  },
  {
   "cell_type": "code",
   "execution_count": null,
   "metadata": {},
   "outputs": [],
   "source": [
    "tsne_gm_scaler = StandardScaler()\n",
    "X_tsne_gm_scaled = tsne_gm_scaler.fit_transform(X_tsne_gm)\n",
    "\n",
    "model_tsne_gm = finalModel(X_tsne_gm_scaled, y_train, X_tsne_gm_scaled, y_train, learning_curves=False)"
   ]
  },
  {
   "cell_type": "code",
   "execution_count": 55,
   "metadata": {},
   "outputs": [
    {
     "data": {
      "text/plain": [
       "(7473, 2)"
      ]
     },
     "execution_count": 55,
     "metadata": {},
     "output_type": "execute_result"
    }
   ],
   "source": [
    "#combining perplexity settings\n",
    "tsne_set = np.load('X_tsne_m_set.npy')\n",
    "tsne_set[0].shape"
   ]
  },
  {
   "cell_type": "code",
   "execution_count": 58,
   "metadata": {},
   "outputs": [
    {
     "data": {
      "text/plain": [
       "(7473, 14)"
      ]
     },
     "execution_count": 58,
     "metadata": {},
     "output_type": "execute_result"
    }
   ],
   "source": [
    "tsne_combined_perplexity = tsne_set[0]\n",
    "for i in range(6):\n",
    "    tsne_combined_perplexity = np.concatenate((tsne_combined_perplexity, tsne_set[i]), axis=1)\n",
    "\n",
    "tsne_combined_perplexity.shape"
   ]
  },
  {
   "cell_type": "code",
   "execution_count": 59,
   "metadata": {},
   "outputs": [
    {
     "name": "stdout",
     "output_type": "stream",
     "text": [
      "Fit time = 20.105000257492065\nPred time = 20.214200258255005\nrock accuracy =   1.0000\n"
     ]
    },
    {
     "name": "stdout",
     "output_type": "stream",
     "text": [
      "paper accuracy =   0.0000\nscissors accuracy =   0.0000\nokay accuracy =   0.0000\nCohen Kappa: 0.0\nAccuracy: 0.2507694366385655\nF1 Score: 0.40098427302877926\nPrecision: 1.0\n"
     ]
    },
    {
     "name": "stderr",
     "output_type": "stream",
     "text": [
      "C:\\Users\\eking\\AppData\\Local\\Programs\\Python\\Python36\\lib\\site-packages\\sklearn\\metrics\\classification.py:1145: UndefinedMetricWarning: F-score is ill-defined and being set to 0.0 in labels with no true samples.\n  'recall', 'true', average, warn_for)\nC:\\Users\\eking\\AppData\\Local\\Programs\\Python\\Python36\\lib\\site-packages\\sklearn\\metrics\\classification.py:1145: UndefinedMetricWarning: Recall is ill-defined and being set to 0.0 in labels with no true samples.\n  'recall', 'true', average, warn_for)\n"
     ]
    },
    {
     "name": "stdout",
     "output_type": "stream",
     "text": [
      "Recall: 0.2507694366385655\ntime elapsed: 20.49500012397766\n"
     ]
    },
    {
     "name": "stdout",
     "output_type": "stream",
     "text": [
      "Fit time = 18.924400091171265\nPred time = 19.0492000579834\nrock accuracy =   0.8330\n"
     ]
    },
    {
     "name": "stdout",
     "output_type": "stream",
     "text": [
      "paper accuracy =   0.6398\nscissors accuracy =   0.1317\nokay accuracy =   0.2894\nCohen Kappa: 0.2988939109676929\nAccuracy: 0.47450822962665595\nF1 Score: 0.5163936003544786\nPrecision: 0.6079067824196012\n"
     ]
    },
    {
     "name": "stdout",
     "output_type": "stream",
     "text": [
      "Recall: 0.47450822962665595\ntime elapsed: 19.382800102233887\n"
     ]
    },
    {
     "name": "stdout",
     "output_type": "stream",
     "text": [
      "Fit time = 21.485000133514404\nPred time = 21.57859992980957\nrock accuracy =   0.3661\npaper accuracy =   0.4835\n"
     ]
    },
    {
     "name": "stdout",
     "output_type": "stream",
     "text": [
      "scissors accuracy =   0.5227\nokay accuracy =   0.4373\nCohen Kappa: 0.2698940312316165\nAccuracy: 0.4521611133413622\nF1 Score: 0.4458831228529681\nPrecision: 0.473150731829698\nRecall: 0.4521611133413622\ntime elapsed: 21.828200340270996\n"
     ]
    },
    {
     "name": "stdout",
     "output_type": "stream",
     "text": [
      "Fit time = 18.21500015258789\nPred time = 18.308599948883057\nrock accuracy =   0.8138\npaper accuracy =   0.3778\n"
     ]
    },
    {
     "name": "stdout",
     "output_type": "stream",
     "text": [
      "scissors accuracy =   0.0940\nokay accuracy =   0.5238\nCohen Kappa: 0.27063643382961755\nAccuracy: 0.4533654489495517\nF1 Score: 0.4948157233690734\nPrecision: 0.5847635618399473\nRecall: 0.4533654489495517\ntime elapsed: 18.558200120925903\n"
     ]
    },
    {
     "name": "stdout",
     "output_type": "stream",
     "text": [
      "Fit time = 18.677000284194946\nPred time = 18.77060031890869\nrock accuracy =   0.6147\n"
     ]
    },
    {
     "name": "stdout",
     "output_type": "stream",
     "text": [
      "paper accuracy =   0.4312\nscissors accuracy =   0.2570\nokay accuracy =   0.5686\nCohen Kappa: 0.29102009606597834\nAccuracy: 0.46848655158570857\nF1 Score: 0.47311275934574615\nPrecision: 0.5048532575109432\n"
     ]
    },
    {
     "name": "stdout",
     "output_type": "stream",
     "text": [
      "Recall: 0.46848655158570857\ntime elapsed: 19.09820008277893\n"
     ]
    },
    {
     "name": "stdout",
     "output_type": "stream",
     "text": [
      "Fit time = 18.219000101089478\nPred time = 18.328199863433838\nrock accuracy =   0.5928\n"
     ]
    },
    {
     "name": "stdout",
     "output_type": "stream",
     "text": [
      "paper accuracy =   0.5342\nscissors accuracy =   0.3623\nokay accuracy =   0.4939\nCohen Kappa: 0.3282502252090772\nAccuracy: 0.4961862705740666\nF1 Score: 0.49239354134313956\n"
     ]
    },
    {
     "name": "stdout",
     "output_type": "stream",
     "text": [
      "Precision: 0.49212524644124905\nRecall: 0.4961862705740666\ntime elapsed: 18.655800104141235\n"
     ]
    },
    {
     "name": "stdout",
     "output_type": "stream",
     "text": [
      "Fit time = 17.865400075912476\nPred time = 17.960000038146973\nrock accuracy =   0.7823\npaper accuracy =   0.6094\n"
     ]
    },
    {
     "name": "stdout",
     "output_type": "stream",
     "text": [
      "scissors accuracy =   0.2252\nokay accuracy =   0.5099\nCohen Kappa: 0.3764482459732972\nAccuracy: 0.5325839689549043\nF1 Score: 0.55407904718904\nPrecision: 0.5997748005689054\nRecall: 0.5325839689549043\ntime elapsed: 18.225200176239014\n"
     ]
    },
    {
     "name": "stdout",
     "output_type": "stream",
     "text": [
      "Fit time = 18.00660014152527\nPred time = 18.100200176239014\nrock accuracy =   0.7401\npaper accuracy =   0.7177"
     ]
    },
    {
     "name": "stdout",
     "output_type": "stream",
     "text": [
      "\nscissors accuracy =   0.2446\nokay accuracy =   0.4325\nCohen Kappa: 0.37915909767499245\nAccuracy: 0.5345911949685535\nF1 Score: 0.5548261764481562\nPrecision: 0.6014941194691268\nRecall: 0.5345911949685535\ntime elapsed: 18.34980010986328\n"
     ]
    },
    {
     "name": "stdout",
     "output_type": "stream",
     "text": [
      "Fit time = 18.02280020713806\nPred time = 18.132000207901\nrock accuracy =   0.6889\npaper accuracy =   0.6275\n"
     ]
    },
    {
     "name": "stdout",
     "output_type": "stream",
     "text": [
      "scissors accuracy =   0.3866\nokay accuracy =   0.4677\nCohen Kappa: 0.39081089621575915\nAccuracy: 0.5431553592934565\nF1 Score: 0.5453959184768372\nPrecision: 0.5505627310676505\nRecall: 0.5431553592934565\ntime elapsed: 18.366000175476074\n"
     ]
    },
    {
     "name": "stdout",
     "output_type": "stream",
     "text": [
      "Fit time = 18.804800033569336\nPred time = 18.914000034332275\nrock accuracy =   0.6121\n"
     ]
    },
    {
     "name": "stdout",
     "output_type": "stream",
     "text": [
      "paper accuracy =   0.5027\nscissors accuracy =   0.5178\nokay accuracy =   0.5499\nCohen Kappa: 0.394382971153885\nAccuracy: 0.545697845577412\nF1 Score: 0.5395921342590404\nPrecision: 0.542460835308914\nRecall: 0.545697845577412\ntime elapsed: 19.163600206375122\n"
     ]
    },
    {
     "name": "stdout",
     "output_type": "stream",
     "text": [
      "Fit time = 18.64960026741028\nPred time = 18.758800268173218\nrock accuracy =   0.7535\n"
     ]
    },
    {
     "name": "stdout",
     "output_type": "stream",
     "text": [
      "paper accuracy =   0.5966\nscissors accuracy =   0.2948\nokay accuracy =   0.5659\nCohen Kappa: 0.404346507063302\nAccuracy: 0.5534591194968553\nF1 Score: 0.5663534824608112\nPrecision: 0.5965427251793801\n"
     ]
    },
    {
     "name": "stdout",
     "output_type": "stream",
     "text": [
      "Recall: 0.5534591194968553\ntime elapsed: 19.039600133895874\n"
     ]
    },
    {
     "name": "stdout",
     "output_type": "stream",
     "text": [
      "Fit time = 18.422600030899048\nPred time = 18.516200065612793\nrock accuracy =   0.5880\n"
     ]
    },
    {
     "name": "stdout",
     "output_type": "stream",
     "text": [
      "paper accuracy =   0.6105\nscissors accuracy =   0.5086\nokay accuracy =   0.5670\nCohen Kappa: 0.42499349922539786\nAccuracy: 0.5687140372005888\nF1 Score: 0.5627335327807695\nPrecision: 0.5667880838092458\nRecall: 0.5687140372005888"
     ]
    },
    {
     "name": "stdout",
     "output_type": "stream",
     "text": [
      "\ntime elapsed: 18.812600135803223\n"
     ]
    },
    {
     "name": "stdout",
     "output_type": "stream",
     "text": [
      "Fit time = 18.23800015449524\nPred time = 18.331600189208984\nrock accuracy =   0.7188\npaper accuracy =   0.7022"
     ]
    },
    {
     "name": "stdout",
     "output_type": "stream",
     "text": [
      "\nscissors accuracy =   0.3143\nokay accuracy =   0.5275\nCohen Kappa: 0.42166865837008793\nAccuracy: 0.5664391810517865\nF1 Score: 0.5780334194159203\n"
     ]
    },
    {
     "name": "stdout",
     "output_type": "stream",
     "text": [
      "Precision: 0.6086220920461672\nRecall: 0.5664391810517865\ntime elapsed: 18.659199953079224\n"
     ]
    },
    {
     "name": "stdout",
     "output_type": "stream",
     "text": [
      "Fit time = 18.342600107192993\nPred time = 18.451800107955933\nrock accuracy =   0.7022"
     ]
    },
    {
     "name": "stdout",
     "output_type": "stream",
     "text": [
      "\npaper accuracy =   0.5480\nscissors accuracy =   0.3402\nokay accuracy =   0.6770\nCohen Kappa: 0.4231415415427656\nAccuracy: 0.5675097015923993\n"
     ]
    },
    {
     "name": "stdout",
     "output_type": "stream",
     "text": [
      "F1 Score: 0.5730225216345523\nPrecision: 0.6032890883229927\nRecall: 0.5675097015923993\ntime elapsed: 18.801000118255615\n"
     ]
    },
    {
     "name": "stdout",
     "output_type": "stream",
     "text": [
      "Fit time = 18.62280011177063\nPred time = 18.73200011253357\nrock accuracy =   0.7086\npaper accuracy =   0.6660"
     ]
    },
    {
     "name": "stdout",
     "output_type": "stream",
     "text": [
      "\nscissors accuracy =   0.3634\nokay accuracy =   0.5910\nCohen Kappa: 0.44366741547829625\nAccuracy: 0.5828984343637094\nF1 Score: 0.5891209820621567\nPrecision: 0.6069625690953884\nRecall: 0.5828984343637094\ntime elapsed: 18.99720025062561\n"
     ]
    },
    {
     "name": "stdout",
     "output_type": "stream",
     "text": [
      "Fit time = 19.3334002494812\nPred time = 19.44260025024414\nrock accuracy =   0.7305\npaper accuracy =   0.5555\n"
     ]
    },
    {
     "name": "stdout",
     "output_type": "stream",
     "text": [
      "scissors accuracy =   0.4131\nokay accuracy =   0.6113\nCohen Kappa: 0.4373216001050737\nAccuracy: 0.5780810919309515\nF1 Score: 0.5810874526277968\nPrecision: 0.5914892932108669\n"
     ]
    },
    {
     "name": "stdout",
     "output_type": "stream",
     "text": [
      "Recall: 0.5780810919309515\ntime elapsed: 19.754600286483765\n"
     ]
    }
   ],
   "source": [
    "from collections import defaultdict\n",
    "result_tsne_combo = defaultdict(list)\n",
    "for param in range(1, 64, 4):\n",
    "    gm_combined_tsne = GaussianMixture(n_components=param)\n",
    "    gm_combined_tsne.fit(tsne_combined_perplexity)\n",
    "    X_tsne_gm_combo = gm_combined_tsne.predict_proba(tsne_combined_perplexity)\n",
    "    \n",
    "    result_tsne_combo[param] = finalModel(X_tsne_gm_combo, y_train, X_tsne_gm_combo, y_train, learning_curves=False)"
   ]
  },
  {
   "cell_type": "code",
   "execution_count": 6,
   "metadata": {},
   "outputs": [
    {
     "name": "stdout",
     "output_type": "stream",
     "text": [
      "Fit time = 20.709800004959106\nPred time = 20.75659990310669\nrock accuracy =   0.8824\npaper accuracy =   0.8143\nscissors accuracy =   0.7229\nokay accuracy =   0.7368\nCohen Kappa: 0.7182351122662789\nAccuracy: 0.7886570358480471\nF1 Score: 0.7894864480365962\nPrecision: 0.7911094146005148\nRecall: 0.7886570358480471\n"
     ]
    },
    {
     "data": {
      "image/png": "[encoded data removed]",
      "text/plain": [
       "<Figure size 432x288 with 1 Axes>"
      ]
     },
     "metadata": {},
     "output_type": "display_data"
    },
    {
     "name": "stdout",
     "output_type": "stream",
     "text": [
      "time elapsed: 827.1396040916443\n"
     ]
    }
   ],
   "source": [
    "#Truncated PCA\n",
    "pca_model = finalModel(X_pca_m, y_train, X_val_pca_m, y_val, learning_curves=True)"
   ]
  },
  {
   "cell_type": "code",
   "execution_count": 7,
   "metadata": {},
   "outputs": [
    {
     "name": "stdout",
     "output_type": "stream",
     "text": [
      "Fit time = 22.297800302505493\nPred time = 22.323800325393677\nrock accuracy =   0.9608\npaper accuracy =   0.9451\nscissors accuracy =   0.9021\nokay accuracy =   0.9123\nCohen Kappa: 0.9065475031775658\nAccuracy: 0.9299090422685928\nF1 Score: 0.9298101928157596\nPrecision: 0.9300004542585112\nRecall: 0.9299090422685928\n"
     ]
    },
    {
     "data": {
      "image/png": "[encoded data removed]",
      "text/plain": [
       "<Figure size 432x288 with 1 Axes>"
      ]
     },
     "metadata": {},
     "output_type": "display_data"
    },
    {
     "name": "stdout",
     "output_type": "stream",
     "text": [
      "time elapsed: 777.7676043510437\n"
     ]
    }
   ],
   "source": [
    "clear_session() #clear the keras session - omg so important!!!!\n",
    "# #Full PCA\n",
    "pca2_model = finalModel(X_pca2_m, y_train, X_val_pca2_m, y_val, learning_curves=True)"
   ]
  },
  {
   "cell_type": "code",
   "execution_count": 9,
   "metadata": {},
   "outputs": [
    {
     "name": "stdout",
     "output_type": "stream",
     "text": [
      "Fit time = 22.505000352859497\nPred time = 22.55400013923645\nrock accuracy =   0.9564\npaper accuracy =   0.9451\nscissors accuracy =   0.9062\nokay accuracy =   0.8816\nCohen Kappa: 0.896545642571408\nAccuracy: 0.922418405564473\nF1 Score: 0.9224053730602458\nPrecision: 0.9224056521441175\nRecall: 0.922418405564473\n"
     ]
    },
    {
     "data": {
      "image/png": "[encoded data removed]",
      "text/plain": [
       "<Figure size 432x288 with 1 Axes>"
      ]
     },
     "metadata": {},
     "output_type": "display_data"
    },
    {
     "name": "stdout",
     "output_type": "stream",
     "text": [
      "time elapsed: 937.7464048862457\n"
     ]
    }
   ],
   "source": [
    "clear_session() #clear the keras session - omg so important!!!!\n",
    "#Base\n",
    "base_model = finalModel(X_train, y_train, X_val, y_val, learning_curves=True)"
   ]
  },
  {
   "cell_type": "code",
   "execution_count": 17,
   "metadata": {},
   "outputs": [
    {
     "name": "stdout",
     "output_type": "stream",
     "text": [
      "Fit time = 22.701200246810913\nPred time = 22.75000023841858\nrock accuracy =   0.9194\npaper accuracy =   0.9451\nscissors accuracy =   0.8771\nokay accuracy =   0.8640\nCohen Kappa: 0.8687399807630651\nAccuracy: 0.9015516318887106\nF1 Score: 0.901369577081614\nPrecision: 0.9022480962694509\nRecall: 0.9015516318887106\n"
     ]
    },
    {
     "data": {
      "image/png": "[encoded data removed]",
      "text/plain": [
       "<Figure size 432x288 with 1 Axes>"
      ]
     },
     "metadata": {},
     "output_type": "display_data"
    },
    {
     "name": "stdout",
     "output_type": "stream",
     "text": [
      "time elapsed: 904.345803976059\n"
     ]
    }
   ],
   "source": [
    "clear_session() #clear the keras session - omg so important!!!!\n",
    "# ICA\n",
    "ica_model = finalModel(X_ica_m, y_train, X_val_ica_m, y_val, learning_curves=True)"
   ]
  },
  {
   "cell_type": "code",
   "execution_count": 17,
   "metadata": {},
   "outputs": [
    {
     "name": "stdout",
     "output_type": "stream",
     "text": [
      "Fit time = 21.313600301742554\nPred time = 21.36240029335022\nrock accuracy =   0.9150\npaper accuracy =   0.8903\nscissors accuracy =   0.8417\nokay accuracy =   0.8421\nCohen Kappa: 0.8295087485873216\nAccuracy: 0.8721241305510968\nF1 Score: 0.8716247454844681\nPrecision: 0.8717783358626454\nRecall: 0.8721241305510968\n"
     ]
    },
    {
     "data": {
      "image/png": "[encoded data removed]",
      "text/plain": [
       "<Figure size 432x288 with 1 Axes>"
      ]
     },
     "metadata": {},
     "output_type": "display_data"
    },
    {
     "name": "stdout",
     "output_type": "stream",
     "text": [
      "time elapsed: 953.9480037689209\n"
     ]
    }
   ],
   "source": [
    "clear_session() #clear the keras session - omg so important!!!!\n",
    "# RCA\n",
    "rca_model = finalModel(X_rca_m, y_train, X_val_rca_m, y_val, learning_curves=True)"
   ]
  },
  {
   "cell_type": "code",
   "execution_count": 17,
   "metadata": {},
   "outputs": [
    {
     "name": "stdout",
     "output_type": "stream",
     "text": [
      "Fit time = 20.54640007019043\nPred time = 20.671200037002563\nrock accuracy =   0.8282"
     ]
    },
    {
     "name": "stdout",
     "output_type": "stream",
     "text": [
      "\npaper accuracy =   0.9397\nscissors accuracy =   0.8180\nokay accuracy =   0.7517\nCohen Kappa: 0.7792865086962051\nAccuracy: 0.8344707614077345\nF1 Score: 0.8352431606169386"
     ]
    },
    {
     "name": "stdout",
     "output_type": "stream",
     "text": [
      "\nPrecision: 0.8402388211231164\nRecall: 0.8344707614077345\n"
     ]
    },
    {
     "data": {
      "image/png": "[encoded data removed]",
      "text/plain": [
       "<Figure size 432x288 with 1 Axes>"
      ]
     },
     "metadata": {},
     "output_type": "display_data"
    },
    {
     "name": "stdout",
     "output_type": "stream",
     "text": [
      "time elapsed: 882.982405424118\n"
     ]
    }
   ],
   "source": [
    "clear_session() #clear the keras session - omg so important!!!!\n",
    "# TSNE\n",
    "tsne_model = finalModel(X_tsne_m, y_train, X_tsne_m, y_train, learning_curves=True)"
   ]
  },
  {
   "cell_type": "code",
   "execution_count": 17,
   "metadata": {},
   "outputs": [
    {
     "name": "stdout",
     "output_type": "stream",
     "text": [
      "yippie kai yai yay!\n"
     ]
    }
   ],
   "source": [
    "print('yippie kai yai yay!')"
   ]
  },
  {
   "cell_type": "code",
   "execution_count": null,
   "metadata": {},
   "outputs": [],
   "source": [
    "# Using GridSearchCV to find optimum settings\n",
    "time1 = time.time()\n",
    "\n",
    "# CV Settings\n",
    "useRandomCV = False\n",
    "useGridCV = False\n",
    "if useRandomCV:\n",
    "\n",
    "    # specify parameters and distributions to sample from\n",
    "    param_dist = {\"n1\": sp_randint(15, 80),\n",
    "              \"n2\": sp_randint(10, 80),\n",
    "              \"n3\": sp_randint(10, 80),              \n",
    "              \"epochs\": sp_randint(30, 60),\n",
    "              \"batch_size\": sp_randint(20, 100),\n",
    "              \"optimizer\":['rmsprop', 'nadam', 'adagrad'],\n",
    "              \"activation\": ['softmax', 'sigmoid', 'softplus']\n",
    "              }\n",
    "\n",
    "    \n",
    "    n_iter_search = 100\n",
    "    random_search = RandomizedSearchCV(model, param_distributions = param_dist, n_iter=n_iter_search, cv = 3, scoring=scorer, verbose=10)    \n",
    "    random_search.fit(X_train, y_train)\n",
    "    report(random_search.cv_results_)\n",
    "    #scores = random_search.cv_results_['mean_test_score']\n",
    "if useGridCV:\n",
    "\n",
    "    # grid setup\n",
    "    optimizers = ['adam']\n",
    "    activations = ['softplus', 'sigmoid'] #['sigmoid', 'softmax', 'softplus']\n",
    "    #inits = ['glorot_uniform', 'normal', 'uniform']\n",
    "    epochs = [15] #range(10, 100, 20)\n",
    "    batches = [33] #range(50, 500, 50)\n",
    "    n1s = [73, 75, 77]\n",
    "    n2s = [12, 14, 16]  \n",
    "    n3s = [14, 16, 18]  #3 x 3 x 3 x 2 = 54\n",
    "    param_grid = dict(nb_epoch = epochs, batch_size = batches, n1=n1s, n2=n2s, n3=n3s, optimizer=optimizers, activation = activations)\n",
    "    grid = GridSearchCV(estimator = model, param_grid=param_grid, cv=3, verbose = 10, pre_dispatch = 4, scoring = scorer)\n",
    "    grid_result = grid.fit(X_train, y_train)\n",
    "    print(\"time elapsed: {}\".format(time.time()-time1))\n",
    "    \n",
    "    best_model = grid.best_estimator_\n",
    "    print(grid.best_score_, grid.best_params_)\n",
    "    \n",
    "    # What the test accuracy by class\n",
    "    for motion_type in class_names:\n",
    "        pred_score = best_model.score(X_val[y_val.motion_type==motion_type], y_val[y_val.motion_type==motion_type])\n",
    "        print(\"{} accuracy = {p:8.4f}\".format(motion_type, p=pred_score))\n",
    "    \n",
    "    history = best_model.fit(X_train, y_train)\n",
    "    plt.plot(history.history['acc'])\n",
    "    plt.plot(history.history['loss'])\n",
    "    \n",
    "    for motion_type in class_names:\n",
    "        pred_score = best_model.score(X_val[y_val.motion_type==motion_type], y_val[y_val.motion_type==motion_type])\n",
    "        print(\"{} accuracy = {p:8.4f}\".format(motion_type, p=pred_score))\n",
    "    \n",
    "    # graphing mean training and mean test scores\n",
    "    params = grid.cv_results_['params']\n",
    "    n1 = [param['n1'] for param in params]\n",
    "    n2 = [param['n2'] for param in params]\n",
    "    plt.plot(n1, grid.cv_results_['mean_test_score'])\n",
    "    plt.plot(n2, grid.cv_results_['mean_test_score'])\n",
    "    plt.show()\n",
    "    \n",
    "    report(grid.cv_results_)\n"
   ]
  },
  {
   "cell_type": "code",
   "execution_count": null,
   "metadata": {},
   "outputs": [],
   "source": [
    "test_epochs = False\n",
    "if test_epochs:\n",
    "    test_parameter = 'Epochs'\n",
    "    n_range = range(5, 200, 5) \n",
    "    \n",
    "    scores= {}\n",
    "    scores_list = []\n",
    "    time_list = []\n",
    "    \n",
    "    for n in n_range:\n",
    "        # Motions\n",
    "        clear_session() #clear the keras session - omg so important!!!!\n",
    "        t1 = time.time()\n",
    "        print(\"looking at {} = {} on Motions Set\".format(test_parameter, n))\n",
    "        model = KerasClassifier(build_fn=classification_model, n2=n2, epochs=n, batch_size=bat, verbose=0)\n",
    "        model.fit(X_train, y_train.values.ravel('C'))\n",
    "        y_pred = model.predict(X_val)\n",
    "        scores[n] = accuracy_score(y_val, y_pred)\n",
    "        scores_list.append(scores[n])\n",
    "        print(\"took {} seconds\".format(time.time()-t1))\n",
    "        time_list.append(time.time()-t1)\n",
    "        \n",
    "    # matplotlib is clunky in trying to plot bars side by side, BUT\n",
    "    plot_lines1(scores_list, time_list, test_parameter, n_range, label='Motions', col='blue')    \n"
   ]
  },
  {
   "cell_type": "code",
   "execution_count": null,
   "metadata": {},
   "outputs": [],
   "source": [
    "plot_curves = False\n",
    "if plot_curves:\n",
    "    # Plot the learning curve of the best model found\n",
    "    # use X_train1 and use learning_curve to do the cv's\n",
    "    print(X_train.shape, y_train.shape)\n",
    "    #from sklearn.model_selection import learning_curve\n",
    "    title=\"learning curve for best model with extended epochs\"\n",
    "    \n",
    "    model3 = KerasClassifier(build_fn=classification_model, optimizer='rmsprop', epochs=epo, batch_size=bat, verbose=0)\n",
    "    model4 = KerasClassifier(build_fn=classification_model, optimizer='adam', epochs=epo, batch_size=bat, verbose=0)\n",
    "    model5 = KerasClassifier(build_fn=classification_model, optimizer='adamax', epochs=epo, batch_size=bat, verbose=0)\n",
    "    model6 = KerasClassifier(build_fn=classification_model, optimizer='adagrad', epochs=epo, batch_size=bat, verbose=0)\n",
    "\n",
    "    start = time.time()\n",
    "    history3 = model3.fit(X_train, y_train, validation_data=(X_val, y_val), verbose=0)\n",
    "    t1 = time.time()\n",
    "    history4 = model4.fit(X_train, y_train, validation_data=(X_val, y_val), verbose=0)\n",
    "    t2 = time.time()\n",
    "    history5 = model5.fit(X_train, y_train, validation_data=(X_val, y_val), verbose=0)\n",
    "    t3 = time.time()\n",
    "    history6 = model6.fit(X_train, y_train, validation_data=(X_val, y_val), verbose=0)\n",
    "    t4 = time.time()\n",
    "    \n",
    "    print(\"rmsprop time: {} adam time: {}, adamax time:{}, adagrad time: {}\".format(t1-start, t2-t1, t3-t2, t4-t3))\n",
    "    \n",
    "    x = np.arange(4)\n",
    "    plt.bar(x, [t1-start, t2-t1, t3-t2, t4-t3], color='darkorchid')\n",
    "    plt.ylabel('run time')\n",
    "    plt.xticks(x, ('rmsprop', 'adam', 'adamax', 'adagrad'))\n",
    "    plt.xlabel('num_layers')\n",
    "    plt.show()\n",
    "    \n",
    "    labels = ['train-rmsprop', 'val-rmsprop', 'train-adam', 'val-adam', 'train-adamax', 'val-adamax', 'train-adagrad', 'val-adagrad']\n",
    "    \n",
    "    # summarize history for accuracy\n",
    "    plt.plot(history3.history['acc'])\n",
    "    plt.plot(history3.history['val_acc'])\n",
    "    \n",
    "    plt.plot(history4.history['acc'])\n",
    "    plt.plot(history4.history['val_acc'])\n",
    "    \n",
    "    plt.plot(history5.history['acc'])\n",
    "    plt.plot(history5.history['val_acc'])\n",
    "    \n",
    "    plt.plot(history6.history['acc'])\n",
    "    plt.plot(history6.history['val_acc'])\n",
    "    \n",
    "    plt.title('model accuracy')\n",
    "    plt.ylabel('accuracy')\n",
    "    plt.xlabel('epoch')\n",
    "    plt.legend(labels, loc='lower right')\n",
    "    plt.show()\n",
    "    # summarize history for loss\n",
    "    plt.plot(history3.history['loss'])\n",
    "    plt.plot(history3.history['val_loss'])\n",
    "    \n",
    "    plt.plot(history4.history['loss'])\n",
    "    plt.plot(history4.history['val_loss'])\n",
    "    \n",
    "    plt.plot(history5.history['loss'])\n",
    "    plt.plot(history5.history['val_loss'])\n",
    "    \n",
    "    plt.plot(history6.history['loss'])\n",
    "    plt.plot(history6.history['val_loss'])\n",
    "    \n",
    "    \n",
    "    plt.title('model loss')\n",
    "    plt.ylabel('loss')\n",
    "    plt.xlabel('epoch')\n",
    "    plt.ylim(0, 1.5)\n",
    "    plt.legend(labels, loc='upper right')\n",
    "    plt.show()"
   ]
  },
  {
   "cell_type": "code",
   "execution_count": 14,
   "metadata": {},
   "outputs": [],
   "source": [
    "#Build the model\n",
    "useLeakyReLU = True  # as an \"advanced\" activation function, it must be added as its own layer not as a parameter on another layer\n",
    "\n",
    "if useLeakyReLU == False:\n",
    "    def classification_model(n1=n1, n2=n2, n3 =n2, input_dim=64, mid_act = mid_act, num_layers = num_layers, optimizer = optimizer, activation = activation):\n",
    "        model = Sequential()\n",
    "        model.add(Dense(n1, input_dim=input_dim, activation=mid_act))\n",
    "        model.add(Dense(n2, activation=mid_act))\n",
    "        for i in range(num_layers-2):\n",
    "            model.add(Dense(n3, activation=mid_act))\n",
    "        model.add(Dense(4, activation=activation))\n",
    "        model.compile(optimizer= optimizer,\n",
    "                      loss='sparse_categorical_crossentropy',\n",
    "                      metrics=['accuracy'])\n",
    "        return model\n",
    "else:\n",
    "    def classification_model(n1=n1, n2=n2, n3 =n2, input_dim=64, mid_act = mid_act, num_layers = num_layers, optimizer = optimizer, activation = activation):\n",
    "        model = Sequential()\n",
    "        model.add(Dense(n1, input_dim=input_dim))\n",
    "        model.add(LeakyReLU())\n",
    "        model.add(Dense(n2))\n",
    "        model.add(LeakyReLU())\n",
    "        for i in range(num_layers-2):\n",
    "            model.add(Dense(n3))\n",
    "            model.add(LeakyReLU())\n",
    "        model.add(Dense(4, activation=activation))\n",
    "        model.compile(optimizer= optimizer,\n",
    "                      loss='sparse_categorical_crossentropy',\n",
    "                      metrics=['accuracy'])\n",
    "        return model\n",
    "\n",
    "#model = KerasClassifier(build_fn=classification_model, epochs=epo, batch_size=bat, verbose=0)\n",
    "\n",
    "scorer = make_scorer(cohen_kappa_score)"
   ]
  },
  {
   "cell_type": "code",
   "execution_count": 15,
   "metadata": {},
   "outputs": [],
   "source": [
    "# Final Model\n",
    "#finalModel = True\n",
    "def finalModel(X_train, y_train, X_test, y_test, learning_curves = True, \n",
    "               classification_model=classification_model, class_names=class_names):\n",
    "    clear_session()\n",
    "    ########## BEST FOUND PARAMETERS from HW1 #####\n",
    "    n1 = 75\n",
    "    n2 = 14\n",
    "    mid_act = 'relu' #useleakyrelu is enabled...\n",
    "    num_layers = 3\n",
    "    optimizer = 'adam'\n",
    "    activation = 'sigmoid' \n",
    "    epo = 100 #10\n",
    "    bat = 44 #18\n",
    "    ##############################################\n",
    "    t0 = time.time()\n",
    "    best_model = KerasClassifier(build_fn=classification_model, input_dim=X_train.shape[1], verbose=0)\n",
    "    #model3 = KerasClassifier(build_fn=classification_model, optimizer='rmsprop', epochs=epo, batch_size=bat, verbose=0)\n",
    "    \n",
    "    t_fit = time.time()\n",
    "    best_model.fit(X_train, y_train, batch_size=bat, epochs=epo)  #train on the whole training set\n",
    "    print(\"Fit time = {}\".format(time.time()-t_fit))\n",
    "    t_pred = time.time()\n",
    "    y_pred = best_model.predict(X_test)\n",
    "    print(\"Pred time = {}\".format(time.time()-t_fit))\n",
    "    for motion_type in class_names:\n",
    "        pred_score = best_model.score(X_test[y_test == motion_type], y_test[y_test == motion_type])\n",
    "        print(\"{} accuracy = {p:8.4f}\".format(motion_type, p=pred_score))\n",
    "    print(\"Cohen Kappa: {}\".format(cohen_kappa_score(y_pred, y_test)))   \n",
    "    print(\"Accuracy: {}\".format(accuracy_score(y_pred, y_test)))\n",
    "    print(\"F1 Score: {}\".format(f1_score(y_pred, y_test, average='weighted')))\n",
    "    print(\"Precision: {}\".format(precision_score(y_pred, y_test, average='weighted')))\n",
    "    print(\"Recall: {}\".format(recall_score(y_pred, y_test, average='weighted')))\n",
    "\n",
    "    #learning_curves = True\n",
    "    if learning_curves:\n",
    "        clear_session()\n",
    "        estimator = KerasClassifier(build_fn=classification_model, input_dim=X_train.shape[1], epochs=epo, batch_size=bat, verbose=0)\n",
    "        #scorer = make_scorer(cohen_kappa_score)\n",
    "        plot_learning_curves(estimator, X_train, y_train, title = \"Neural Network - Motions Set - Post-Tuning Learning Curves\", low_limit=0.0, ravel=False)\n",
    "    \n",
    "    \n",
    "    print(\"time elapsed: {}\".format(time.time()-t0))\n",
    "    \n",
    "    return best_model"
   ]
  },
  {
   "cell_type": "code",
   "execution_count": null,
   "metadata": {},
   "outputs": [],
   "source": [
    "# References\n",
    "# https://www.tensorflow.org/tutorials/keras/basic_classification\n",
    "# https://machinelearningmastery.com/multi-class-classification-tutorial-keras-deep-learning-library/\n",
    "# http://thedatascientist.com/performance-measures-cohens-kappa-statistic/\n",
    "# https://machinelearningmastery.com/display-deep-learning-model-training-history-in-keras/\n",
    "# https://scikit-learn.org/stable/auto_examples/model_selection/plot_randomized_search.html#sphx-glr-auto-examples-model-selection-plot-randomized-search-py"
   ]
  }
 ],
 "metadata": {
  "kernelspec": {
   "display_name": "Python 2",
   "language": "python",
   "name": "python2"
  },
  "language_info": {
   "codemirror_mode": {
    "name": "ipython",
    "version": 2
   },
   "file_extension": ".py",
   "mimetype": "text/x-python",
   "name": "python",
   "nbconvert_exporter": "python",
   "pygments_lexer": "ipython2",
   "version": "2.7.6"
  }
 },
 "nbformat": 4,
 "nbformat_minor": 0
}
